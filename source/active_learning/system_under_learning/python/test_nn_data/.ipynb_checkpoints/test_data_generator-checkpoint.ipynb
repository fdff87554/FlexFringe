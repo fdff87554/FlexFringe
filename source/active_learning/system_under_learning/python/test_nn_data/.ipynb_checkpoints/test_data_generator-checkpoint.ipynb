{
 "cells": [
  {
   "cell_type": "code",
   "execution_count": 3,
   "id": "4b114388",
   "metadata": {},
   "outputs": [],
   "source": [
    "\"\"\"\n",
    "We sample strings randomly from a DFA to get regular languages. Steps: \n",
    "1. Design a DFA (regular language). \n",
    "2. Sample randomly. \n",
    "3. Write to output\n",
    "\"\"\"\n",
    "\n",
    "import random\n",
    "\n",
    "from automata.fa.dfa import DFA\n",
    "from visual_automata.fa.dfa import VisualDFA\n",
    "\n",
    "MAX_NUMBER_PER_STRING_TYPE = int(20e3) # for both accepting and rejecting\n",
    "STRING_SIZE = 8 # the size of the strings we want to generate\n",
    "\n",
    "OUTF_NAME = \"test1.dat\""
   ]
  },
  {
   "cell_type": "code",
   "execution_count": 4,
   "id": "5d433960",
   "metadata": {},
   "outputs": [],
   "source": [
    "# this one accepts any string ending with 00 or 11, taken from https://pypi.org/project/visual-automata/#visualdfa\n",
    "\n",
    "dfa = DFA(\n",
    "    states={\"q0\", \"q1\", \"q2\", \"q3\", \"q4\"},\n",
    "    input_symbols={\"0\", \"1\"},\n",
    "    transitions={\n",
    "        \"q0\": {\"0\": \"q3\", \"1\": \"q1\"},\n",
    "        \"q1\": {\"0\": \"q3\", \"1\": \"q2\"},\n",
    "        \"q2\": {\"0\": \"q3\", \"1\": \"q2\"},\n",
    "        \"q3\": {\"0\": \"q4\", \"1\": \"q1\"},\n",
    "        \"q4\": {\"0\": \"q4\", \"1\": \"q1\"},\n",
    "    },\n",
    "    initial_state=\"q0\",\n",
    "    final_states={\"q2\", \"q4\"},\n",
    ")\n",
    "\n",
    "#dfa_visual = VisualDFA(dfa)\n",
    "#dfa_visual.show_diagram()"
   ]
  },
  {
   "cell_type": "code",
   "execution_count": 5,
   "id": "aede0882",
   "metadata": {},
   "outputs": [
    {
     "data": {
      "text/plain": [
       "False"
      ]
     },
     "execution_count": 5,
     "metadata": {},
     "output_type": "execute_result"
    }
   ],
   "source": [
    "dfa.accepts_input(\"101\")"
   ]
  },
  {
   "cell_type": "code",
   "execution_count": 6,
   "id": "6c6e5420",
   "metadata": {},
   "outputs": [
    {
     "data": {
      "text/plain": [
       "['1', '0']"
      ]
     },
     "execution_count": 6,
     "metadata": {},
     "output_type": "execute_result"
    }
   ],
   "source": [
    "input_alphabet = list(dfa.input_symbols)\n",
    "input_alphabet"
   ]
  },
  {
   "cell_type": "code",
   "execution_count": 11,
   "id": "f3cd210b",
   "metadata": {},
   "outputs": [
    {
     "name": "stdout",
     "output_type": "stream",
     "text": [
      "Accepting strings:  1000\n",
      "Rejecting strings:  1000\n",
      "Accepting strings:  2000\n",
      "Rejecting strings:  2000\n",
      "Accepting strings:  3000\n",
      "Rejecting strings:  3000\n",
      "Accepting strings:  4000\n",
      "Rejecting strings:  4000\n",
      "Accepting strings:  5000\n",
      "Rejecting strings:  5000\n",
      "Rejecting strings:  6000\n",
      "Accepting strings:  6000\n",
      "Rejecting strings:  7000\n",
      "Accepting strings:  7000\n",
      "Rejecting strings:  8000\n",
      "Accepting strings:  8000\n",
      "Rejecting strings:  9000\n",
      "Accepting strings:  9000\n",
      "Rejecting strings:  10000\n",
      "Accepting strings:  10000\n",
      "Rejecting strings:  11000\n",
      "Accepting strings:  11000\n",
      "Rejecting strings:  12000\n",
      "Accepting strings:  12000\n",
      "Rejecting strings:  13000\n",
      "Accepting strings:  13000\n",
      "Rejecting strings:  14000\n",
      "Accepting strings:  14000\n",
      "Rejecting strings:  15000\n",
      "Accepting strings:  15000\n",
      "Rejecting strings:  16000\n",
      "Accepting strings:  16000\n",
      "Rejecting strings:  17000\n",
      "Accepting strings:  17000\n",
      "Rejecting strings:  18000\n",
      "Accepting strings:  18000\n",
      "Accepting strings:  19000\n",
      "Rejecting strings:  19000\n",
      "Accepting strings:  20000\n"
     ]
    }
   ],
   "source": [
    "def generate_random_string(alphabet, size):\n",
    "    \"\"\"\n",
    "    alphabet: list(string)\n",
    "    size: int\n",
    "    \"\"\"\n",
    "    res = \"\"\n",
    "    for i in range(size):\n",
    "        res += random.choice(alphabet)\n",
    "    return res\n",
    "\n",
    "accepting_counter = 0\n",
    "rejecting_counter = 0\n",
    "\n",
    "strings = list()\n",
    "labels = list()\n",
    "\n",
    "while accepting_counter < MAX_NUMBER_PER_STRING_TYPE and rejecting_counter < MAX_NUMBER_PER_STRING_TYPE:\n",
    "    s = generate_random_string(input_alphabet, STRING_SIZE)\n",
    "    if dfa.accepts_input(s) and accepting_counter < MAX_NUMBER_PER_STRING_TYPE:\n",
    "        strings.append(s)\n",
    "        labels.append(\"1\")\n",
    "        \n",
    "        accepting_counter += 1\n",
    "        if accepting_counter % 1000 == 0:\n",
    "            print(\"Accepting strings: \", accepting_counter)\n",
    "            \n",
    "    elif not dfa.accepts_input(s) and rejecting_counter < MAX_NUMBER_PER_STRING_TYPE:\n",
    "        strings.append(s)\n",
    "        labels.append(\"0\")\n",
    "        \n",
    "        rejecting_counter += 1\n",
    "        if rejecting_counter % 1000 == 0:\n",
    "            print(\"Rejecting strings: \", rejecting_counter)"
   ]
  },
  {
   "cell_type": "code",
   "execution_count": 16,
   "id": "c900ae5e",
   "metadata": {},
   "outputs": [],
   "source": [
    "with open(OUTF_NAME, \"wt\") as outf:\n",
    "    outf.write(\"{} {}\".format(len(strings), len(input_alphabet)))\n",
    "    for s, l in zip(strings, labels):\n",
    "        outf.write(\"\\n{} {} {}\".format(l, len(s), \" \".join(s)))"
   ]
  }
 ],
 "metadata": {
  "kernelspec": {
   "display_name": "Python 3 (ipykernel)",
   "language": "python",
   "name": "python3"
  },
  "language_info": {
   "codemirror_mode": {
    "name": "ipython",
    "version": 3
   },
   "file_extension": ".py",
   "mimetype": "text/x-python",
   "name": "python",
   "nbconvert_exporter": "python",
   "pygments_lexer": "ipython3",
   "version": "3.10.9"
  }
 },
 "nbformat": 4,
 "nbformat_minor": 5
}
