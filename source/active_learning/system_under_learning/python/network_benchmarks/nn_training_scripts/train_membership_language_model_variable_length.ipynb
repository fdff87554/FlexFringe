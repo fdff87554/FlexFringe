{
 "cells": [
  {
   "cell_type": "code",
   "execution_count": 1,
   "id": "819eb27e",
   "metadata": {},
   "outputs": [
    {
     "name": "stderr",
     "output_type": "stream",
     "text": [
      "2023-08-08 14:15:08.546082: I tensorflow/core/platform/cpu_feature_guard.cc:182] This TensorFlow binary is optimized to use available CPU instructions in performance-critical operations.\n",
      "To enable the following instructions: AVX2 FMA, in other operations, rebuild TensorFlow with the appropriate compiler flags.\n"
     ]
    }
   ],
   "source": [
    "import numpy as np\n",
    "\n",
    "import tensorflow.keras\n",
    "from tensorflow.keras.models import Model\n",
    "from tensorflow.keras.layers import Dense, Input, Reshape\n",
    "from tensorflow.keras.layers import LSTM, Bidirectional\n",
    "from tensorflow.keras.callbacks import EarlyStopping\n",
    "\n",
    "import pickle as pk\n",
    "\n",
    "BATCH_SIZE = 32\n",
    "EPOCHS = 20\n",
    "VALIDATION_SPLIT = 0.02\n",
    "    \n",
    "INPUT_DATA = \"../data/problem_1_train.dat\"\n",
    "MODEL_NAME = \"model_problem_1.keras\""
   ]
  },
  {
   "cell_type": "code",
   "execution_count": 2,
   "id": "47a47a42",
   "metadata": {},
   "outputs": [
    {
     "name": "stdout",
     "output_type": "stream",
     "text": [
      "Line:  0\n",
      "Line:  10000\n",
      "Line:  20000\n",
      "Line:  30000\n"
     ]
    },
    {
     "data": {
      "text/plain": [
       "(35621, 35621, {0, 1})"
      ]
     },
     "execution_count": 2,
     "metadata": {},
     "output_type": "execute_result"
    }
   ],
   "source": [
    "labels = list()\n",
    "sequences = list()\n",
    "alphabet = set()\n",
    "\n",
    "with open(INPUT_DATA, \"rt\") as inf:\n",
    "    inf.readline() # kill the header\n",
    "    for i, line in enumerate(inf):\n",
    "        if len(line.strip()) == 0:\n",
    "            continue\n",
    "        line = line.split()\n",
    "        labels.append(int(line[0]))\n",
    "        sequences.append(np.array(list( int(x) for x in line[2:] ), dtype=np.int32) )\n",
    "        alphabet = alphabet.union(set( int(x) for x in line[2:] ))\n",
    "        if i % int(10e3) == 0:\n",
    "            print(\"Line: \", i)\n",
    "len(labels), len(sequences), alphabet"
   ]
  },
  {
   "cell_type": "code",
   "execution_count": 3,
   "id": "c546c322",
   "metadata": {},
   "outputs": [
    {
     "data": {
      "text/plain": [
       "(array([1, 0, 1, 1, 0, 1, 1, 1], dtype=int32),\n",
       " array([0, 0, 1, 0, 1, 0, 0], dtype=int32),\n",
       " array([1, 1, 0, 1, 0, 0], dtype=int32),\n",
       " array([1, 1, 1, 1, 0, 1], dtype=int32),\n",
       " array([0, 0, 1, 1, 1], dtype=int32))"
      ]
     },
     "execution_count": 3,
     "metadata": {},
     "output_type": "execute_result"
    }
   ],
   "source": [
    "sequences[0], sequences[1], sequences[2], sequences[3], sequences[4]"
   ]
  },
  {
   "cell_type": "code",
   "execution_count": 4,
   "id": "9f367967",
   "metadata": {},
   "outputs": [
    {
     "data": {
      "text/plain": [
       "(35621, (35621, 1), {0: 0, 1: 1})"
      ]
     },
     "execution_count": 4,
     "metadata": {},
     "output_type": "execute_result"
    }
   ],
   "source": [
    "labels = np.array(labels).reshape(-1, 1)\n",
    "alphabet_map = {symbol: index for index, symbol in enumerate(alphabet)}\n",
    "\n",
    "pk.dump(alphabet_map, open(\"alphabet_mapping.pk\", \"wb\"))\n",
    "\n",
    "len(sequences), labels.shape, alphabet_map"
   ]
  },
  {
   "cell_type": "code",
   "execution_count": 5,
   "id": "62b38998",
   "metadata": {},
   "outputs": [
    {
     "name": "stdout",
     "output_type": "stream",
     "text": [
      "Before:  35621\n",
      "Shape:  [array([1, 0, 1, 1, 0, 1, 1, 1], dtype=int32), array([0, 0, 1, 0, 1, 0, 0], dtype=int32)]\n",
      "After:  35621\n",
      "Shape:  [array([[[0, 1],\n",
      "        [1, 0],\n",
      "        [0, 1],\n",
      "        [0, 1],\n",
      "        [1, 0],\n",
      "        [0, 1],\n",
      "        [0, 1],\n",
      "        [0, 1]]], dtype=int32), array([[[1, 0],\n",
      "        [1, 0],\n",
      "        [0, 1],\n",
      "        [1, 0],\n",
      "        [0, 1],\n",
      "        [1, 0],\n",
      "        [1, 0]]], dtype=int32)]\n"
     ]
    }
   ],
   "source": [
    "sequences_one_hot = list() # np.zeros((sequences.shape[0], sequences.shape[1], len(alphabet)))\n",
    "for i, seq in enumerate(sequences):\n",
    "    new_sequence = np.zeros((1, len(seq), len(alphabet)), dtype=np.int32)\n",
    "    for j, sym in enumerate(seq):\n",
    "        new_sequence[0, j, alphabet_map[sym]] = 1\n",
    "    sequences_one_hot.append(new_sequence)\n",
    "        \n",
    "print(\"Before: \", len(sequences))\n",
    "print(\"Shape: \", sequences[:2])\n",
    "print(\"After: \", len(sequences_one_hot))\n",
    "print(\"Shape: \", sequences_one_hot[:2])"
   ]
  },
  {
   "cell_type": "code",
   "execution_count": 6,
   "id": "53f5f87d",
   "metadata": {},
   "outputs": [
    {
     "data": {
      "text/plain": [
       "((1, 8, 2), 35621, (35621, 1))"
      ]
     },
     "execution_count": 6,
     "metadata": {},
     "output_type": "execute_result"
    }
   ],
   "source": [
    "sequences_one_hot[0].shape, len(sequences_one_hot), labels.shape"
   ]
  },
  {
   "cell_type": "code",
   "execution_count": 7,
   "id": "aa8a9110",
   "metadata": {},
   "outputs": [],
   "source": [
    "def get_model(input_shape):\n",
    "    OUTPUT_DIM = 1 # sigmoid output\n",
    "\n",
    "    input_layer = Input(shape=input_shape)\n",
    "    \n",
    "    x = Bidirectional(LSTM(4))(input_layer)\n",
    "    x = Dense(OUTPUT_DIM, activation=\"sigmoid\")(x)\n",
    "    x_out = Reshape((1,1))(x)\n",
    "    model = Model(input_layer, x_out)\n",
    "\n",
    "    model.compile(\n",
    "        loss=\"binary_crossentropy\",\n",
    "        optimizer=\"adam\",\n",
    "        metrics=[\"binary_crossentropy\"]\n",
    "    )\n",
    "    return model"
   ]
  },
  {
   "cell_type": "code",
   "execution_count": 8,
   "id": "a738f97b",
   "metadata": {},
   "outputs": [],
   "source": [
    "# because we have arrays of different length we have to use the fit_generator() method\n",
    "\n",
    "def data_generator():\n",
    "    global sequences_one_hot\n",
    "    global labels\n",
    "    \n",
    "    idx = 0\n",
    "    while True:\n",
    "        if idx == len(sequences_one_hot):\n",
    "            idx = 0\n",
    "        yield sequences_one_hot[idx], labels[idx]\n",
    "        idx += 1"
   ]
  },
  {
   "cell_type": "code",
   "execution_count": 9,
   "id": "5b6cd0d0",
   "metadata": {},
   "outputs": [
    {
     "name": "stdout",
     "output_type": "stream",
     "text": [
      "Epoch 1/20\n",
      "1099/1113 [============================>.] - ETA: 0s - loss: 0.6899 - binary_crossentropy: 0.6899WARNING:tensorflow:Early stopping conditioned on metric `val_loss` which is not available. Available metrics are: loss,binary_crossentropy\n",
      "1113/1113 [==============================] - 4s 2ms/step - loss: 0.6898 - binary_crossentropy: 0.6898\n",
      "Epoch 2/20\n",
      "1101/1113 [============================>.] - ETA: 0s - loss: 0.6722 - binary_crossentropy: 0.6722WARNING:tensorflow:Early stopping conditioned on metric `val_loss` which is not available. Available metrics are: loss,binary_crossentropy\n",
      "1113/1113 [==============================] - 2s 2ms/step - loss: 0.6717 - binary_crossentropy: 0.6717\n",
      "Epoch 3/20\n",
      "1099/1113 [============================>.] - ETA: 0s - loss: 0.6209 - binary_crossentropy: 0.6209WARNING:tensorflow:Early stopping conditioned on metric `val_loss` which is not available. Available metrics are: loss,binary_crossentropy\n",
      "1113/1113 [==============================] - 2s 2ms/step - loss: 0.6201 - binary_crossentropy: 0.6201\n",
      "Epoch 4/20\n",
      "1109/1113 [============================>.] - ETA: 0s - loss: 0.4270 - binary_crossentropy: 0.4270WARNING:tensorflow:Early stopping conditioned on metric `val_loss` which is not available. Available metrics are: loss,binary_crossentropy\n",
      "1113/1113 [==============================] - 2s 2ms/step - loss: 0.4260 - binary_crossentropy: 0.4260\n",
      "Epoch 5/20\n",
      "1105/1113 [============================>.] - ETA: 0s - loss: 0.1970 - binary_crossentropy: 0.1970WARNING:tensorflow:Early stopping conditioned on metric `val_loss` which is not available. Available metrics are: loss,binary_crossentropy\n",
      "1113/1113 [==============================] - 2s 2ms/step - loss: 0.1964 - binary_crossentropy: 0.1964\n",
      "Epoch 6/20\n",
      "1107/1113 [============================>.] - ETA: 0s - loss: 0.1001 - binary_crossentropy: 0.1001WARNING:tensorflow:Early stopping conditioned on metric `val_loss` which is not available. Available metrics are: loss,binary_crossentropy\n",
      "1113/1113 [==============================] - 2s 2ms/step - loss: 0.0999 - binary_crossentropy: 0.0999\n",
      "Epoch 7/20\n",
      "1110/1113 [============================>.] - ETA: 0s - loss: 0.0581 - binary_crossentropy: 0.0581WARNING:tensorflow:Early stopping conditioned on metric `val_loss` which is not available. Available metrics are: loss,binary_crossentropy\n",
      "1113/1113 [==============================] - 2s 2ms/step - loss: 0.0581 - binary_crossentropy: 0.0581\n",
      "Epoch 8/20\n",
      "1107/1113 [============================>.] - ETA: 0s - loss: 0.0317 - binary_crossentropy: 0.0317WARNING:tensorflow:Early stopping conditioned on metric `val_loss` which is not available. Available metrics are: loss,binary_crossentropy\n",
      "1113/1113 [==============================] - 2s 2ms/step - loss: 0.0317 - binary_crossentropy: 0.0317\n",
      "Epoch 9/20\n",
      "1109/1113 [============================>.] - ETA: 0s - loss: 0.0181 - binary_crossentropy: 0.0181WARNING:tensorflow:Early stopping conditioned on metric `val_loss` which is not available. Available metrics are: loss,binary_crossentropy\n",
      "1113/1113 [==============================] - 2s 2ms/step - loss: 0.0181 - binary_crossentropy: 0.0181\n",
      "Epoch 10/20\n",
      "1095/1113 [============================>.] - ETA: 0s - loss: 0.0112 - binary_crossentropy: 0.0112WARNING:tensorflow:Early stopping conditioned on metric `val_loss` which is not available. Available metrics are: loss,binary_crossentropy\n",
      "1113/1113 [==============================] - 2s 2ms/step - loss: 0.0112 - binary_crossentropy: 0.0112\n",
      "Epoch 11/20\n",
      "1108/1113 [============================>.] - ETA: 0s - loss: 0.0062 - binary_crossentropy: 0.0062WARNING:tensorflow:Early stopping conditioned on metric `val_loss` which is not available. Available metrics are: loss,binary_crossentropy\n",
      "1113/1113 [==============================] - 2s 2ms/step - loss: 0.0062 - binary_crossentropy: 0.0062\n",
      "Epoch 12/20\n",
      "1104/1113 [============================>.] - ETA: 0s - loss: 0.0034 - binary_crossentropy: 0.0034WARNING:tensorflow:Early stopping conditioned on metric `val_loss` which is not available. Available metrics are: loss,binary_crossentropy\n",
      "1113/1113 [==============================] - 2s 2ms/step - loss: 0.0034 - binary_crossentropy: 0.0034\n",
      "Epoch 13/20\n",
      "1110/1113 [============================>.] - ETA: 0s - loss: 0.0022 - binary_crossentropy: 0.0022WARNING:tensorflow:Early stopping conditioned on metric `val_loss` which is not available. Available metrics are: loss,binary_crossentropy\n",
      "1113/1113 [==============================] - 2s 2ms/step - loss: 0.0022 - binary_crossentropy: 0.0022\n",
      "Epoch 14/20\n",
      "1096/1113 [============================>.] - ETA: 0s - loss: 0.0014 - binary_crossentropy: 0.0014WARNING:tensorflow:Early stopping conditioned on metric `val_loss` which is not available. Available metrics are: loss,binary_crossentropy\n",
      "1113/1113 [==============================] - 2s 2ms/step - loss: 0.0013 - binary_crossentropy: 0.0013\n",
      "Epoch 15/20\n",
      "1091/1113 [============================>.] - ETA: 0s - loss: 7.9331e-04 - binary_crossentropy: 7.9331e-04WARNING:tensorflow:Early stopping conditioned on metric `val_loss` which is not available. Available metrics are: loss,binary_crossentropy\n",
      "1113/1113 [==============================] - 2s 2ms/step - loss: 7.8482e-04 - binary_crossentropy: 7.8482e-04\n",
      "Epoch 16/20\n",
      "1097/1113 [============================>.] - ETA: 0s - loss: 5.4645e-04 - binary_crossentropy: 5.4645e-04WARNING:tensorflow:Early stopping conditioned on metric `val_loss` which is not available. Available metrics are: loss,binary_crossentropy\n",
      "1113/1113 [==============================] - 2s 2ms/step - loss: 5.4817e-04 - binary_crossentropy: 5.4817e-04\n",
      "Epoch 17/20\n",
      "1111/1113 [============================>.] - ETA: 0s - loss: 2.9610e-04 - binary_crossentropy: 2.9610e-04WARNING:tensorflow:Early stopping conditioned on metric `val_loss` which is not available. Available metrics are: loss,binary_crossentropy\n",
      "1113/1113 [==============================] - 2s 2ms/step - loss: 2.9559e-04 - binary_crossentropy: 2.9559e-04\n",
      "Epoch 18/20\n",
      "1113/1113 [==============================] - ETA: 0s - loss: 2.0126e-04 - binary_crossentropy: 2.0126e-04WARNING:tensorflow:Early stopping conditioned on metric `val_loss` which is not available. Available metrics are: loss,binary_crossentropy\n",
      "1113/1113 [==============================] - 2s 2ms/step - loss: 2.0126e-04 - binary_crossentropy: 2.0126e-04\n",
      "Epoch 19/20\n",
      "1103/1113 [============================>.] - ETA: 0s - loss: 1.1793e-04 - binary_crossentropy: 1.1793e-04WARNING:tensorflow:Early stopping conditioned on metric `val_loss` which is not available. Available metrics are: loss,binary_crossentropy\n",
      "1113/1113 [==============================] - 2s 2ms/step - loss: 1.1718e-04 - binary_crossentropy: 1.1718e-04\n",
      "Epoch 20/20\n",
      "1106/1113 [============================>.] - ETA: 0s - loss: 7.1729e-05 - binary_crossentropy: 7.1729e-05WARNING:tensorflow:Early stopping conditioned on metric `val_loss` which is not available. Available metrics are: loss,binary_crossentropy\n",
      "1113/1113 [==============================] - 2s 2ms/step - loss: 7.1550e-05 - binary_crossentropy: 7.1550e-05\n"
     ]
    },
    {
     "data": {
      "text/plain": [
       "<keras.src.callbacks.History at 0x7f12706882b0>"
      ]
     },
     "execution_count": 9,
     "metadata": {},
     "output_type": "execute_result"
    }
   ],
   "source": [
    "model = get_model(( None, len(alphabet) ))\n",
    "\n",
    "es = EarlyStopping(\n",
    "    monitor=\"val_loss\",\n",
    "    patience=1,\n",
    "    mode=\"auto\")\n",
    "\n",
    "data_gen = data_generator()\n",
    "\n",
    "model.fit(\n",
    "    data_gen,\n",
    "    steps_per_epoch=int(len(sequences_one_hot) / BATCH_SIZE),\n",
    "    epochs=EPOCHS,\n",
    "    #validation_split=VALIDATION_SPLIT,\n",
    "    callbacks=[es]\n",
    ")"
   ]
  },
  {
   "cell_type": "code",
   "execution_count": 10,
   "id": "f3f99c45",
   "metadata": {},
   "outputs": [],
   "source": [
    "model.save(MODEL_NAME)"
   ]
  }
 ],
 "metadata": {
  "kernelspec": {
   "display_name": "Python 3 (ipykernel)",
   "language": "python",
   "name": "python3"
  },
  "language_info": {
   "codemirror_mode": {
    "name": "ipython",
    "version": 3
   },
   "file_extension": ".py",
   "mimetype": "text/x-python",
   "name": "python",
   "nbconvert_exporter": "python",
   "pygments_lexer": "ipython3",
   "version": "3.10.9"
  }
 },
 "nbformat": 4,
 "nbformat_minor": 5
}
