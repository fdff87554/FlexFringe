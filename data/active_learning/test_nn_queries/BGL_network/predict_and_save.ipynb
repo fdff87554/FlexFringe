{
 "cells": [
  {
   "cell_type": "code",
   "execution_count": 1,
   "id": "c92f5594-2e9e-439a-ae3a-9a1661eed510",
   "metadata": {},
   "outputs": [
    {
     "name": "stderr",
     "output_type": "stream",
     "text": [
      "2024-01-02 15:51:59.929923: I tensorflow/core/platform/cpu_feature_guard.cc:182] This TensorFlow binary is optimized to use available CPU instructions in performance-critical operations.\n",
      "To enable the following instructions: AVX2 FMA, in other operations, rebuild TensorFlow with the appropriate compiler flags.\n"
     ]
    }
   ],
   "source": [
    "import numpy as np\n",
    "import pickle as pk\n",
    "\n",
    "import tensorflow.keras\n",
    "from tensorflow.keras.models import load_model\n",
    "    \n",
    "test_data_path = \"test_data.pk\"\n",
    "MODEL_NAME = \"model.keras\"\n",
    "\n",
    "model = load_model(MODEL_NAME)"
   ]
  },
  {
   "cell_type": "code",
   "execution_count": 2,
   "id": "fbc73304-6e82-4f92-8d51-f34ddac7a54a",
   "metadata": {},
   "outputs": [
    {
     "data": {
      "text/plain": [
       "(1732222, 1732222)"
      ]
     },
     "execution_count": 2,
     "metadata": {},
     "output_type": "execute_result"
    }
   ],
   "source": [
    "test_data = pk.load(open(test_data_path, \"rb\"))\n",
    "X_test = test_data[\"X\"]\n",
    "alphabet_size = test_data[\"alphabet_size\"]\n",
    "\n",
    "y_test = test_data[\"y\"]\n",
    "event_mapping = test_data[\"event_mapping\"]\n",
    "\n",
    "len(X_test),len(y_test)"
   ]
  },
  {
   "cell_type": "markdown",
   "id": "1a76554c-4f1f-4b26-9850-7eed3bc94b1e",
   "metadata": {},
   "source": [
    "X_pred = list()\n",
    "for idx, seq in enumerate(X_test):\n",
    "    current_prediction = None\n",
    "    for i in range(len(seq)):\n",
    "        pred = model(np.array(seq[:i+1]))\n",
    "        if current_prediction is None:\n",
    "            current_prediction = pred\n",
    "        else:\n",
    "            current_prediction = np.vstack((current_prediction, pred))\n",
    "    X_pred.append(current_prediction)\n",
    "    break\n",
    "    if idx % 1000 == 0:\n",
    "        print(idx)\n",
    "    if idx == 15000:\n",
    "        break"
   ]
  },
  {
   "cell_type": "code",
   "execution_count": 3,
   "id": "d8c69532-488f-4d05-95cd-aa85883d5402",
   "metadata": {},
   "outputs": [
    {
     "name": "stdout",
     "output_type": "stream",
     "text": [
      "0\n",
      "5000\n",
      "10000\n",
      "15000\n",
      "282.46046023799863\n"
     ]
    }
   ],
   "source": [
    "import timeit\n",
    "import copy\n",
    "start_time = timeit.default_timer()\n",
    "\n",
    "X_pred = list()\n",
    "for idx, seq in enumerate(X_test):\n",
    "\n",
    "    x_src = copy.copy(seq)\n",
    "    x_src.insert(0, event_mapping[\"<SOS>\"])\n",
    "    \n",
    "    current_prediction = model(np.array(x_src))\n",
    "\n",
    "    #print(x_src)\n",
    "    #for i in range(current_prediction.shape[0]):\n",
    "    #    print(np.argmax(current_prediction[i]))\n",
    "    #raise Exception(\"Stop\")\n",
    "\n",
    "    X_pred.append(current_prediction)\n",
    "    if idx % 5000 == 0:\n",
    "        print(idx)\n",
    "    if idx == 15000: # TODO: do more here\n",
    "        break\n",
    "\n",
    "elapsed_time = timeit.default_timer() - start_time\n",
    "print(elapsed_time)"
   ]
  },
  {
   "cell_type": "code",
   "execution_count": 4,
   "id": "e0a48ef6-82c0-4c0a-82bf-2b5c0a038454",
   "metadata": {},
   "outputs": [
    {
     "data": {
      "text/plain": [
       "268"
      ]
     },
     "execution_count": 4,
     "metadata": {},
     "output_type": "execute_result"
    }
   ],
   "source": [
    "event_mapping[\"<SOS>\"]"
   ]
  },
  {
   "cell_type": "code",
   "execution_count": 5,
   "id": "12d0c787-0c72-4b8b-b9ad-2250cbc5eb07",
   "metadata": {},
   "outputs": [
    {
     "data": {
      "text/plain": [
       "([13, 13, 13, 13, 13, 13, 55, 55, 13, 13], TensorShape([11, 321]))"
      ]
     },
     "execution_count": 5,
     "metadata": {},
     "output_type": "execute_result"
    }
   ],
   "source": [
    "X_test[0], X_pred[0].shape"
   ]
  },
  {
   "cell_type": "code",
   "execution_count": 6,
   "id": "726215c0-ca68-44a5-bc36-b3424ce15cc5",
   "metadata": {},
   "outputs": [],
   "source": [
    "#### import pickle as pk\n",
    "\n",
    "pk.dump(X_pred, open(\"X_pred.pk\", \"wb\"))"
   ]
  },
  {
   "cell_type": "code",
   "execution_count": null,
   "id": "f4c19cf5-01c6-4f76-9796-ee11d0928460",
   "metadata": {},
   "outputs": [],
   "source": []
  }
 ],
 "metadata": {
  "kernelspec": {
   "display_name": "Python 3 (ipykernel)",
   "language": "python",
   "name": "python3"
  },
  "language_info": {
   "codemirror_mode": {
    "name": "ipython",
    "version": 3
   },
   "file_extension": ".py",
   "mimetype": "text/x-python",
   "name": "python",
   "nbconvert_exporter": "python",
   "pygments_lexer": "ipython3",
   "version": "3.10.12"
  }
 },
 "nbformat": 4,
 "nbformat_minor": 5
}
