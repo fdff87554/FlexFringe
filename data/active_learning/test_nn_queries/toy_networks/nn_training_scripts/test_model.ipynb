{
 "cells": [
  {
   "cell_type": "code",
   "execution_count": 6,
   "id": "a48aa61c",
   "metadata": {},
   "outputs": [],
   "source": [
    "import numpy as np\n",
    "import pickle as pk\n",
    "\n",
    "import tensorflow.keras\n",
    "from tensorflow.keras.models import load_model\n",
    "    \n",
    "INPUT_DATA = \"../data/problem_1_test.dat\"\n",
    "MODEL_NAME = \"model_problem_1.h5\"\n",
    "\n",
    "alphabet_mapping = pk.load(open(\"alphabet_mapping.pk\", \"rb\"))\n",
    "\n",
    "model = load_model(MODEL_NAME)"
   ]
  },
  {
   "cell_type": "code",
   "execution_count": 8,
   "id": "3657c036",
   "metadata": {},
   "outputs": [
    {
     "name": "stdout",
     "output_type": "stream",
     "text": [
      "Line:  0\n",
      "Line:  10000\n",
      "Line:  20000\n",
      "Line:  30000\n"
     ]
    },
    {
     "data": {
      "text/plain": [
       "(39870, 39870)"
      ]
     },
     "execution_count": 8,
     "metadata": {},
     "output_type": "execute_result"
    }
   ],
   "source": [
    "labels = list()\n",
    "sequences = list()\n",
    "\n",
    "with open(INPUT_DATA, \"rt\") as inf:\n",
    "    inf.readline() # kill the header\n",
    "    for i, line in enumerate(inf):\n",
    "        if len(line.strip()) == 0:\n",
    "            continue\n",
    "        line = line.split()\n",
    "        labels.append(int(line[0]))\n",
    "        sequences.append(list( int(x) for x in line[2:] ))\n",
    "        if i % int(10e3) == 0:\n",
    "            print(\"Line: \", i)\n",
    "len(labels), len(sequences)"
   ]
  },
  {
   "cell_type": "code",
   "execution_count": 10,
   "id": "9bae211f",
   "metadata": {},
   "outputs": [],
   "source": [
    "sequences = np.array(sequences)\n",
    "labels = np.array(labels).reshape(-1, 1)"
   ]
  },
  {
   "cell_type": "code",
   "execution_count": 11,
   "id": "58b9471e",
   "metadata": {},
   "outputs": [
    {
     "name": "stdout",
     "output_type": "stream",
     "text": [
      "Before:  [[1 0 0 0 0 0 1 1]\n",
      " [1 1 0 1 0 1 0 1]\n",
      " [0 1 1 1 0 1 1 1]]\n",
      "Shape:  (39870, 8)\n",
      "After:  [[[0. 1.]\n",
      "  [1. 0.]\n",
      "  [1. 0.]\n",
      "  [1. 0.]\n",
      "  [1. 0.]\n",
      "  [1. 0.]\n",
      "  [0. 1.]\n",
      "  [0. 1.]]\n",
      "\n",
      " [[0. 1.]\n",
      "  [0. 1.]\n",
      "  [1. 0.]\n",
      "  [0. 1.]\n",
      "  [1. 0.]\n",
      "  [0. 1.]\n",
      "  [1. 0.]\n",
      "  [0. 1.]]\n",
      "\n",
      " [[1. 0.]\n",
      "  [0. 1.]\n",
      "  [0. 1.]\n",
      "  [0. 1.]\n",
      "  [1. 0.]\n",
      "  [0. 1.]\n",
      "  [0. 1.]\n",
      "  [0. 1.]]]\n",
      "Shape:  (39870, 8, 2)\n"
     ]
    }
   ],
   "source": [
    "sequences_one_hot = np.zeros((sequences.shape[0], sequences.shape[1], len(alphabet_mapping)))\n",
    "for i, seq in enumerate(sequences):\n",
    "    for j, sym in enumerate(seq):\n",
    "        sequences_one_hot[i, j, alphabet_mapping[sym]] = 1\n",
    "print(\"Before: \", sequences[:3])\n",
    "print(\"Shape: \", sequences.shape)\n",
    "print(\"After: \", sequences_one_hot[:3])\n",
    "print(\"Shape: \", sequences_one_hot.shape)"
   ]
  },
  {
   "cell_type": "code",
   "execution_count": 12,
   "id": "f1731c81",
   "metadata": {},
   "outputs": [
    {
     "name": "stdout",
     "output_type": "stream",
     "text": [
      "1246/1246 [==============================] - 1s 877us/step\n"
     ]
    },
    {
     "data": {
      "text/plain": [
       "(array([[0.9936825 ],\n",
       "        [0.00306792]], dtype=float32),\n",
       " array([[1],\n",
       "        [0]]))"
      ]
     },
     "execution_count": 12,
     "metadata": {},
     "output_type": "execute_result"
    }
   ],
   "source": [
    "y_pred = model.predict(sequences_one_hot)\n",
    "y_pred[:2], labels[:2]"
   ]
  },
  {
   "cell_type": "code",
   "execution_count": 15,
   "id": "01ca0df3",
   "metadata": {},
   "outputs": [
    {
     "data": {
      "text/plain": [
       "(array([1, 0]), (39870,))"
      ]
     },
     "execution_count": 15,
     "metadata": {},
     "output_type": "execute_result"
    }
   ],
   "source": [
    "def map_to_int(x):\n",
    "    return 1 if x >= 0.5 else 0\n",
    "\n",
    "y_pred_mapped = np.array(list( map(map_to_int, list(y_pred)) ))\n",
    "y_pred_mapped[:2], y_pred_mapped.shape"
   ]
  },
  {
   "cell_type": "code",
   "execution_count": 17,
   "id": "bb34d695",
   "metadata": {},
   "outputs": [
    {
     "data": {
      "text/plain": [
       "(1.0, 1.0)"
      ]
     },
     "execution_count": 17,
     "metadata": {},
     "output_type": "execute_result"
    }
   ],
   "source": [
    "from sklearn.metrics import balanced_accuracy_score, accuracy_score\n",
    "\n",
    "accuracy_score(labels, y_pred_mapped), balanced_accuracy_score(labels, y_pred_mapped)"
   ]
  },
  {
   "cell_type": "code",
   "execution_count": null,
   "id": "273ea766",
   "metadata": {},
   "outputs": [],
   "source": []
  }
 ],
 "metadata": {
  "kernelspec": {
   "display_name": "Python 3 (ipykernel)",
   "language": "python",
   "name": "python3"
  },
  "language_info": {
   "codemirror_mode": {
    "name": "ipython",
    "version": 3
   },
   "file_extension": ".py",
   "mimetype": "text/x-python",
   "name": "python",
   "nbconvert_exporter": "python",
   "pygments_lexer": "ipython3",
   "version": "3.10.9"
  }
 },
 "nbformat": 4,
 "nbformat_minor": 5
}
