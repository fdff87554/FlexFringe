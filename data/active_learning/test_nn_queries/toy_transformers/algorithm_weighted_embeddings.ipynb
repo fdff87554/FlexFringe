{
 "cells": [
  {
   "cell_type": "code",
   "execution_count": 1,
   "id": "dbf20ced",
   "metadata": {},
   "outputs": [],
   "source": [
    "import os\n",
    "\n",
    "import torch\n",
    "import torch.nn as nn\n",
    "\n",
    "import pickle as pk\n",
    "\n",
    "from transformer_definitions import AuTransformer\n",
    "from torch.utils.data import Dataset, DataLoader\n",
    "\n",
    "MODEL_NAME = \"trained_model.pk\"\n",
    "DATA_PATH = \"problem_1_train_dfa.dat\""
   ]
  },
  {
   "cell_type": "markdown",
   "id": "ed6d7d64",
   "metadata": {},
   "source": [
    "# Model and data definitions"
   ]
  },
  {
   "cell_type": "code",
   "execution_count": 2,
   "id": "d7131aa5",
   "metadata": {},
   "outputs": [],
   "source": [
    "class PositionalEncoding(nn.Module):\n",
    "\n",
    "    def __init__(self, d_model: int, dropout: float = 0.1, max_len: int = 5000):\n",
    "        super().__init__()\n",
    "        #self.dropout = nn.Dropout(p=dropout)\n",
    "\n",
    "        position = torch.arange(max_len).unsqueeze(1)\n",
    "        \n",
    "        #div_term = torch.exp(torch.arange(0, d_model, 2) * (-math.log(10000.0) / d_model))\n",
    "        div_term = 10000 ** ( (2 * torch.arange(0, d_model) ) / d_model)\n",
    "        pe = torch.zeros(max_len, 1, d_model)\n",
    "        for i in range(max_len):\n",
    "            if i % 2 == 0:    \n",
    "                pe[i, 0, :] = torch.sin(position[i] / div_term)\n",
    "            else:\n",
    "                pe[i, 0, :] = torch.cos(position[i] / div_term)\n",
    "        self.register_buffer('pe', pe)\n",
    "        \n",
    "    def forward(self, x: torch.Tensor) -> torch.Tensor:\n",
    "        \"\"\"\n",
    "        Arguments:\n",
    "            x: Tensor, shape ``[seq_len, batch_size, embedding_dim]``\n",
    "        \"\"\"\n",
    "        x = x + self.pe[:x.size(0)]\n",
    "        return x #self.dropout(x)\n",
    "\n",
    "\n",
    "# sidenote: understanding skip-connections: https://theaisummer.com/skip-connections/\n",
    "class Encoder(nn.Module):\n",
    "    def __init__(self, alphabet_size: int, embedding_dim: int, max_len:int, embedding_layer=None):\n",
    "        super().__init__()\n",
    "        self.pos_encoding = PositionalEncoding(d_model=embedding_dim, max_len=max_len+2)\n",
    "        \n",
    "        self.mha = nn.MultiheadAttention(embed_dim=embedding_dim, num_heads=3)\n",
    "        self.ln = nn.LayerNorm(embedding_dim, eps=1e-12, elementwise_affine=True)\n",
    "        \n",
    "    def forward(self, x: torch.Tensor):\n",
    "        sequence_len = list(x.size())[0]\n",
    "        x = self.pos_encoding(x)\n",
    "        \n",
    "        attn_output, attn_output_weights = self.mha(query=x, key=x, value=x, is_causal=True, \\\n",
    "                                                attn_mask=nn.Transformer.generate_square_subsequent_mask(sequence_len))\n",
    "\n",
    "        x = x + attn_output # skip-connection\n",
    "        x = self.ln(x)\n",
    "                \n",
    "        return x, attn_output, attn_output_weights\n",
    "    \n",
    "class Decoder(nn.Module):\n",
    "    def __init__(self, alphabet_size: int, embedding_dim: int, max_len:int, embedding_layer=None): #must be same as encoder\n",
    "        super().__init__()\n",
    "        self.pos_encoding = PositionalEncoding(d_model=embedding_dim, max_len=max_len+2)\n",
    "        \n",
    "        self.masked_mha = nn.MultiheadAttention(embed_dim=embedding_dim, num_heads=3)\n",
    "        self.ln = nn.LayerNorm(embedding_dim, eps=1e-12, elementwise_affine=True)\n",
    "\n",
    "        self.mha = nn.MultiheadAttention(embed_dim=embedding_dim, num_heads=3)\n",
    "        \n",
    "        \n",
    "    def forward(self, x: torch.Tensor, query: torch.Tensor=None, key: torch.Tensor=None):\n",
    "        sequence_len = list(x.size())[0]\n",
    "        x = self.pos_encoding(x)\n",
    "        \n",
    "        attn_output, attn_output_weights = self.masked_mha(query=x, key=x, value=x, is_causal=True, \\\n",
    "                                                attn_mask=nn.Transformer.generate_square_subsequent_mask(sequence_len))#, is_causal=True)\n",
    "\n",
    "        x = x + attn_output # skip-connection\n",
    "        x = self.ln(x)\n",
    "        \n",
    "        if query is None or key is None: # only for debugging\n",
    "            attn_output, attn_output_weights = self.mha(query=x, key=x, value=x)\n",
    "        else:\n",
    "            attn_output, attn_output_weights = self.mha(query=query, key=key, value=x)\n",
    "        \n",
    "        x = x + attn_output # skip-connection\n",
    "        x = self.ln(x)\n",
    "        \n",
    "        return x\n",
    "    \n",
    "# sidenote: understanding skip-connections: https://theaisummer.com/skip-connections/\n",
    "class AuTransformer(nn.Module):\n",
    "    def __init__(self, alphabet_size: int, embedding_dim: int, max_len:int):\n",
    "        super().__init__()\n",
    "        \n",
    "        self.input_embedding = nn.Embedding(alphabet_size+3, embedding_dim) # +3 for start, stop, padding symbol\n",
    "        self.encoder = Encoder(alphabet_size=alphabet_size, embedding_dim=embedding_dim, max_len=max_len, embedding_layer=self.input_embedding)\n",
    "        self.decoder = Decoder(alphabet_size=alphabet_size, embedding_dim=embedding_dim, max_len=max_len, embedding_layer=self.input_embedding)\n",
    "        \n",
    "        self.output_fnn = nn.Linear(in_features=embedding_dim, out_features=alphabet_size+3) # +2 for start and stop\n",
    "        self.gelu = torch.nn.GELU()\n",
    "        \n",
    "        self.dropout = nn.Dropout(0.2)\n",
    "        self.softmax_output = nn.Softmax(dim=-1)\n",
    "        \n",
    "        self.attention_output_layer = nn.Identity() \n",
    "        self.attention_weight_layer = nn.Identity() \n",
    "        self.src_embedding_output_layer = nn.Identity() \n",
    "        self.tgt_embedding_output_layer = nn.Identity() \n",
    "\n",
    "    def forward(self, src: torch.Tensor, tgt: torch.Tensor):\n",
    "        src_embedding = self.input_embedding(src)\n",
    "        src_embedding_out = self.src_embedding_output_layer(src_embedding)\n",
    "\n",
    "        x, attention_output, attention_weights = self.encoder(src_embedding)\n",
    "        x = self.dropout(x)\n",
    "\n",
    "        attention_output = self.attention_output_layer(attention_output)\n",
    "        attention_weights = self.attention_weight_layer(attention_weights)\n",
    "        \n",
    "        tgt_embedding = self.input_embedding(tgt)\n",
    "        tgt_embedding_out = self.tgt_embedding_output_layer(tgt_embedding) \n",
    "\n",
    "        x = self.decoder(x=tgt_embedding, query=x, key=x)\n",
    "        x = self.dropout(x)\n",
    "        \n",
    "        x = self.gelu(self.output_fnn(x))\n",
    "        x = self.softmax_output(x)\n",
    "        return x"
   ]
  },
  {
   "cell_type": "code",
   "execution_count": 3,
   "id": "02aa92cf",
   "metadata": {},
   "outputs": [],
   "source": [
    "class SequenceDataset(Dataset):\n",
    "    def __init__(self, datapath: str, maxlen: int, pad_sequences: bool=True, max_sequences: int=None):\n",
    "        super().__init__()\n",
    "        \n",
    "        assert(os.path.isfile(datapath))\n",
    "        self.symbol_dict = dict()\n",
    "        self.label_dict = dict()\n",
    "        self.sequences, self.labels, self.sequence_lengths = self._read_sequences(datapath, max_sequences)\n",
    "        print(\"Sequences loaded. Some examples: \\n{}\".format(self.sequences[:3]))\n",
    "        \n",
    "        self.SOS = self.alphabet_size\n",
    "        self.EOS = self.alphabet_size + 1\n",
    "        self.PAD = self.alphabet_size + 2\n",
    "        self.maxlen = maxlen + 2  # +2 for EOS/PAD and SOS \n",
    "        self.pad_sequences = pad_sequences\n",
    "        \n",
    "    def encode_sequences(self):\n",
    "        self.ordinal_seq, self.ordinal_seq_sr = self._ordinal_encode_sequences(self.sequences)\n",
    "        self.one_hot_seq, self.one_hot_seq_sr = self._one_hot_encode_sequences(self.sequences)\n",
    "        \n",
    "        del self.sequences\n",
    "        self.sequences = None\n",
    "        \n",
    "        print(\"The symbol dictionary: {}\".format(self.symbol_dict))\n",
    "        \n",
    "    def __len__(self):\n",
    "        return len(self.labels)\n",
    "\n",
    "    def __getitem__(self, idx):\n",
    "        return self.ordinal_seq[idx], self.ordinal_seq_sr[idx], self.one_hot_seq[idx], \\\n",
    "               self.one_hot_seq_sr[idx], self.labels[idx], self.sequence_lengths[idx]\n",
    "       \n",
    "    def _read_sequences(self, datapath: str, max_sequences: int):\n",
    "        sequences = list()\n",
    "        labels = list()\n",
    "        sequence_lengths = list()\n",
    "        \n",
    "        for i, line in enumerate(open(datapath)):\n",
    "            if i == 0:\n",
    "                line = line.split()\n",
    "                self.alphabet_size = int(line[1])\n",
    "                print(\"Alphabet size: \", self.alphabet_size)\n",
    "                continue\n",
    "            elif max_sequences and i-1 >= max_sequences:\n",
    "                break\n",
    "            \n",
    "            line = line.split()\n",
    "            label = line[0]\n",
    "            if not label in self.label_dict:\n",
    "                self.label_dict[label] = len(self.label_dict)\n",
    "            label = self.label_dict[label]\n",
    "            labels.append(label)\n",
    "            \n",
    "            sequences.append(line[2:])\n",
    "            sequence_lengths.append(len(line) - 1)\n",
    "        return sequences, labels, sequence_lengths\n",
    "    \n",
    "    def _pad_one_hot(self, sequences: list, do_eos: bool=False):\n",
    "        for i in range(len(sequences)):\n",
    "            seq = sequences[i]\n",
    "            #print(\"Before one hot:\\n{}\".format(seq))\n",
    "            current_size = len(seq)\n",
    "            \n",
    "            t = torch.zeros((self.maxlen - current_size, self.alphabet_size + 3), dtype=torch.float32)\n",
    "            t[:, self.PAD] = 1\n",
    "            if do_eos and self.maxlen > current_size:\n",
    "                t[0, self.PAD] = 0\n",
    "                t[0, self.EOS] = 1\n",
    "            \n",
    "            seq = torch.cat((seq, t), dim=0)\n",
    "            sequences[i] = seq\n",
    "            #print(\"After one hot:\\n{}\".format(seq))\n",
    "        return sequences\n",
    "    \n",
    "    def _one_hot_encode_sequences(self, strings: list):\n",
    "        res = list()\n",
    "        res_sr = list()\n",
    "        for string in strings:\n",
    "            x1, x2 = self._one_hot_encode_string(string)\n",
    "            res.append(x1)\n",
    "            res_sr.append(x2)\n",
    "            \n",
    "        if self.pad_sequences:\n",
    "            res = self._pad_one_hot(res)\n",
    "            res_sr = self._pad_one_hot(res_sr)\n",
    "\n",
    "        return res, res_sr\n",
    "    \n",
    "    def _one_hot_encode_string(self, string: list):\n",
    "        encoded_string = torch.zeros((len(string)+2, self.alphabet_size + 3), dtype=torch.float32) # alphabet_size + 3 because SOS, EOS, padding token\n",
    "        encoded_string[0][self.SOS] = 1\n",
    "        encoded_string[-1][self.EOS] = 1\n",
    "\n",
    "        encoded_string_sl = torch.zeros((len(string)+2, self.alphabet_size + 3), dtype=torch.float32)\n",
    "        encoded_string_sl[-2][self.EOS] = 1\n",
    "        encoded_string_sl[-1][self.PAD] = 1\n",
    "\n",
    "        for i, symbol in enumerate(string):\n",
    "            if not symbol in self.symbol_dict:\n",
    "                self.symbol_dict[symbol] = len(self.symbol_dict)\n",
    "\n",
    "            encoded_string[i+1][self.symbol_dict[symbol]] = 1\n",
    "            encoded_string_sl[i][self.symbol_dict[symbol]] = 1\n",
    "        encoded_string_sl.requires_grad_()\n",
    "        return encoded_string, encoded_string_sl\n",
    "    \n",
    "    def _pad_ordinal(self, sequences: list, do_eos: bool=False):\n",
    "        for i in range(len(sequences)):\n",
    "            seq = sequences[i]\n",
    "            #print(\"Before ordinal:{}\".format(seq))\n",
    "            current_size = len(seq)\n",
    "            \n",
    "            t = torch.ones((self.maxlen - current_size,), dtype=torch.long)\n",
    "            t = t*self.PAD \n",
    "            if do_eos and self.maxlen > current_size:\n",
    "                t[0] = self.EOS\n",
    "            \n",
    "            seq = torch.cat((seq, t), dim=0)\n",
    "            sequences[i] = seq\n",
    "            #print(\"After ordinal:{}\".format(seq))\n",
    "        return sequences\n",
    "    \n",
    "    def _ordinal_encode_sequences(self, strings: list):\n",
    "        res = list()\n",
    "        res_sr = list()\n",
    "        for string in strings:\n",
    "            x1, x2 = self._ordinal_encode_string(string)\n",
    "            res.append(x1)\n",
    "            res_sr.append(x2)\n",
    "        \n",
    "        if self.pad_sequences: \n",
    "            res = self._pad_ordinal(res)\n",
    "            res_sr = self._pad_ordinal(res_sr)\n",
    "        return res, res_sr\n",
    "    \n",
    "    def _ordinal_encode_string(self, string: list):\n",
    "        encoded_string = torch.zeros((len(string)+2,), dtype=torch.long)\n",
    "        encoded_string[0] = self.SOS\n",
    "        encoded_string[-1] = self.EOS\n",
    "\n",
    "        encoded_string_sl = torch.zeros((len(string)+2,), dtype=torch.long)\n",
    "        encoded_string_sl[-2] = self.EOS\n",
    "        encoded_string_sl[-1] = self.PAD\n",
    "\n",
    "        for i, symbol in enumerate(string):\n",
    "            if not symbol in self.symbol_dict:\n",
    "                self.symbol_dict[symbol] = len(self.symbol_dict)\n",
    "\n",
    "            encoded_string[i+1] = self.symbol_dict[symbol]\n",
    "            encoded_string_sl[i] = self.symbol_dict[symbol]\n",
    "        return encoded_string, encoded_string_sl\n",
    "    \n",
    "    def get_alphabet_size(self):\n",
    "        return self.alphabet_size\n",
    "    \n",
    "    def initialize(self, path: str=\"dataset.pk\"):\n",
    "        data = pk.load(open(path, \"rb\"))\n",
    "        self.alphabet_size = self.alphabet_size\n",
    "        self.symbol_dict = self.symbol_dict\n",
    "        self.label_dict = self.label_dict\n",
    "        \n",
    "    def save_state(self, path: str=\"dataset.pk\"):\n",
    "        data = dict()\n",
    "        data[\"alphabet_size\"] = self.alphabet_size\n",
    "        data[\"symbol_dict\"] = self.symbol_dict\n",
    "        data[\"label_dict\"] = self.label_dict\n",
    "        pk.dump(data, open(path, \"wb\"))"
   ]
  },
  {
   "cell_type": "markdown",
   "id": "37bf3533",
   "metadata": {},
   "source": [
    "# Algorithm start"
   ]
  },
  {
   "cell_type": "code",
   "execution_count": 4,
   "id": "a2d11967",
   "metadata": {},
   "outputs": [
    {
     "data": {
      "text/plain": [
       "AuTransformer(\n",
       "  (input_embedding): Embedding(7, 3)\n",
       "  (encoder): Encoder(\n",
       "    (pos_encoding): PositionalEncoding()\n",
       "    (mha): MultiheadAttention(\n",
       "      (out_proj): NonDynamicallyQuantizableLinear(in_features=3, out_features=3, bias=True)\n",
       "    )\n",
       "    (ln): LayerNorm((3,), eps=1e-12, elementwise_affine=True)\n",
       "  )\n",
       "  (decoder): Decoder(\n",
       "    (pos_encoding): PositionalEncoding()\n",
       "    (masked_mha): MultiheadAttention(\n",
       "      (out_proj): NonDynamicallyQuantizableLinear(in_features=3, out_features=3, bias=True)\n",
       "    )\n",
       "    (ln): LayerNorm((3,), eps=1e-12, elementwise_affine=True)\n",
       "    (mha): MultiheadAttention(\n",
       "      (out_proj): NonDynamicallyQuantizableLinear(in_features=3, out_features=3, bias=True)\n",
       "    )\n",
       "  )\n",
       "  (output_fnn): Linear(in_features=3, out_features=7, bias=True)\n",
       "  (gelu): GELU(approximate='none')\n",
       "  (dropout): Dropout(p=0.2, inplace=False)\n",
       "  (softmax_output): Softmax(dim=-1)\n",
       "  (attention_output_layer): Identity()\n",
       "  (attention_weight_layer): Identity()\n",
       "  (src_embedding_output_layer): Identity()\n",
       "  (tgt_embedding_output_layer): Identity()\n",
       ")"
      ]
     },
     "execution_count": 4,
     "metadata": {},
     "output_type": "execute_result"
    }
   ],
   "source": [
    "model = torch.load(MODEL_NAME)\n",
    "for param in model.parameters():\n",
    "    param.requires_grad = False\n",
    "model.eval()"
   ]
  },
  {
   "cell_type": "code",
   "execution_count": 5,
   "id": "33c7f244",
   "metadata": {},
   "outputs": [
    {
     "name": "stdout",
     "output_type": "stream",
     "text": [
      "Alphabet size:  4\n",
      "Sequences loaded. Some examples: \n",
      "[['a', 'b'], ['a', 'b'], ['c', 'd', 'a', 'b']]\n",
      "The symbol dictionary: {'a': 0, 'b': 1, 'c': 2, 'd': 3}\n"
     ]
    }
   ],
   "source": [
    "dataset = SequenceDataset(DATA_PATH, maxlen=10, max_sequences=None)\n",
    "dataset.initialize()\n",
    "dataset.encode_sequences()"
   ]
  },
  {
   "cell_type": "code",
   "execution_count": 6,
   "id": "b3e59911",
   "metadata": {},
   "outputs": [],
   "source": [
    "test_idx = 5000"
   ]
  },
  {
   "cell_type": "code",
   "execution_count": 7,
   "id": "cdec69a7",
   "metadata": {},
   "outputs": [],
   "source": [
    "ordinal_seq, ordinal_seq_sr, one_hot_seq, one_hot_seq_sr, label, sequence_length = dataset[test_idx]\n",
    "#ordinal_seq, ordinal_seq_sr, one_hot_seq, one_hot_seq_sr, label, sequence_length"
   ]
  },
  {
   "cell_type": "code",
   "execution_count": 8,
   "id": "ce807220",
   "metadata": {},
   "outputs": [],
   "source": [
    "res = model(torch.unsqueeze(ordinal_seq, -1), torch.unsqueeze(ordinal_seq_sr, -1))"
   ]
  },
  {
   "cell_type": "code",
   "execution_count": 9,
   "id": "5a8849f7",
   "metadata": {},
   "outputs": [
    {
     "data": {
      "text/plain": [
       "([12, 1, 7], [12])"
      ]
     },
     "execution_count": 9,
     "metadata": {},
     "output_type": "execute_result"
    }
   ],
   "source": [
    "list(res.size()), list(ordinal_seq_sr.size())"
   ]
  },
  {
   "cell_type": "code",
   "execution_count": 10,
   "id": "3a283293",
   "metadata": {},
   "outputs": [
    {
     "data": {
      "text/plain": [
       "(tensor([2, 3, 2, 3, 2, 3, 3, 6, 6, 6, 6, 6]),\n",
       " tensor([2, 3, 2, 3, 2, 3, 5, 6, 6, 6, 6, 6]))"
      ]
     },
     "execution_count": 10,
     "metadata": {},
     "output_type": "execute_result"
    }
   ],
   "source": [
    "torch.argmax(torch.squeeze(res), dim=1), ordinal_seq_sr"
   ]
  },
  {
   "cell_type": "code",
   "execution_count": 11,
   "id": "b38eab1b",
   "metadata": {},
   "outputs": [
    {
     "data": {
      "text/plain": [
       "tensor([[1.0604e-04, 4.9569e-04, 9.9607e-01, 2.2846e-03, 8.9463e-05, 8.4991e-04,\n",
       "         1.0604e-04],\n",
       "        [1.6847e-04, 1.6847e-04, 5.8118e-04, 9.8703e-01, 1.4214e-04, 1.7094e-03,\n",
       "         1.0197e-02],\n",
       "        [1.4330e-04, 1.3277e-04, 9.8994e-01, 8.0154e-03, 1.2090e-04, 1.5049e-03,\n",
       "         1.4330e-04],\n",
       "        [2.7132e-04, 2.7132e-04, 2.0688e-02, 9.7382e-01, 2.2891e-04, 4.4823e-03,\n",
       "         2.3328e-04],\n",
       "        [8.6772e-05, 8.7656e-03, 9.9030e-01, 3.0355e-04, 7.3208e-05, 3.8693e-04,\n",
       "         8.6772e-05],\n",
       "        [1.7193e-04, 1.7193e-04, 1.1425e-03, 9.9194e-01, 1.4506e-04, 1.9788e-03,\n",
       "         4.4452e-03],\n",
       "        [2.3392e-04, 2.3392e-04, 1.0770e-02, 9.8462e-01, 1.9735e-04, 3.6566e-03,\n",
       "         2.9238e-04],\n",
       "        [4.4021e-06, 4.5581e-06, 4.5581e-06, 2.8548e-04, 3.8456e-06, 3.8579e-06,\n",
       "         9.9969e-01],\n",
       "        [3.9462e-05, 4.8764e-06, 4.8764e-06, 8.2436e-05, 4.1141e-06, 4.3773e-06,\n",
       "         9.9986e-01],\n",
       "        [5.5319e-05, 5.0717e-06, 5.0717e-06, 7.1666e-05, 4.2789e-06, 4.5942e-06,\n",
       "         9.9985e-01],\n",
       "        [1.0799e-04, 5.5977e-06, 5.5977e-06, 5.4925e-05, 4.7227e-06, 5.1586e-06,\n",
       "         9.9982e-01],\n",
       "        [4.4414e-04, 7.4770e-06, 7.4770e-06, 3.3019e-05, 6.3082e-06, 7.0980e-06,\n",
       "         9.9949e-01]])"
      ]
     },
     "execution_count": 11,
     "metadata": {},
     "output_type": "execute_result"
    }
   ],
   "source": [
    "torch.squeeze(res)"
   ]
  },
  {
   "cell_type": "markdown",
   "id": "6942ab96",
   "metadata": {},
   "source": [
    "# Inspect the internal representations of the model"
   ]
  },
  {
   "cell_type": "code",
   "execution_count": 12,
   "id": "75a0a2f5",
   "metadata": {},
   "outputs": [
    {
     "data": {
      "text/plain": [
       "<torch.utils.hooks.RemovableHandle at 0x7f166c452950>"
      ]
     },
     "execution_count": 12,
     "metadata": {},
     "output_type": "execute_result"
    }
   ],
   "source": [
    "# Tutorial on hooks: https://web.stanford.edu/~nanbhas/blog/forward-hooks-pytorch/\n",
    "\n",
    "activation = {}\n",
    "def getActivation(name):\n",
    "    global activation\n",
    "    # the hook signature\n",
    "    def hook(model, input, output):\n",
    "        global activation\n",
    "        activation[name] = output.detach()\n",
    "    return hook\n",
    "\n",
    "#model.input_embedding.register_forward_hook(getActivation(\"embedding\"))\n",
    "#model.encoder.register_forward_hook(getActivation(\"encoder\"))\n",
    "model.attention_output_layer.register_forward_hook(getActivation(\"attention_output\"))\n",
    "model.attention_weight_layer.register_forward_hook(getActivation(\"attention_weights\"))\n",
    "\n",
    "model.attention_output_layer.register_forward_hook(getActivation(\"src_embedding_out\"))\n",
    "model.attention_weight_layer.register_forward_hook(getActivation(\"tgt_embedding_out\"))"
   ]
  },
  {
   "cell_type": "code",
   "execution_count": 13,
   "id": "c4f75248",
   "metadata": {},
   "outputs": [],
   "source": [
    "with torch.no_grad():\n",
    "    model(torch.unsqueeze(ordinal_seq, -1), torch.unsqueeze(ordinal_seq_sr, -1))"
   ]
  },
  {
   "cell_type": "code",
   "execution_count": 14,
   "id": "d7b494c5",
   "metadata": {},
   "outputs": [
    {
     "name": "stdout",
     "output_type": "stream",
     "text": [
      "attention_output: [12, 1, 3]\n",
      "src_embedding_out: [12, 1, 3]\n",
      "attention_weights: [1, 12, 12]\n",
      "tgt_embedding_out: [1, 12, 12]\n"
     ]
    }
   ],
   "source": [
    "for name, t in activation.items():\n",
    "    print(\"{}: {}\".format(name, list(t.size())))"
   ]
  },
  {
   "cell_type": "code",
   "execution_count": 15,
   "id": "5aed3664",
   "metadata": {},
   "outputs": [
    {
     "data": {
      "text/plain": [
       "([12, 12],\n",
       " tensor([[1.0000e+00, 0.0000e+00, 0.0000e+00, 0.0000e+00, 0.0000e+00, 0.0000e+00,\n",
       "          0.0000e+00, 0.0000e+00, 0.0000e+00, 0.0000e+00, 0.0000e+00, 0.0000e+00],\n",
       "         [7.9153e-02, 9.2085e-01, 0.0000e+00, 0.0000e+00, 0.0000e+00, 0.0000e+00,\n",
       "          0.0000e+00, 0.0000e+00, 0.0000e+00, 0.0000e+00, 0.0000e+00, 0.0000e+00],\n",
       "         [8.5439e-01, 3.0809e-02, 1.1480e-01, 0.0000e+00, 0.0000e+00, 0.0000e+00,\n",
       "          0.0000e+00, 0.0000e+00, 0.0000e+00, 0.0000e+00, 0.0000e+00, 0.0000e+00],\n",
       "         [2.5393e-02, 4.5842e-01, 6.0334e-02, 4.5585e-01, 0.0000e+00, 0.0000e+00,\n",
       "          0.0000e+00, 0.0000e+00, 0.0000e+00, 0.0000e+00, 0.0000e+00, 0.0000e+00],\n",
       "         [7.5953e-01, 4.4374e-02, 3.7153e-02, 8.4356e-02, 7.4583e-02, 0.0000e+00,\n",
       "          0.0000e+00, 0.0000e+00, 0.0000e+00, 0.0000e+00, 0.0000e+00, 0.0000e+00],\n",
       "         [2.2716e-02, 2.8447e-01, 1.1720e-01, 2.1654e-01, 8.7330e-02, 2.7174e-01,\n",
       "          0.0000e+00, 0.0000e+00, 0.0000e+00, 0.0000e+00, 0.0000e+00, 0.0000e+00],\n",
       "         [6.7650e-01, 3.4602e-02, 4.4425e-02, 5.9460e-02, 7.9864e-02, 3.7892e-02,\n",
       "          6.7258e-02, 0.0000e+00, 0.0000e+00, 0.0000e+00, 0.0000e+00, 0.0000e+00],\n",
       "         [1.4871e-03, 3.8318e-02, 6.0377e-01, 8.5293e-03, 1.1778e-01, 2.9783e-02,\n",
       "          1.8845e-01, 1.1890e-02, 0.0000e+00, 0.0000e+00, 0.0000e+00, 0.0000e+00],\n",
       "         [9.4172e-03, 1.5462e-03, 3.6733e-02, 8.7854e-04, 1.9779e-02, 1.4064e-03,\n",
       "          2.3509e-02, 1.1064e-01, 7.9609e-01, 0.0000e+00, 0.0000e+00, 0.0000e+00],\n",
       "         [1.7572e-02, 3.2212e-02, 2.3731e-01, 1.5744e-02, 1.0879e-01, 2.8568e-02,\n",
       "          1.3592e-01, 7.7607e-02, 2.5934e-01, 8.6941e-02, 0.0000e+00, 0.0000e+00],\n",
       "         [2.4808e-02, 6.3524e-03, 3.8193e-02, 4.9755e-03, 2.9204e-02, 6.0976e-03,\n",
       "          3.1443e-02, 9.7274e-02, 3.0234e-01, 2.2317e-01, 2.3614e-01, 0.0000e+00],\n",
       "         [6.4412e-03, 9.0770e-03, 1.5188e-01, 3.6612e-03, 5.6442e-02, 7.7951e-03,\n",
       "          7.4819e-02, 5.4773e-02, 3.0209e-01, 7.7733e-02, 1.2146e-01, 1.3382e-01]]))"
      ]
     },
     "execution_count": 15,
     "metadata": {},
     "output_type": "execute_result"
    }
   ],
   "source": [
    "attention_weights = torch.squeeze(activation[\"attention_weights\"])\n",
    "list(attention_weights.size()), attention_weights"
   ]
  },
  {
   "cell_type": "markdown",
   "id": "4501770e",
   "metadata": {},
   "source": [
    "# Cluster the representations and express sequences in terms of their clusters. Can you see something?"
   ]
  },
  {
   "cell_type": "code",
   "execution_count": 16,
   "id": "72791cff-8539-4f5b-90bf-48749199cffa",
   "metadata": {},
   "outputs": [],
   "source": [
    "import numpy as np\n",
    "\n",
    "def get_weighted_embedding_vector(embeddings, attn_weights, scale=True, scaling_factor: int=1):\n",
    "    res = np.zeros((1, embeddings.shape[1]))\n",
    "    for i in range(len(attn_weights)):\n",
    "        res += attn_weights[i] * embeddings[i, :]\n",
    "    if scale:\n",
    "        res /= scaling_factor\n",
    "    return res"
   ]
  },
  {
   "cell_type": "code",
   "execution_count": 55,
   "id": "0985cbe2-15bf-4d21-96f0-6afd2424d5cf",
   "metadata": {},
   "outputs": [],
   "source": [
    "#weights = None\n",
    "src_embeddings = None\n",
    "weighted_embeddings = None\n",
    "symbols = None\n",
    "train_dataloader = DataLoader(dataset, batch_size=1, shuffle=True)\n",
    "with torch.no_grad():\n",
    "    for j, (test_string_ord, test_string_ord_sr, _, _, label, sequence_length) in enumerate(train_dataloader):\n",
    "        if j == 2000:\n",
    "            break\n",
    "        \n",
    "        test_string_ord = torch.permute(test_string_ord, dims=[1,0])\n",
    "        test_string_ord_sr = torch.permute(test_string_ord_sr, dims=[1,0])\n",
    "        \n",
    "        res = model(test_string_ord, test_string_ord_sr)\n",
    "        res = torch.squeeze(res)\n",
    "        \n",
    "        attn_weights = torch.squeeze(activation[\"attention_weights\"]).numpy()\n",
    "        src_embeddings_tmp = torch.squeeze(activation[\"src_embedding_out\"]).numpy()\n",
    "\n",
    "        #print(sequence_length)\n",
    "        #print(test_string_ord)\n",
    "        #print(\"Att: {}\".format(list(attn_weights.size())))\n",
    "        #print(\"Emb: {}\".format(list(src_embeddings_tmp.size())))\n",
    "\n",
    "        #if j == 1:\n",
    "        #    print(weighted_embeddings.shape)\n",
    "        #    break\n",
    "        #if weighteds is None:\n",
    "            #weights = attn_weights[1:sequence_length+1]\n",
    "            #src_embeddings = src_embeddings_tmp[1:sequence_length+1]\n",
    "        #else:\n",
    "            #weights = torch.cat((weights, attn_weights[1:sequence_length+1]), dim=0)\n",
    "            #src_embeddings = torch.cat((src_embeddings, src_embeddings_tmp[1:sequence_length+1]), dim=0)\n",
    "        \n",
    "        for w_idx in range(1, sequence_length[0]+1): # range(0, sequence_length[0]+1) to have starting and end symbol too\n",
    "            weighted_sum = get_weighted_embedding_vector(src_embeddings_tmp, attn_weights[w_idx], scale=True, scaling_factor=w_idx+1)\n",
    "            if weighted_embeddings is None:\n",
    "                weighted_embeddings = weighted_sum\n",
    "                symbols = test_string_ord[w_idx].numpy()\n",
    "                src_embeddings = src_embeddings_tmp[w_idx].reshape(1, -1)\n",
    "            else:\n",
    "                weighted_embeddings = np.concatenate((weighted_embeddings, weighted_sum), axis=0)\n",
    "                symbols = np.concatenate((symbols, test_string_ord[w_idx].numpy()), axis=-1)\n",
    "                src_embeddings = np.concatenate((src_embeddings, src_embeddings_tmp[w_idx].reshape(1, -1)), axis=0)"
   ]
  },
  {
   "cell_type": "code",
   "execution_count": 56,
   "id": "fc684953-4ff7-430e-93e2-5212b7127a8f",
   "metadata": {},
   "outputs": [
    {
     "data": {
      "text/plain": [
       "((13620, 3), (13620,), (13620, 3))"
      ]
     },
     "execution_count": 56,
     "metadata": {},
     "output_type": "execute_result"
    }
   ],
   "source": [
    "weighted_embeddings.shape, symbols.shape, src_embeddings.shape"
   ]
  },
  {
   "cell_type": "code",
   "execution_count": 57,
   "id": "78ce762a-c8b5-4e75-8fa0-ea44387c6907",
   "metadata": {},
   "outputs": [
    {
     "data": {
      "text/plain": [
       "<Axes: >"
      ]
     },
     "execution_count": 57,
     "metadata": {},
     "output_type": "execute_result"
    },
    {
     "data": {
      "image/png": "[encoded data removed]",
      "text/plain": [
       "<Figure size 640x480 with 1 Axes>"
      ]
     },
     "metadata": {},
     "output_type": "display_data"
    }
   ],
   "source": [
    "from sklearn.decomposition import PCA\n",
    "import seaborn as sns\n",
    "\n",
    "pca = PCA(n_components=2)\n",
    "we_reduced = pca.fit_transform(weighted_embeddings)\n",
    "\n",
    "sns.scatterplot(x=we_reduced[:, 0], y=we_reduced[:, 1], hue=symbols)"
   ]
  },
  {
   "cell_type": "code",
   "execution_count": 33,
   "id": "fc7e4261-5335-46f6-86cd-6f90fe823772",
   "metadata": {},
   "outputs": [
    {
     "data": {
      "text/plain": [
       "(11614, 2)"
      ]
     },
     "execution_count": 33,
     "metadata": {},
     "output_type": "execute_result"
    }
   ],
   "source": [
    "we_reduced.shape"
   ]
  },
  {
   "cell_type": "code",
   "execution_count": 34,
   "id": "463e51fb-6425-4947-8137-b00257213f1e",
   "metadata": {},
   "outputs": [
    {
     "data": {
      "text/plain": [
       "array([[-0.31708452,  0.06350003],\n",
       "       [-0.07229727, -0.01773336],\n",
       "       [ 0.17836064,  0.00797884],\n",
       "       ...,\n",
       "       [ 0.04478328, -0.01205951],\n",
       "       [-0.06294624, -0.02444027],\n",
       "       [-0.07971334, -0.01774998]])"
      ]
     },
     "execution_count": 34,
     "metadata": {},
     "output_type": "execute_result"
    }
   ],
   "source": [
    "we_reduced"
   ]
  },
  {
   "cell_type": "code",
   "execution_count": 53,
   "id": "ba3695e2-69e4-4107-bc1e-f25f44d522f1",
   "metadata": {},
   "outputs": [
    {
     "data": {
      "text/plain": [
       "<Axes: >"
      ]
     },
     "execution_count": 53,
     "metadata": {},
     "output_type": "execute_result"
    },
    {
     "data": {
      "image/png": "[encoded data removed]",
      "text/plain": [
       "<Figure size 640x480 with 1 Axes>"
      ]
     },
     "metadata": {},
     "output_type": "display_data"
    }
   ],
   "source": [
    "from sklearn.manifold import TSNE\n",
    "\n",
    "tsne = TSNE()\n",
    "we_reduced = tsne.fit_transform(src_embeddings)\n",
    "\n",
    "sns.scatterplot(x=we_reduced[:, 0], y=we_reduced[:, 1], hue=symbols)"
   ]
  },
  {
   "cell_type": "code",
   "execution_count": 36,
   "id": "940c16a1-7333-404d-93c1-d36ecbe5ea83",
   "metadata": {},
   "outputs": [
    {
     "name": "stderr",
     "output_type": "stream",
     "text": [
      "/home/robert/.local/lib/python3.10/site-packages/sklearn/cluster/_kmeans.py:1416: FutureWarning: The default value of `n_init` will change from 10 to 'auto' in 1.4. Set the value of `n_init` explicitly to suppress the warning\n",
      "  super()._check_params_vs_input(X, default_n_init=10)\n"
     ]
    },
    {
     "data": {
      "text/plain": [
       "array([3, 0, 2, 0], dtype=int32)"
      ]
     },
     "execution_count": 36,
     "metadata": {},
     "output_type": "execute_result"
    }
   ],
   "source": [
    "from sklearn.cluster import KMeans\n",
    "\n",
    "kmeans = KMeans(4)\n",
    "pred = kmeans.fit_predict(weighted_embeddings)\n",
    "\n",
    "pred[:4]"
   ]
  },
  {
   "cell_type": "code",
   "execution_count": 37,
   "id": "25578954-13ea-4082-bcfe-427db7345027",
   "metadata": {},
   "outputs": [
    {
     "data": {
      "text/plain": [
       "(array([    1,     3,     4, ..., 11611, 11612, 11613]),)"
      ]
     },
     "execution_count": 37,
     "metadata": {},
     "output_type": "execute_result"
    }
   ],
   "source": [
    "np.where(pred==0)[:5]"
   ]
  },
  {
   "cell_type": "code",
   "execution_count": 38,
   "id": "56f1db5b-c1e6-4713-bc26-8fa11b7789d1",
   "metadata": {},
   "outputs": [
    {
     "data": {
      "text/plain": [
       "((array([0, 1, 2, 3]), array([1433, 2946,  672, 1263])),)"
      ]
     },
     "execution_count": 38,
     "metadata": {},
     "output_type": "execute_result"
    }
   ],
   "source": [
    "np.unique(symbols[np.where(pred==0)], return_counts=True), "
   ]
  },
  {
   "cell_type": "code",
   "execution_count": 39,
   "id": "788e2203-206e-4cc4-b594-12e4a35bcf8a",
   "metadata": {},
   "outputs": [
    {
     "data": {
      "text/plain": [
       "(array([2]), array([1207]))"
      ]
     },
     "execution_count": 39,
     "metadata": {},
     "output_type": "execute_result"
    }
   ],
   "source": [
    "np.unique(symbols[np.where(pred==2)], return_counts=True)"
   ]
  },
  {
   "cell_type": "code",
   "execution_count": 40,
   "id": "1d39b891-bf46-4697-ab51-e462b283c5e6",
   "metadata": {},
   "outputs": [
    {
     "data": {
      "text/plain": [
       "(array([0, 1, 3]), array([1514,    1, 1597]))"
      ]
     },
     "execution_count": 40,
     "metadata": {},
     "output_type": "execute_result"
    }
   ],
   "source": [
    "np.unique(symbols[np.where(pred==3)], return_counts=True)"
   ]
  },
  {
   "cell_type": "code",
   "execution_count": 54,
   "id": "a0a4e1da-21e6-484a-ac2a-4425a26cb543",
   "metadata": {},
   "outputs": [
    {
     "data": {
      "text/plain": [
       "array([[ 0.5971018 , -1.1054437 , -0.8227273 ],\n",
       "       [ 0.5971018 , -1.1054437 , -0.8227273 ],\n",
       "       [ 0.57074517, -1.0104891 , -0.716194  ],\n",
       "       ...,\n",
       "       [ 1.0045307 , -2.0289958 , -1.5510913 ],\n",
       "       [ 0.5971018 , -1.1054437 , -0.8227273 ],\n",
       "       [ 0.57074517, -1.0104891 , -0.716194  ]], dtype=float32)"
      ]
     },
     "execution_count": 54,
     "metadata": {},
     "output_type": "execute_result"
    }
   ],
   "source": [
    "src_embeddings[np.where(symbols==1)]"
   ]
  },
  {
   "cell_type": "code",
   "execution_count": 43,
   "id": "e4981f6c-a6e8-41a3-89f9-03d76226c592",
   "metadata": {},
   "outputs": [
    {
     "data": {
      "text/plain": [
       "(34842,)"
      ]
     },
     "execution_count": 43,
     "metadata": {},
     "output_type": "execute_result"
    }
   ],
   "source": []
  },
  {
   "cell_type": "code",
   "execution_count": null,
   "id": "d15c1b7f-129e-4f44-bd40-3eff5aee54fa",
   "metadata": {},
   "outputs": [],
   "source": []
  }
 ],
 "metadata": {
  "kernelspec": {
   "display_name": "Python 3 (ipykernel)",
   "language": "python",
   "name": "python3"
  },
  "language_info": {
   "codemirror_mode": {
    "name": "ipython",
    "version": 3
   },
   "file_extension": ".py",
   "mimetype": "text/x-python",
   "name": "python",
   "nbconvert_exporter": "python",
   "pygments_lexer": "ipython3",
   "version": "3.10.12"
  }
 },
 "nbformat": 4,
 "nbformat_minor": 5
}
