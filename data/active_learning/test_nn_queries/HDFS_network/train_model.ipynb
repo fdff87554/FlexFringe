{
 "cells": [
  {
   "cell_type": "code",
   "execution_count": 1,
   "id": "5ccbdb0b-0508-494a-a8a8-c0d4ff724e1b",
   "metadata": {},
   "outputs": [
    {
     "name": "stderr",
     "output_type": "stream",
     "text": [
      "2023-12-15 09:34:27.652675: I tensorflow/core/platform/cpu_feature_guard.cc:182] This TensorFlow binary is optimized to use available CPU instructions in performance-critical operations.\n",
      "To enable the following instructions: AVX2 FMA, in other operations, rebuild TensorFlow with the appropriate compiler flags.\n"
     ]
    }
   ],
   "source": [
    "import numpy as np\n",
    "\n",
    "import tensorflow.keras\n",
    "from tensorflow.keras.models import Model\n",
    "from tensorflow.keras.layers import Dense, Input, Reshape\n",
    "from tensorflow.keras.layers import LSTM, Bidirectional, Embedding\n",
    "from tensorflow.keras.callbacks import EarlyStopping\n",
    "\n",
    "from sklearn.model_selection import train_test_split\n",
    "\n",
    "import pickle as pk\n",
    "\n",
    "BATCH_SIZE = 32\n",
    "EPOCHS = 70\n",
    "VALIDATION_SPLIT = 0.02\n",
    "\n",
    "train_data_path = \"train_data.pk\""
   ]
  },
  {
   "cell_type": "code",
   "execution_count": 2,
   "id": "c059c361-4927-4f3d-9988-f0dc5ff78596",
   "metadata": {},
   "outputs": [
    {
     "data": {
      "text/plain": [
       "(4855, 4855)"
      ]
     },
     "execution_count": 2,
     "metadata": {},
     "output_type": "execute_result"
    }
   ],
   "source": [
    "train_data = pk.load(open(train_data_path, \"rb\"))\n",
    "X_train = train_data[\"X\"]\n",
    "X_train_oh = train_data[\"X_oh\"]\n",
    "\n",
    "alphabet_size = train_data[\"alphabet_size\"]\n",
    "\n",
    "len(X_train), len(X_train_oh)"
   ]
  },
  {
   "cell_type": "code",
   "execution_count": 3,
   "id": "401c7fa2-7629-4673-81bd-a9784509bc43",
   "metadata": {},
   "outputs": [],
   "source": [
    "X_train, X_val, X_train_oh, X_val_oh = train_test_split(X_train, X_train_oh, test_size=VALIDATION_SPLIT)"
   ]
  },
  {
   "cell_type": "code",
   "execution_count": 4,
   "id": "26d4a0f2-7094-462b-b15f-af6b316755db",
   "metadata": {},
   "outputs": [],
   "source": [
    "def get_model(input_shape, alphabet_size):\n",
    "    OUTPUT_DIM = alphabet_size # sigmoid output\n",
    "\n",
    "    input_layer = Input(shape=input_shape)\n",
    "    x = Embedding(alphabet_size, 4)(input_layer)\n",
    "    x = Bidirectional(LSTM(8))(x)\n",
    "    x = Dense(OUTPUT_DIM, activation=\"softmax\")(x)\n",
    "    model = Model(input_layer, x)\n",
    "\n",
    "    model.compile(\n",
    "        loss=\"categorical_crossentropy\",\n",
    "        optimizer=\"adam\",\n",
    "        metrics=[\"categorical_crossentropy\"]\n",
    "    )\n",
    "    return model"
   ]
  },
  {
   "cell_type": "code",
   "execution_count": 5,
   "id": "7051a418-ef36-44dc-a5fc-8a2dbb476c28",
   "metadata": {},
   "outputs": [
    {
     "data": {
      "text/plain": [
       "(TensorShape([20, 30]), 30)"
      ]
     },
     "execution_count": 5,
     "metadata": {},
     "output_type": "execute_result"
    }
   ],
   "source": [
    "model = get_model((1,), alphabet_size)\n",
    "\n",
    "model(np.array(X_train[0])).shape, alphabet_size"
   ]
  },
  {
   "cell_type": "code",
   "execution_count": 6,
   "id": "46fcc862-beda-40a9-9f05-46c3520e4949",
   "metadata": {},
   "outputs": [],
   "source": [
    "# because we have arrays of different length we have to use the fit_generator() method\n",
    "\n",
    "def data_generator():\n",
    "    global X_train\n",
    "    global X_train_oh\n",
    "    \n",
    "    idx = 0\n",
    "    while True:\n",
    "        if idx == len(X_train):\n",
    "            idx = 0\n",
    "        yield np.array(X_train[idx]), np.array(X_train_oh[idx])\n",
    "        idx += 1\n",
    "\n",
    "def val_generator():\n",
    "    global X_val\n",
    "    global X_val_oh\n",
    "    \n",
    "    idx = 0\n",
    "    while True:\n",
    "        if idx == len(X_val):\n",
    "            idx = 0\n",
    "        yield np.array(X_val[idx]), np.array(X_val_oh[idx])\n",
    "        idx += 1"
   ]
  },
  {
   "cell_type": "code",
   "execution_count": null,
   "id": "649a0fba-d6d4-45db-85b4-cd12e4088aaa",
   "metadata": {},
   "outputs": [
    {
     "name": "stdout",
     "output_type": "stream",
     "text": [
      "Epoch 1/70\n",
      "148/148 [==============================] - 4s 8ms/step - loss: 3.1890 - categorical_crossentropy: 3.1890 - val_loss: 2.8011 - val_categorical_crossentropy: 2.8011\n",
      "Epoch 2/70\n",
      "148/148 [==============================] - 0s 3ms/step - loss: 2.3575 - categorical_crossentropy: 2.3575 - val_loss: 2.1164 - val_categorical_crossentropy: 2.1164\n",
      "Epoch 3/70\n",
      "148/148 [==============================] - 0s 3ms/step - loss: 1.9452 - categorical_crossentropy: 1.9452 - val_loss: 1.8015 - val_categorical_crossentropy: 1.8015\n",
      "Epoch 4/70\n",
      "148/148 [==============================] - 0s 3ms/step - loss: 1.7020 - categorical_crossentropy: 1.7020 - val_loss: 1.6331 - val_categorical_crossentropy: 1.6331\n",
      "Epoch 5/70\n",
      "148/148 [==============================] - 0s 3ms/step - loss: 1.5313 - categorical_crossentropy: 1.5313 - val_loss: 1.3489 - val_categorical_crossentropy: 1.3489\n",
      "Epoch 6/70\n",
      "148/148 [==============================] - 0s 3ms/step - loss: 1.1481 - categorical_crossentropy: 1.1481 - val_loss: 1.1346 - val_categorical_crossentropy: 1.1346\n",
      "Epoch 7/70\n",
      "148/148 [==============================] - 0s 3ms/step - loss: 1.0924 - categorical_crossentropy: 1.0924 - val_loss: 1.0573 - val_categorical_crossentropy: 1.0573\n",
      "Epoch 8/70\n",
      "148/148 [==============================] - 0s 3ms/step - loss: 1.0510 - categorical_crossentropy: 1.0510 - val_loss: 1.0069 - val_categorical_crossentropy: 1.0069\n",
      "Epoch 9/70\n",
      "148/148 [==============================] - 0s 3ms/step - loss: 0.9917 - categorical_crossentropy: 0.9917 - val_loss: 0.9724 - val_categorical_crossentropy: 0.9724\n",
      "Epoch 10/70\n",
      "148/148 [==============================] - 0s 3ms/step - loss: 0.9597 - categorical_crossentropy: 0.9597 - val_loss: 0.9426 - val_categorical_crossentropy: 0.9426\n",
      "Epoch 11/70\n",
      "148/148 [==============================] - 0s 3ms/step - loss: 0.9167 - categorical_crossentropy: 0.9167 - val_loss: 0.9160 - val_categorical_crossentropy: 0.9160\n",
      "Epoch 12/70\n",
      "148/148 [==============================] - 0s 3ms/step - loss: 0.8935 - categorical_crossentropy: 0.8935 - val_loss: 0.9004 - val_categorical_crossentropy: 0.9004\n",
      "Epoch 13/70\n",
      "148/148 [==============================] - 0s 3ms/step - loss: 0.9051 - categorical_crossentropy: 0.9051 - val_loss: 0.8820 - val_categorical_crossentropy: 0.8820\n",
      "Epoch 14/70\n",
      "148/148 [==============================] - 0s 2ms/step - loss: 0.9403 - categorical_crossentropy: 0.9403 - val_loss: 0.8703 - val_categorical_crossentropy: 0.8703\n",
      "Epoch 15/70\n",
      "148/148 [==============================] - 0s 2ms/step - loss: 0.8697 - categorical_crossentropy: 0.8697 - val_loss: 0.8617 - val_categorical_crossentropy: 0.8617\n",
      "Epoch 16/70\n",
      "148/148 [==============================] - 0s 2ms/step - loss: 0.8527 - categorical_crossentropy: 0.8527 - val_loss: 0.8556 - val_categorical_crossentropy: 0.8556\n",
      "Epoch 17/70\n",
      "148/148 [==============================] - 0s 2ms/step - loss: 0.9124 - categorical_crossentropy: 0.9124 - val_loss: 0.8528 - val_categorical_crossentropy: 0.8528\n",
      "Epoch 18/70\n",
      "148/148 [==============================] - 0s 2ms/step - loss: 0.8659 - categorical_crossentropy: 0.8659 - val_loss: 0.8509 - val_categorical_crossentropy: 0.8509\n",
      "Epoch 19/70\n",
      "148/148 [==============================] - 0s 2ms/step - loss: 0.8942 - categorical_crossentropy: 0.8942 - val_loss: 0.8499 - val_categorical_crossentropy: 0.8499\n",
      "Epoch 20/70\n",
      "148/148 [==============================] - 0s 2ms/step - loss: 0.8486 - categorical_crossentropy: 0.8486 - val_loss: 0.8452 - val_categorical_crossentropy: 0.8452\n",
      "Epoch 21/70\n",
      "148/148 [==============================] - 0s 2ms/step - loss: 0.8489 - categorical_crossentropy: 0.8489 - val_loss: 0.8438 - val_categorical_crossentropy: 0.8438\n",
      "Epoch 22/70\n",
      "148/148 [==============================] - 0s 2ms/step - loss: 0.8718 - categorical_crossentropy: 0.8718 - val_loss: 0.8413 - val_categorical_crossentropy: 0.8413\n",
      "Epoch 23/70\n",
      "148/148 [==============================] - 0s 3ms/step - loss: 0.8327 - categorical_crossentropy: 0.8327 - val_loss: 0.8437 - val_categorical_crossentropy: 0.8437\n",
      "Epoch 24/70\n",
      "148/148 [==============================] - 0s 2ms/step - loss: 0.8375 - categorical_crossentropy: 0.8375 - val_loss: 0.8398 - val_categorical_crossentropy: 0.8398\n",
      "Epoch 25/70\n",
      "148/148 [==============================] - 0s 2ms/step - loss: 0.8375 - categorical_crossentropy: 0.8375 - val_loss: 0.8382 - val_categorical_crossentropy: 0.8382\n",
      "Epoch 26/70\n",
      "148/148 [==============================] - 0s 2ms/step - loss: 0.8385 - categorical_crossentropy: 0.8385 - val_loss: 0.8373 - val_categorical_crossentropy: 0.8373\n",
      "Epoch 27/70\n",
      "148/148 [==============================] - 0s 3ms/step - loss: 0.8284 - categorical_crossentropy: 0.8284 - val_loss: 0.8352 - val_categorical_crossentropy: 0.8352\n",
      "Epoch 28/70\n",
      "148/148 [==============================] - 0s 3ms/step - loss: 0.8807 - categorical_crossentropy: 0.8807 - val_loss: 0.8347 - val_categorical_crossentropy: 0.8347\n",
      "Epoch 29/70\n",
      "148/148 [==============================] - 0s 3ms/step - loss: 0.8411 - categorical_crossentropy: 0.8411 - val_loss: 0.8366 - val_categorical_crossentropy: 0.8366\n",
      "Epoch 30/70\n",
      "148/148 [==============================] - 0s 3ms/step - loss: 0.8429 - categorical_crossentropy: 0.8429 - val_loss: 0.8351 - val_categorical_crossentropy: 0.8351\n",
      "Epoch 31/70\n",
      "148/148 [==============================] - 0s 3ms/step - loss: 0.8276 - categorical_crossentropy: 0.8276 - val_loss: 0.8338 - val_categorical_crossentropy: 0.8338\n",
      "Epoch 32/70\n",
      "148/148 [==============================] - 0s 3ms/step - loss: 0.8478 - categorical_crossentropy: 0.8478 - val_loss: 0.8331 - val_categorical_crossentropy: 0.8331\n",
      "Epoch 33/70\n",
      "148/148 [==============================] - 0s 3ms/step - loss: 0.8334 - categorical_crossentropy: 0.8334 - val_loss: 0.8340 - val_categorical_crossentropy: 0.8340\n",
      "Epoch 34/70\n",
      "148/148 [==============================] - 0s 3ms/step - loss: 0.8474 - categorical_crossentropy: 0.8474 - val_loss: 0.8328 - val_categorical_crossentropy: 0.8328\n",
      "Epoch 35/70\n",
      "148/148 [==============================] - 0s 3ms/step - loss: 0.8520 - categorical_crossentropy: 0.8520 - val_loss: 0.8314 - val_categorical_crossentropy: 0.8314\n",
      "Epoch 36/70\n",
      "148/148 [==============================] - 0s 3ms/step - loss: 0.8466 - categorical_crossentropy: 0.8466 - val_loss: 0.8310 - val_categorical_crossentropy: 0.8310\n",
      "Epoch 37/70\n",
      "148/148 [==============================] - 0s 3ms/step - loss: 0.8566 - categorical_crossentropy: 0.8566 - val_loss: 0.8307 - val_categorical_crossentropy: 0.8307\n",
      "Epoch 38/70\n",
      "148/148 [==============================] - 0s 3ms/step - loss: 0.8220 - categorical_crossentropy: 0.8220 - val_loss: 0.8320 - val_categorical_crossentropy: 0.8320\n",
      "Epoch 39/70\n",
      "148/148 [==============================] - 0s 3ms/step - loss: 0.8568 - categorical_crossentropy: 0.8568 - val_loss: 0.8336 - val_categorical_crossentropy: 0.8336\n",
      "Epoch 40/70\n",
      "148/148 [==============================] - 0s 3ms/step - loss: 0.8877 - categorical_crossentropy: 0.8877 - val_loss: 0.8300 - val_categorical_crossentropy: 0.8300\n",
      "Epoch 41/70\n",
      "148/148 [==============================] - 0s 3ms/step - loss: 0.8428 - categorical_crossentropy: 0.8428 - val_loss: 0.8310 - val_categorical_crossentropy: 0.8310\n",
      "Epoch 42/70\n",
      "148/148 [==============================] - 0s 3ms/step - loss: 0.8455 - categorical_crossentropy: 0.8455 - val_loss: 0.8305 - val_categorical_crossentropy: 0.8305\n",
      "Epoch 43/70\n",
      "148/148 [==============================] - 0s 3ms/step - loss: 0.8144 - categorical_crossentropy: 0.8144 - val_loss: 0.8306 - val_categorical_crossentropy: 0.8306\n",
      "Epoch 44/70\n",
      "148/148 [==============================] - 0s 3ms/step - loss: 0.8516 - categorical_crossentropy: 0.8516 - val_loss: 0.8314 - val_categorical_crossentropy: 0.8314\n",
      "Epoch 45/70\n",
      "148/148 [==============================] - 0s 3ms/step - loss: 0.8546 - categorical_crossentropy: 0.8546 - val_loss: 0.8296 - val_categorical_crossentropy: 0.8296\n",
      "Epoch 46/70\n",
      "148/148 [==============================] - 0s 3ms/step - loss: 0.8624 - categorical_crossentropy: 0.8624 - val_loss: 0.8296 - val_categorical_crossentropy: 0.8296\n",
      "Epoch 47/70\n",
      "148/148 [==============================] - 0s 3ms/step - loss: 0.8484 - categorical_crossentropy: 0.8484 - val_loss: 0.8277 - val_categorical_crossentropy: 0.8277\n",
      "Epoch 48/70\n",
      " 46/148 [========>.....................] - ETA: 0s - loss: 0.8745 - categorical_crossentropy: 0.8745"
     ]
    }
   ],
   "source": [
    "es = EarlyStopping(\n",
    "    monitor=\"val_loss\",\n",
    "    patience=5,\n",
    "    mode=\"auto\")\n",
    "\n",
    "data_gen = data_generator()\n",
    "val_gen = val_generator()\n",
    "\n",
    "model.fit(\n",
    "    data_gen,\n",
    "    steps_per_epoch=int(len(X_train) / BATCH_SIZE),\n",
    "    epochs=EPOCHS,\n",
    "    validation_data=val_gen,\n",
    "    validation_steps=len(X_val),\n",
    "    callbacks=[es]\n",
    ")"
   ]
  },
  {
   "cell_type": "code",
   "execution_count": null,
   "id": "75ffda14-b2f5-4174-ada1-6bd61d57f109",
   "metadata": {},
   "outputs": [],
   "source": [
    "model.save(\"model.keras\")"
   ]
  }
 ],
 "metadata": {
  "kernelspec": {
   "display_name": "Python 3 (ipykernel)",
   "language": "python",
   "name": "python3"
  },
  "language_info": {
   "codemirror_mode": {
    "name": "ipython",
    "version": 3
   },
   "file_extension": ".py",
   "mimetype": "text/x-python",
   "name": "python",
   "nbconvert_exporter": "python",
   "pygments_lexer": "ipython3",
   "version": "3.10.12"
  }
 },
 "nbformat": 4,
 "nbformat_minor": 5
}
