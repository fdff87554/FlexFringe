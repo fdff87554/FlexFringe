{
 "cells": [
  {
   "cell_type": "code",
   "execution_count": 1,
   "id": "4fbf1f79-ed13-4b3d-8266-5c5231d88256",
   "metadata": {},
   "outputs": [
    {
     "name": "stdout",
     "output_type": "stream",
     "text": [
      "data\t\t\t\t\t    preprocess_deeplog_data.ipynb\n",
      "distilled_model.pdf\t\t\t    preprocess_logpai_data.ipynb\n",
      "evaluate_distilled_model_results.ipynb\t    __pycache__\n",
      "evaluate_predictions.ipynb\t\t    test_data.pk\n",
      "model.keras\t\t\t\t    train_data.pk\n",
      "nn_connector_model.py\t\t\t    train_model.ipynb\n",
      "nn_connector_model.py.ff.final.dot\t    write_test_set_to_abbadingo.ipynb\n",
      "nn_connector_model.py.ff.final.json\t    write_train_set_to_abbadingo.ipynb\n",
      "nn_connector_model.py.ff.final.json.result  X_pred.pk\n",
      "predict_and_save.ipynb\n"
     ]
    }
   ],
   "source": [
    "!ls"
   ]
  },
  {
   "cell_type": "code",
   "execution_count": 2,
   "id": "367b56ce-e863-4192-89b5-bc311a6c3756",
   "metadata": {},
   "outputs": [
    {
     "name": "stdout",
     "output_type": "stream",
     "text": [
      "anomaly_label.csv  hdfs_test_abnormal  hdfs_train  X_test.dat\n",
      "Event_traces.csv   hdfs_test_normal    readme.md   y_test.txt\n"
     ]
    }
   ],
   "source": [
    "!ls data"
   ]
  },
  {
   "cell_type": "code",
   "execution_count": 3,
   "id": "72ad39b5-e71d-44f1-8a8d-cbb2105e20a2",
   "metadata": {},
   "outputs": [
    {
     "data": {
      "text/html": [
       "<div>\n",
       "<style scoped>\n",
       "    .dataframe tbody tr th:only-of-type {\n",
       "        vertical-align: middle;\n",
       "    }\n",
       "\n",
       "    .dataframe tbody tr th {\n",
       "        vertical-align: top;\n",
       "    }\n",
       "\n",
       "    .dataframe thead th {\n",
       "        text-align: right;\n",
       "    }\n",
       "</style>\n",
       "<table border=\"1\" class=\"dataframe\">\n",
       "  <thead>\n",
       "    <tr style=\"text-align: right;\">\n",
       "      <th></th>\n",
       "      <th>row nr</th>\n",
       "      <th>abbadingo trace</th>\n",
       "      <th>state sequence</th>\n",
       "      <th>score sequence</th>\n",
       "      <th>sum scores</th>\n",
       "      <th>mean scores</th>\n",
       "      <th>min score</th>\n",
       "    </tr>\n",
       "  </thead>\n",
       "  <tbody>\n",
       "    <tr>\n",
       "      <th>0</th>\n",
       "      <td>1</td>\n",
       "      <td>\"0 13 6 6 6 8 19 15 19 15 19 15 9 9 9\"</td>\n",
       "      <td>[1,1,1,0,3,3,3,3,3,3,3,3,3,3]</td>\n",
       "      <td>[-0.274552,-0.263955,-0.263955,-1.50482,-5.68...</td>\n",
       "      <td>-43.9226</td>\n",
       "      <td>-3.13733</td>\n",
       "      <td>-10.3536</td>\n",
       "    </tr>\n",
       "    <tr>\n",
       "      <th>1</th>\n",
       "      <td>1</td>\n",
       "      <td>\"0 13 6 6 8 6 19 15 19 15 19 15 9 9 9\"</td>\n",
       "      <td>[1,1,0,1,1,1,1,1,1,1,3,3,3,3]</td>\n",
       "      <td>[-0.274552,-0.263955,-1.50482,-0.274552,-4.75...</td>\n",
       "      <td>-70.7777</td>\n",
       "      <td>-5.05555</td>\n",
       "      <td>-10.3536</td>\n",
       "    </tr>\n",
       "    <tr>\n",
       "      <th>2</th>\n",
       "      <td>1</td>\n",
       "      <td>\"1 2 6 8\"</td>\n",
       "      <td>[1,0,0]</td>\n",
       "      <td>[-0.274552,-1.50482,-14.586]</td>\n",
       "      <td>-16.3654</td>\n",
       "      <td>-5.45512</td>\n",
       "      <td>-14.5860</td>\n",
       "    </tr>\n",
       "    <tr>\n",
       "      <th>3</th>\n",
       "      <td>1</td>\n",
       "      <td>\"1 3 8 6 6\"</td>\n",
       "      <td>[1,1,1,1]</td>\n",
       "      <td>[-1.44707,-0.263955,-0.263955,-16.595]</td>\n",
       "      <td>-18.5700</td>\n",
       "      <td>-4.64249</td>\n",
       "      <td>-16.5950</td>\n",
       "    </tr>\n",
       "    <tr>\n",
       "      <th>4</th>\n",
       "      <td>1</td>\n",
       "      <td>\"1 25 8 6 6 6 9 9 9 19 15 19 15 19 15 1 2 1 2...</td>\n",
       "      <td>[1,1,1,1,3,3,3,3,3,3,3,3,3,2,2,2,2,2,2,2,2,2,...</td>\n",
       "      <td>[-1.44707,-0.263955,-0.263955,-0.263955,-6.80...</td>\n",
       "      <td>-163.2120</td>\n",
       "      <td>-6.27738</td>\n",
       "      <td>-14.2963</td>\n",
       "    </tr>\n",
       "    <tr>\n",
       "      <th>...</th>\n",
       "      <td>...</td>\n",
       "      <td>...</td>\n",
       "      <td>...</td>\n",
       "      <td>...</td>\n",
       "      <td>...</td>\n",
       "      <td>...</td>\n",
       "      <td>...</td>\n",
       "    </tr>\n",
       "    <tr>\n",
       "      <th>33689</th>\n",
       "      <td>1</td>\n",
       "      <td>\"1 20 6 8 6 6 19 15 19 15 19 15 9 9 9 10 10 1...</td>\n",
       "      <td>[1,0,1,1,1,1,1,1,1,1,3,3,3,2,2,2,2,2,2,2,2]</td>\n",
       "      <td>[-0.274552,-1.50482,-0.274552,-0.263955,-4.75...</td>\n",
       "      <td>-153.6540</td>\n",
       "      <td>-7.31687</td>\n",
       "      <td>-14.2963</td>\n",
       "    </tr>\n",
       "    <tr>\n",
       "      <th>33690</th>\n",
       "      <td>1</td>\n",
       "      <td>\"0 19 6 6 6 8 19 15 19 15 19 15 9 9 9 10 10 1...</td>\n",
       "      <td>[1,1,1,0,3,3,3,3,3,3,3,3,3,2,2,2,2,2,2,2]</td>\n",
       "      <td>[-0.274552,-0.263955,-0.263955,-1.50482,-5.68...</td>\n",
       "      <td>-114.2360</td>\n",
       "      <td>-5.71180</td>\n",
       "      <td>-14.2963</td>\n",
       "    </tr>\n",
       "    <tr>\n",
       "      <th>33691</th>\n",
       "      <td>1</td>\n",
       "      <td>\"1 20 6 8 6 6 19 15 19 15 19 15 9 9 9 10 10 1...</td>\n",
       "      <td>[1,0,1,1,1,1,1,1,1,1,3,3,3,2,2,2,2,2,2,2,2]</td>\n",
       "      <td>[-0.274552,-1.50482,-0.274552,-0.263955,-4.75...</td>\n",
       "      <td>-153.6540</td>\n",
       "      <td>-7.31687</td>\n",
       "      <td>-14.2963</td>\n",
       "    </tr>\n",
       "    <tr>\n",
       "      <th>33692</th>\n",
       "      <td>1</td>\n",
       "      <td>\"1 20 6 8 6 6 19 15 19 15 19 15 9 9 9 10 10 1...</td>\n",
       "      <td>[1,0,1,1,1,1,1,1,1,1,3,3,3,2,2,2,2,2,2,2,2]</td>\n",
       "      <td>[-0.274552,-1.50482,-0.274552,-0.263955,-4.75...</td>\n",
       "      <td>-153.6540</td>\n",
       "      <td>-7.31687</td>\n",
       "      <td>-14.2963</td>\n",
       "    </tr>\n",
       "    <tr>\n",
       "      <th>33693</th>\n",
       "      <td>1</td>\n",
       "      <td>\"0 19 6 6 8 6 19 15 19 15 19 15 9 9 9 10 10 1...</td>\n",
       "      <td>[1,1,0,1,1,1,1,1,1,1,3,3,3,2,2,2,2,2,2,2]</td>\n",
       "      <td>[-0.274552,-0.263955,-1.50482,-0.274552,-4.75...</td>\n",
       "      <td>-141.0910</td>\n",
       "      <td>-7.05456</td>\n",
       "      <td>-14.2963</td>\n",
       "    </tr>\n",
       "  </tbody>\n",
       "</table>\n",
       "<p>33694 rows × 7 columns</p>\n",
       "</div>"
      ],
      "text/plain": [
       "       row nr                                    abbadingo trace  \\\n",
       "0           1             \"0 13 6 6 6 8 19 15 19 15 19 15 9 9 9\"   \n",
       "1           1             \"0 13 6 6 8 6 19 15 19 15 19 15 9 9 9\"   \n",
       "2           1                                          \"1 2 6 8\"   \n",
       "3           1                                        \"1 3 8 6 6\"   \n",
       "4           1   \"1 25 8 6 6 6 9 9 9 19 15 19 15 19 15 1 2 1 2...   \n",
       "...       ...                                                ...   \n",
       "33689       1   \"1 20 6 8 6 6 19 15 19 15 19 15 9 9 9 10 10 1...   \n",
       "33690       1   \"0 19 6 6 6 8 19 15 19 15 19 15 9 9 9 10 10 1...   \n",
       "33691       1   \"1 20 6 8 6 6 19 15 19 15 19 15 9 9 9 10 10 1...   \n",
       "33692       1   \"1 20 6 8 6 6 19 15 19 15 19 15 9 9 9 10 10 1...   \n",
       "33693       1   \"0 19 6 6 8 6 19 15 19 15 19 15 9 9 9 10 10 1...   \n",
       "\n",
       "                                          state sequence  \\\n",
       "0                          [1,1,1,0,3,3,3,3,3,3,3,3,3,3]   \n",
       "1                          [1,1,0,1,1,1,1,1,1,1,3,3,3,3]   \n",
       "2                                                [1,0,0]   \n",
       "3                                              [1,1,1,1]   \n",
       "4       [1,1,1,1,3,3,3,3,3,3,3,3,3,2,2,2,2,2,2,2,2,2,...   \n",
       "...                                                  ...   \n",
       "33689        [1,0,1,1,1,1,1,1,1,1,3,3,3,2,2,2,2,2,2,2,2]   \n",
       "33690          [1,1,1,0,3,3,3,3,3,3,3,3,3,2,2,2,2,2,2,2]   \n",
       "33691        [1,0,1,1,1,1,1,1,1,1,3,3,3,2,2,2,2,2,2,2,2]   \n",
       "33692        [1,0,1,1,1,1,1,1,1,1,3,3,3,2,2,2,2,2,2,2,2]   \n",
       "33693          [1,1,0,1,1,1,1,1,1,1,3,3,3,2,2,2,2,2,2,2]   \n",
       "\n",
       "                                          score sequence   sum scores  \\\n",
       "0       [-0.274552,-0.263955,-0.263955,-1.50482,-5.68...     -43.9226   \n",
       "1       [-0.274552,-0.263955,-1.50482,-0.274552,-4.75...     -70.7777   \n",
       "2                           [-0.274552,-1.50482,-14.586]     -16.3654   \n",
       "3                 [-1.44707,-0.263955,-0.263955,-16.595]     -18.5700   \n",
       "4       [-1.44707,-0.263955,-0.263955,-0.263955,-6.80...    -163.2120   \n",
       "...                                                  ...          ...   \n",
       "33689   [-0.274552,-1.50482,-0.274552,-0.263955,-4.75...    -153.6540   \n",
       "33690   [-0.274552,-0.263955,-0.263955,-1.50482,-5.68...    -114.2360   \n",
       "33691   [-0.274552,-1.50482,-0.274552,-0.263955,-4.75...    -153.6540   \n",
       "33692   [-0.274552,-1.50482,-0.274552,-0.263955,-4.75...    -153.6540   \n",
       "33693   [-0.274552,-0.263955,-1.50482,-0.274552,-4.75...    -141.0910   \n",
       "\n",
       "        mean scores   min score  \n",
       "0          -3.13733    -10.3536  \n",
       "1          -5.05555    -10.3536  \n",
       "2          -5.45512    -14.5860  \n",
       "3          -4.64249    -16.5950  \n",
       "4          -6.27738    -14.2963  \n",
       "...             ...         ...  \n",
       "33689      -7.31687    -14.2963  \n",
       "33690      -5.71180    -14.2963  \n",
       "33691      -7.31687    -14.2963  \n",
       "33692      -7.31687    -14.2963  \n",
       "33693      -7.05456    -14.2963  \n",
       "\n",
       "[33694 rows x 7 columns]"
      ]
     },
     "execution_count": 3,
     "metadata": {},
     "output_type": "execute_result"
    }
   ],
   "source": [
    "import pandas as pd\n",
    "import pickle as pk\n",
    "\n",
    "label_file = \"data/y_test.txt\"\n",
    "results_file = \"nn_connector_model.py.ff.final.json.result\"\n",
    "\n",
    "df = pd.read_csv(results_file, delimiter=\";\")\n",
    "df"
   ]
  },
  {
   "cell_type": "code",
   "execution_count": 4,
   "id": "b226c19e-ae83-4116-959a-811a33fc2f34",
   "metadata": {},
   "outputs": [
    {
     "data": {
      "text/plain": [
       "(33694, 33694)"
      ]
     },
     "execution_count": 4,
     "metadata": {},
     "output_type": "execute_result"
    }
   ],
   "source": [
    "y = list()\n",
    "with open(label_file, \"rt\") as inf:\n",
    "    for line in inf:\n",
    "        line = line.strip(\"\\n\")\n",
    "        y.append(int(line))\n",
    "len(df), len(y)"
   ]
  },
  {
   "cell_type": "code",
   "execution_count": 5,
   "id": "ac026dc5-ca19-416e-a4db-09c2c5737dc7",
   "metadata": {},
   "outputs": [
    {
     "data": {
      "text/plain": [
       "Index(['row nr', ' abbadingo trace', ' state sequence', ' score sequence',\n",
       "       ' sum scores', ' mean scores', ' min score'],\n",
       "      dtype='object')"
      ]
     },
     "execution_count": 5,
     "metadata": {},
     "output_type": "execute_result"
    }
   ],
   "source": [
    "df.columns"
   ]
  },
  {
   "cell_type": "code",
   "execution_count": 6,
   "id": "7de7077d-50bb-4340-8bd9-78c2cf71c88c",
   "metadata": {},
   "outputs": [
    {
     "data": {
      "text/plain": [
       "<matplotlib.legend.Legend at 0x7fe9dff44550>"
      ]
     },
     "execution_count": 6,
     "metadata": {},
     "output_type": "execute_result"
    },
    {
     "data": {
      "image/png": "[encoded data removed]",
      "text/plain": [
       "<Figure size 1000x700 with 1 Axes>"
      ]
     },
     "metadata": {},
     "output_type": "display_data"
    }
   ],
   "source": [
    "from sklearn.metrics import roc_curve, auc, roc_auc_score\n",
    "import matplotlib.pyplot as plt\n",
    "import seaborn as sns\n",
    "\n",
    "score = df[\" min score\"]\n",
    "\n",
    "fpr, tpr, thresholds = roc_curve(y, score)\n",
    "roc_auc = roc_auc_score(y, score)\n",
    "\n",
    "plt.figure(figsize=(10, 7))\n",
    "lw = 2\n",
    "plt.plot(\n",
    "    fpr,\n",
    "    tpr,\n",
    "    color=\"darkorange\",\n",
    "    lw=lw,\n",
    "    label=\"ROC curve (area = %0.2f)\" % roc_auc,\n",
    ")\n",
    "plt.plot([0, 1], [0, 1], color=\"navy\", lw=lw, linestyle=\"--\")\n",
    "plt.xlim([0.0, 1.0])\n",
    "plt.ylim([0.0, 1.05])\n",
    "plt.xlabel(\"False Positive Rate\")\n",
    "plt.ylabel(\"True Positive Rate\")\n",
    "plt.title(\"Receiver operating characteristic\")\n",
    "plt.legend(loc=\"lower right\")"
   ]
  },
  {
   "cell_type": "code",
   "execution_count": null,
   "id": "6537ddc8-a2b9-45df-a3bc-c9aacb80fa99",
   "metadata": {},
   "outputs": [],
   "source": []
  }
 ],
 "metadata": {
  "kernelspec": {
   "display_name": "Python 3 (ipykernel)",
   "language": "python",
   "name": "python3"
  },
  "language_info": {
   "codemirror_mode": {
    "name": "ipython",
    "version": 3
   },
   "file_extension": ".py",
   "mimetype": "text/x-python",
   "name": "python",
   "nbconvert_exporter": "python",
   "pygments_lexer": "ipython3",
   "version": "3.10.12"
  }
 },
 "nbformat": 4,
 "nbformat_minor": 5
}
