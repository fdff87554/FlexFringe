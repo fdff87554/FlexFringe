{
 "cells": [
  {
   "cell_type": "code",
   "execution_count": 1,
   "id": "c92f5594-2e9e-439a-ae3a-9a1661eed510",
   "metadata": {},
   "outputs": [
    {
     "name": "stderr",
     "output_type": "stream",
     "text": [
      "2023-12-15 09:37:22.220392: I tensorflow/core/platform/cpu_feature_guard.cc:182] This TensorFlow binary is optimized to use available CPU instructions in performance-critical operations.\n",
      "To enable the following instructions: AVX2 FMA, in other operations, rebuild TensorFlow with the appropriate compiler flags.\n"
     ]
    }
   ],
   "source": [
    "import numpy as np\n",
    "import pickle as pk\n",
    "\n",
    "import tensorflow.keras\n",
    "from tensorflow.keras.models import load_model\n",
    "    \n",
    "test_data_path = \"test_data.pk\"\n",
    "MODEL_NAME = \"model.keras\"\n",
    "\n",
    "model = load_model(MODEL_NAME)"
   ]
  },
  {
   "cell_type": "code",
   "execution_count": 2,
   "id": "fbc73304-6e82-4f92-8d51-f34ddac7a54a",
   "metadata": {},
   "outputs": [
    {
     "data": {
      "text/plain": [
       "(33694, 33694, 33694)"
      ]
     },
     "execution_count": 2,
     "metadata": {},
     "output_type": "execute_result"
    }
   ],
   "source": [
    "test_data = pk.load(open(test_data_path, \"rb\"))\n",
    "X_test = test_data[\"X\"]\n",
    "X_test_oh = test_data[\"X_oh\"]\n",
    "alphabet_size = test_data[\"alphabet_size\"]\n",
    "\n",
    "y_test = test_data[\"y\"]\n",
    "event_mapping = test_data[\"event_mapping\"]\n",
    "\n",
    "len(X_test), len(X_test_oh), len(y_test)"
   ]
  },
  {
   "cell_type": "code",
   "execution_count": 3,
   "id": "2d3c7a95-6ee2-4447-ae8d-bd06a6a8e460",
   "metadata": {},
   "outputs": [
    {
     "name": "stdout",
     "output_type": "stream",
     "text": [
      "1/1 [==============================] - 0s 458ms/step\n"
     ]
    }
   ],
   "source": [
    "sample_idx = 5\n",
    "test = model.predict(np.array(X_test[sample_idx]))"
   ]
  },
  {
   "cell_type": "code",
   "execution_count": 4,
   "id": "daee58d9-e2ea-4034-95b9-6a5748b97be6",
   "metadata": {},
   "outputs": [
    {
     "data": {
      "text/plain": [
       "(19, 19)"
      ]
     },
     "execution_count": 4,
     "metadata": {},
     "output_type": "execute_result"
    }
   ],
   "source": [
    "idx = 6\n",
    "np.argmax(test[idx]), np.argmax(X_test_oh[sample_idx][idx])"
   ]
  },
  {
   "cell_type": "code",
   "execution_count": 5,
   "id": "9e042506-bd48-4b26-b377-7e9b733f769e",
   "metadata": {},
   "outputs": [
    {
     "data": {
      "text/plain": [
       "0"
      ]
     },
     "execution_count": 5,
     "metadata": {},
     "output_type": "execute_result"
    }
   ],
   "source": [
    "#X_test[5]\n",
    "y_test[sample_idx]"
   ]
  },
  {
   "cell_type": "code",
   "execution_count": 19,
   "id": "b971dc4a-8783-4e0b-bdcb-cfdafcc4c2f1",
   "metadata": {},
   "outputs": [
    {
     "name": "stdout",
     "output_type": "stream",
     "text": [
      "0\n",
      "1000\n",
      "2000\n",
      "3000\n",
      "4000\n",
      "5000\n",
      "6000\n",
      "7000\n",
      "8000\n",
      "9000\n",
      "10000\n",
      "11000\n",
      "12000\n",
      "13000\n",
      "14000\n",
      "15000\n"
     ]
    }
   ],
   "source": [
    "X_pred = list()\n",
    "for idx, seq in enumerate(X_test):\n",
    "    current_prediction = model(np.array(seq))\n",
    "    #for i in range(len(seq)):\n",
    "        #pred = model(np.array(seq[:i+1]))\n",
    "        #pred = model(np.array(seq))\n",
    "        #print(\"Predict on: \", seq[:i+1].shape)\n",
    "        #print(\"Shape of prediction: \", pred.shape)\n",
    "        #if current_prediction is None:\n",
    "        #    current_prediction = pred\n",
    "        #else:\n",
    "        #    current_prediction = np.vstack((current_prediction, pred))\n",
    "        #print(\"Current_prediction: \", current_prediction.shape)\n",
    "    X_pred.append(current_prediction)\n",
    "    if idx % 1000 == 0:\n",
    "        print(idx)\n",
    "    if idx == 15000: # TODD: do more here\n",
    "        break"
   ]
  },
  {
   "cell_type": "code",
   "execution_count": 22,
   "id": "12cf2009-0108-4a6b-a112-7dee20a66934",
   "metadata": {},
   "outputs": [
    {
     "data": {
      "text/plain": [
       "((14,), TensorShape([14, 30]), (14, 30))"
      ]
     },
     "execution_count": 22,
     "metadata": {},
     "output_type": "execute_result"
    }
   ],
   "source": [
    "X_test[0].shape, X_pred[0].shape, X_test_oh[0].shape"
   ]
  },
  {
   "cell_type": "code",
   "execution_count": 23,
   "id": "1d21c250-75c2-4c38-a6d7-63df69b98d96",
   "metadata": {},
   "outputs": [
    {
     "name": "stdout",
     "output_type": "stream",
     "text": [
      "15001\n"
     ]
    }
   ],
   "source": [
    "print(len(X_pred))"
   ]
  },
  {
   "cell_type": "code",
   "execution_count": 24,
   "id": "9b47121e-3fff-4b2d-ad52-2bcd2a6d9744",
   "metadata": {},
   "outputs": [],
   "source": [
    "import pickle as pk\n",
    "\n",
    "pk.dump(X_pred, open(\"X_pred.pk\", \"wb\"))"
   ]
  }
 ],
 "metadata": {
  "kernelspec": {
   "display_name": "Python 3 (ipykernel)",
   "language": "python",
   "name": "python3"
  },
  "language_info": {
   "codemirror_mode": {
    "name": "ipython",
    "version": 3
   },
   "file_extension": ".py",
   "mimetype": "text/x-python",
   "name": "python",
   "nbconvert_exporter": "python",
   "pygments_lexer": "ipython3",
   "version": "3.10.12"
  }
 },
 "nbformat": 4,
 "nbformat_minor": 5
}
