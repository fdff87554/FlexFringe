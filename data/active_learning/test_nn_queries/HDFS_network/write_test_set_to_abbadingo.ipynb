{
 "cells": [
  {
   "cell_type": "code",
   "execution_count": 8,
   "id": "ce243b58-556f-4baf-95c2-72342d361589",
   "metadata": {},
   "outputs": [
    {
     "name": "stdout",
     "output_type": "stream",
     "text": [
      "data\t\t\t\t\t    preprocess_deeplog_data.ipynb\n",
      "evaluate_distilled_model_results.ipynb\t    preprocess_logpai_data.ipynb\n",
      "evaluate_predictions.ipynb\t\t    test_data.pk\n",
      "model.keras\t\t\t\t    train_data.pk\n",
      "nn_connector_model.py\t\t\t    train_model.ipynb\n",
      "nn_connector_model.py.ff.final.dot\t    write_test_set_to_abbadingo.ipynb\n",
      "nn_connector_model.py.ff.final.json\t    write_train_set_to_abbadingo.ipynb\n",
      "nn_connector_model.py.ff.final.json.result  X_pred.pk\n",
      "predict_and_save.ipynb\n"
     ]
    }
   ],
   "source": [
    "!ls"
   ]
  },
  {
   "cell_type": "code",
   "execution_count": 9,
   "id": "79ba1e28-05f3-48c4-ba3b-b4d96f5a6719",
   "metadata": {},
   "outputs": [
    {
     "name": "stdout",
     "output_type": "stream",
     "text": [
      "/home/robert/Documents/code/Flexfringe/data/active_learning/test_nn_queries/HDFS_network\n"
     ]
    }
   ],
   "source": [
    "!pwd"
   ]
  },
  {
   "cell_type": "code",
   "execution_count": 10,
   "id": "f7997908-89ed-45e1-a392-bc17d32e78f7",
   "metadata": {},
   "outputs": [
    {
     "data": {
      "text/plain": [
       "dict_keys(['X', 'X_oh', 'y', 'alphabet_size', 'event_mapping'])"
      ]
     },
     "execution_count": 10,
     "metadata": {},
     "output_type": "execute_result"
    }
   ],
   "source": [
    "import numpy as np\n",
    "\n",
    "import pickle as pk\n",
    "\n",
    "outf_path = \"data/X_test.dat\"\n",
    "label_path = \"data/y_test.txt\"\n",
    "\n",
    "data_path = \"test_data.pk\"\n",
    "data = pk.load(open(data_path, \"rb\"))\n",
    "data.keys()"
   ]
  },
  {
   "cell_type": "code",
   "execution_count": 11,
   "id": "c5814c57-bb7a-4470-8ea7-771e4e3947b7",
   "metadata": {},
   "outputs": [
    {
     "data": {
      "text/plain": [
       "(33694, 33694, (array([0, 1]), array([16856, 16838])), 30)"
      ]
     },
     "execution_count": 11,
     "metadata": {},
     "output_type": "execute_result"
    }
   ],
   "source": [
    "X = data[\"X\"]\n",
    "alph_size = data[\"alphabet_size\"]\n",
    "mapping = data[\"event_mapping\"]\n",
    "y = data[\"y\"]\n",
    "\n",
    "assert(alph_size == len(mapping))\n",
    "\n",
    "len(X), len(y), np.unique(y, return_counts=True), alph_size#, mapping"
   ]
  },
  {
   "cell_type": "code",
   "execution_count": 12,
   "id": "c2739804-335d-4e2c-a54e-31ca75a49f0e",
   "metadata": {},
   "outputs": [
    {
     "data": {
      "text/plain": [
       "{'1': 0,\n",
       " '4': 1,\n",
       " '3': 2,\n",
       " '13': 3,\n",
       " '25': 4,\n",
       " '19': 5,\n",
       " '5': 6,\n",
       " '21': 7,\n",
       " '22': 8,\n",
       " '26': 9,\n",
       " '23': 10,\n",
       " '27': 11,\n",
       " '17': 12,\n",
       " '20': 13,\n",
       " '28': 14,\n",
       " '9': 15,\n",
       " '24': 16,\n",
       " '14': 17,\n",
       " '7': 18,\n",
       " '11': 19,\n",
       " '<SOS>': 20,\n",
       " '8': 21,\n",
       " '15': 22,\n",
       " '6': 23,\n",
       " '18': 24,\n",
       " '12': 25,\n",
       " '10': 26,\n",
       " '16': 27,\n",
       " '2': 28,\n",
       " '<EOS>': 29}"
      ]
     },
     "execution_count": 12,
     "metadata": {},
     "output_type": "execute_result"
    }
   ],
   "source": [
    "mapping"
   ]
  },
  {
   "cell_type": "code",
   "execution_count": 15,
   "id": "224978e8-adc3-4958-882c-215b1a3ea1c7",
   "metadata": {},
   "outputs": [],
   "source": [
    "with open(outf_path, \"wt\") as outf, open(label_path, \"wt\") as labelf:\n",
    "    outf.write(\"{} {}\\n\".format(len(X), alph_size))\n",
    "    for seq, label in zip(X, y):\n",
    "        mapped_string = [str(x) for x in seq if int(x) is not mapping[\"<SOS>\"] and x is not mapping[\"<EOS>\"]]\n",
    "        outf.write(\"{} {} {}\\n\".format(label, len(mapped_string), \" \".join(mapped_string)))\n",
    "        labelf.write(\"{}\\n\".format(label))"
   ]
  }
 ],
 "metadata": {
  "kernelspec": {
   "display_name": "Python 3 (ipykernel)",
   "language": "python",
   "name": "python3"
  },
  "language_info": {
   "codemirror_mode": {
    "name": "ipython",
    "version": 3
   },
   "file_extension": ".py",
   "mimetype": "text/x-python",
   "name": "python",
   "nbconvert_exporter": "python",
   "pygments_lexer": "ipython3",
   "version": "3.10.12"
  }
 },
 "nbformat": 4,
 "nbformat_minor": 5
}
