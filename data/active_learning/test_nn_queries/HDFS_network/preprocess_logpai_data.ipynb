{
 "cells": [
  {
   "cell_type": "code",
   "execution_count": 1,
   "id": "83733bc5-ecbb-4977-ba0e-eb2098916b3c",
   "metadata": {},
   "outputs": [
    {
     "name": "stdout",
     "output_type": "stream",
     "text": [
      "anomaly_label.csv  Event_traces.csv\n"
     ]
    }
   ],
   "source": [
    "!ls data"
   ]
  },
  {
   "cell_type": "code",
   "execution_count": 2,
   "id": "51ad9a1e-c108-4494-b0ed-2809e7cf1383",
   "metadata": {},
   "outputs": [],
   "source": [
    "import numpy as np\n",
    "\n",
    "trace_file = \"data/Event_traces.csv\"\n",
    "label_file = \"data/anomaly_label.csv\"\n",
    "\n",
    "SOS = \"<SOS>\"\n",
    "EOS = \"<EOS>\"\n",
    "\n",
    "background_label = \"Normal\""
   ]
  },
  {
   "cell_type": "code",
   "execution_count": 3,
   "id": "aedf5317-7816-4afe-a0ab-b9267c711cba",
   "metadata": {},
   "outputs": [],
   "source": [
    "label_dict = {\"Normal\": 0, \"Anomaly\": 1}\n",
    "events_set = set()\n",
    "\n",
    "events = list()\n",
    "labels = list()\n",
    "\n",
    "for i, (data_line, label_line) in enumerate(zip(open(trace_file, \"rt\"), open(label_file, \"rt\"))):\n",
    "    if i==0:\n",
    "        continue\n",
    "    event_trace = data_line.split(\"[\")[1].strip(\"\\\"\").strip(\",\").strip(\"\\\"\").strip(\"]\").split(\",\")\n",
    "    for event in event_trace:\n",
    "        events_set.add(event)\n",
    "    events.append(event_trace)\n",
    "    \n",
    "    label = label_line.split(\",\")[-1].strip(\"\\n\")\n",
    "    labels.append(label_dict[label])\n",
    "events_set.add(SOS)\n",
    "events_set.add(EOS)"
   ]
  },
  {
   "cell_type": "code",
   "execution_count": 4,
   "id": "a5b839d8-750e-4761-b929-bcacf86812ef",
   "metadata": {},
   "outputs": [
    {
     "data": {
      "text/plain": [
       "([[10,\n",
       "   12,\n",
       "   12,\n",
       "   13,\n",
       "   12,\n",
       "   1,\n",
       "   5,\n",
       "   1,\n",
       "   5,\n",
       "   1,\n",
       "   5,\n",
       "   2,\n",
       "   2,\n",
       "   2,\n",
       "   4,\n",
       "   4,\n",
       "   4,\n",
       "   19,\n",
       "   19,\n",
       "   19,\n",
       "   19,\n",
       "   19,\n",
       "   19,\n",
       "   19,\n",
       "   19,\n",
       "   19,\n",
       "   19,\n",
       "   26,\n",
       "   19,\n",
       "   19,\n",
       "   19,\n",
       "   19,\n",
       "   19,\n",
       "   8,\n",
       "   8,\n",
       "   8,\n",
       "   6,\n",
       "   6,\n",
       "   6],\n",
       "  [10,\n",
       "   12,\n",
       "   13,\n",
       "   12,\n",
       "   12,\n",
       "   1,\n",
       "   1,\n",
       "   5,\n",
       "   5,\n",
       "   1,\n",
       "   5,\n",
       "   2,\n",
       "   2,\n",
       "   2,\n",
       "   4,\n",
       "   4,\n",
       "   4,\n",
       "   19,\n",
       "   19,\n",
       "   19,\n",
       "   19,\n",
       "   19,\n",
       "   19,\n",
       "   26,\n",
       "   19,\n",
       "   19,\n",
       "   19,\n",
       "   19,\n",
       "   19,\n",
       "   19,\n",
       "   19,\n",
       "   19,\n",
       "   19,\n",
       "   8,\n",
       "   8,\n",
       "   8,\n",
       "   6,\n",
       "   6,\n",
       "   6],\n",
       "  [10,\n",
       "   12,\n",
       "   12,\n",
       "   12,\n",
       "   13,\n",
       "   1,\n",
       "   5,\n",
       "   1,\n",
       "   5,\n",
       "   2,\n",
       "   2,\n",
       "   1,\n",
       "   5,\n",
       "   2,\n",
       "   4,\n",
       "   4,\n",
       "   4,\n",
       "   19,\n",
       "   19,\n",
       "   19,\n",
       "   19,\n",
       "   19,\n",
       "   19,\n",
       "   19,\n",
       "   19,\n",
       "   19,\n",
       "   19,\n",
       "   19,\n",
       "   19,\n",
       "   19,\n",
       "   26,\n",
       "   19,\n",
       "   19,\n",
       "   8,\n",
       "   8,\n",
       "   8,\n",
       "   6,\n",
       "   6,\n",
       "   6]],\n",
       " [array([[0., 0., 0., ..., 0., 0., 0.],\n",
       "         [0., 0., 0., ..., 0., 0., 0.],\n",
       "         [0., 0., 0., ..., 0., 0., 0.],\n",
       "         ...,\n",
       "         [0., 0., 0., ..., 0., 0., 0.],\n",
       "         [0., 0., 0., ..., 0., 0., 0.],\n",
       "         [0., 0., 0., ..., 0., 0., 0.]]),\n",
       "  array([[0., 0., 0., ..., 0., 0., 0.],\n",
       "         [0., 0., 0., ..., 0., 0., 0.],\n",
       "         [0., 0., 0., ..., 0., 0., 0.],\n",
       "         ...,\n",
       "         [0., 0., 0., ..., 0., 0., 0.],\n",
       "         [0., 0., 0., ..., 0., 0., 0.],\n",
       "         [0., 0., 0., ..., 0., 0., 0.]]),\n",
       "  array([[0., 0., 0., ..., 0., 0., 0.],\n",
       "         [0., 0., 0., ..., 0., 0., 0.],\n",
       "         [0., 0., 0., ..., 0., 0., 0.],\n",
       "         ...,\n",
       "         [0., 0., 0., ..., 0., 0., 0.],\n",
       "         [0., 0., 0., ..., 0., 0., 0.],\n",
       "         [0., 0., 0., ..., 0., 0., 0.]])])"
      ]
     },
     "execution_count": 4,
     "metadata": {},
     "output_type": "execute_result"
    }
   ],
   "source": [
    "event_dict = {event: i for i, event in enumerate(events_set)}\n",
    "alphabet_size = len(event_dict)\n",
    "\n",
    "events_oh = list()\n",
    "for i in range(len(events)):\n",
    "    trace = events[i]\n",
    "    trace_oh = np.zeros((len(trace)+1, alphabet_size))\n",
    "    for j, event in enumerate(trace):\n",
    "        events[i][j] = event_dict[event]\n",
    "        trace_oh[j][event_dict[event]] = 1\n",
    "    events[i].insert(0, event_dict[SOS])\n",
    "    trace_oh[-1][event_dict[EOS]] = 1\n",
    "    events_oh.append(trace_oh)\n",
    "events[5:8], events_oh[5:8]"
   ]
  },
  {
   "cell_type": "code",
   "execution_count": 5,
   "id": "44535471-731d-4425-9527-b1a0efd6d762",
   "metadata": {},
   "outputs": [
    {
     "data": {
      "text/plain": [
       "{'E10': 0,\n",
       " 'E11': 1,\n",
       " 'E26': 2,\n",
       " 'E18': 3,\n",
       " 'E2': 4,\n",
       " 'E9': 5,\n",
       " 'E21': 6,\n",
       " 'E15': 7,\n",
       " 'E23': 8,\n",
       " '<EOS>': 9,\n",
       " '<SOS>': 10,\n",
       " 'E28': 11,\n",
       " 'E5': 12,\n",
       " 'E22': 13,\n",
       " 'E12': 14,\n",
       " 'E14': 15,\n",
       " 'E19': 16,\n",
       " 'E20': 17,\n",
       " 'E16': 18,\n",
       " 'E4': 19,\n",
       " 'E8': 20,\n",
       " 'E24': 21,\n",
       " 'E29': 22,\n",
       " 'E17': 23,\n",
       " 'E13': 24,\n",
       " 'E6': 25,\n",
       " 'E3': 26,\n",
       " 'E25': 27,\n",
       " 'E7': 28,\n",
       " 'E1': 29,\n",
       " 'E27': 30}"
      ]
     },
     "execution_count": 5,
     "metadata": {},
     "output_type": "execute_result"
    }
   ],
   "source": [
    "event_dict"
   ]
  },
  {
   "cell_type": "code",
   "execution_count": 6,
   "id": "244b06a1-314d-4d63-bf5b-476c0a3d49fb",
   "metadata": {},
   "outputs": [
    {
     "data": {
      "text/plain": [
       "(575061, (array([0, 1]), array([558223,  16838])))"
      ]
     },
     "execution_count": 6,
     "metadata": {},
     "output_type": "execute_result"
    }
   ],
   "source": [
    "len(events), np.unique(np.array(labels),return_counts=True)"
   ]
  },
  {
   "cell_type": "code",
   "execution_count": 7,
   "id": "237bdee2-50fd-491b-a9da-8b401ab24e6b",
   "metadata": {},
   "outputs": [
    {
     "data": {
      "text/plain": [
       "(558223, 16838)"
      ]
     },
     "execution_count": 7,
     "metadata": {},
     "output_type": "execute_result"
    }
   ],
   "source": [
    "_, (n_normal, n_anomalies) = np.unique(np.array(labels),return_counts=True)\n",
    "n_normal, n_anomalies"
   ]
  },
  {
   "cell_type": "code",
   "execution_count": 8,
   "id": "14dd7dd7-b36a-4290-832e-5121de6be198",
   "metadata": {},
   "outputs": [
    {
     "data": {
      "text/plain": [
       "(540942, 34119, (array([0, 1]), array([17281, 16838])))"
      ]
     },
     "execution_count": 8,
     "metadata": {},
     "output_type": "execute_result"
    }
   ],
   "source": [
    "import random\n",
    "\n",
    "X_train = list()\n",
    "X_train_oh = list()\n",
    "X_test = list()\n",
    "X_test_oh = list()\n",
    "y_test = list()\n",
    "\n",
    "n_normal_test = n_anomalies # we want test set to be balanced in labels\n",
    "p_test = n_normal_test / (n_normal - n_anomalies)\n",
    "for event, event_oh, label in zip(events, events_oh, labels):\n",
    "    p = random.uniform(0, 1)\n",
    "\n",
    "    if label==1 or p <= p_test:\n",
    "        X_test.append(event)\n",
    "        X_test_oh.append(event_oh)\n",
    "        y_test.append(label)\n",
    "    else:        \n",
    "        X_train.append(event)\n",
    "        X_train_oh.append(event_oh)\n",
    "\n",
    "len(X_train), len(X_test), np.unique(y_test, return_counts=True)"
   ]
  },
  {
   "cell_type": "code",
   "execution_count": 9,
   "id": "8a46701e-bcdb-4d89-a954-5b6c5512972c",
   "metadata": {},
   "outputs": [],
   "source": [
    "import pickle as pk\n",
    "\n",
    "pk.dump({\n",
    "    \"X\": X_train,\n",
    "    \"X_oh\": X_train_oh,\n",
    "    \"alphabet_size\": alphabet_size,\n",
    "    \"event_mapping\": event_dict,\n",
    "    },\n",
    "    open(\"train_data.pk\", \"wb\")   \n",
    ")\n",
    "pk.dump({\n",
    "    \"X\": X_test,\n",
    "    \"X_oh\": X_test_oh,\n",
    "    \"y\": y_test,\n",
    "    \"alphabet_size\": alphabet_size,\n",
    "    \"event_mapping\": event_dict,\n",
    "    },\n",
    "    open(\"test_data.pk\", \"wb\")   \n",
    ")"
   ]
  },
  {
   "cell_type": "code",
   "execution_count": 10,
   "id": "f74b6b2c-d4ff-4357-8a13-1d5b48c80548",
   "metadata": {},
   "outputs": [
    {
     "name": "stdout",
     "output_type": "stream",
     "text": [
      "data\t  preprocess_data.ipynb  test_model.ipynb  train_model.ipynb\n",
      "model.h5  test_data.pk\t\t train_data.pk\n"
     ]
    }
   ],
   "source": [
    "!ls"
   ]
  }
 ],
 "metadata": {
  "kernelspec": {
   "display_name": "Python 3 (ipykernel)",
   "language": "python",
   "name": "python3"
  },
  "language_info": {
   "codemirror_mode": {
    "name": "ipython",
    "version": 3
   },
   "file_extension": ".py",
   "mimetype": "text/x-python",
   "name": "python",
   "nbconvert_exporter": "python",
   "pygments_lexer": "ipython3",
   "version": "3.10.12"
  }
 },
 "nbformat": 4,
 "nbformat_minor": 5
}
