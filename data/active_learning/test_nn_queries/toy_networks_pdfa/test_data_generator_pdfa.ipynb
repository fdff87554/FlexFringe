{
 "cells": [
  {
   "cell_type": "code",
   "execution_count": 1,
   "id": "0b68d000",
   "metadata": {},
   "outputs": [],
   "source": [
    "\"\"\"\n",
    "We sample strings randomly from a DFA to get regular languages. Steps: \n",
    "1. Design a DFA (regular language). \n",
    "2. Sample randomly. \n",
    "3. Write to output\n",
    "\"\"\"\n",
    "\n",
    "import random\n",
    "\n",
    "MAX_NUMBER_OF_STRINGS = int(1e5)\n",
    "MAX_STRING_SIZE = 8 # the max size of the strings we want to generate\n",
    "\n",
    "# length of strings randomly selected between [1, MAX_STRING_SIZE] if set to True, \n",
    "# else all strings will be of size MAX_STRING_SIZE\n",
    "VARIABLE_LENGTH = True \n",
    "\n",
    "OUTF_NAME = \"problem_1_train.dat\""
   ]
  },
  {
   "cell_type": "code",
   "execution_count": 2,
   "id": "75497cc1",
   "metadata": {},
   "outputs": [
    {
     "data": {
      "text/plain": [
       "0.0020000000000000005"
      ]
     },
     "execution_count": 2,
     "metadata": {},
     "output_type": "execute_result"
    }
   ],
   "source": [
    "alphabet = [\"a\", \"b\", \"c\"]\n",
    "\n",
    "mapping = {\n",
    "    \"s1\": {\n",
    "        'a': ('s1', 0.5),\n",
    "        'b': ('s2', 0.2),\n",
    "        \"c\": (\"s3\", 0.2),\n",
    "        \"S\": 0.1\n",
    "    },\n",
    "    \"s2\": {\n",
    "        'a': ('s1', 0.2),\n",
    "        \"b\": (\"s2\", 0.5),\n",
    "        \"c\": (\"s3\", 0.2),\n",
    "        \"S\": 0.1\n",
    "    },\n",
    "    \"s3\": {\n",
    "        'a': ('s1', 0.2),\n",
    "        \"b\": (\"s2\", 0.2),\n",
    "        \"c\": (\"s3\", 0.5),\n",
    "        \"S\": 0.1\n",
    "    }\n",
    "}\n",
    "\n",
    "def get_prob(string: list):\n",
    "    state = \"s1\"\n",
    "    res = 1\n",
    "    for x in string:\n",
    "        state, p = mapping[state][x]\n",
    "        res *= p\n",
    "    res *= mapping[state][\"S\"]\n",
    "    return res\n",
    "\n",
    "s = [\"a\", \"b\", \"a\"]\n",
    "get_prob(s)"
   ]
  },
  {
   "cell_type": "code",
   "execution_count": 3,
   "id": "2546d331",
   "metadata": {},
   "outputs": [
    {
     "name": "stdout",
     "output_type": "stream",
     "text": [
      "Strings:  10000\n",
      "Strings:  20000\n",
      "Strings:  30000\n",
      "Strings:  40000\n",
      "Strings:  50000\n",
      "Strings:  60000\n",
      "Strings:  70000\n",
      "Strings:  80000\n",
      "Strings:  90000\n",
      "Strings:  100000\n"
     ]
    }
   ],
   "source": [
    "def generate_random_string(alphabet, size, random_length=False):\n",
    "    \"\"\"\n",
    "    alphabet: list(string)\n",
    "    size: int\n",
    "    \"\"\"\n",
    "    res = \"\"\n",
    "    output_size = size if not random_length else random.randint(1, size)\n",
    "    for i in range(output_size):\n",
    "        res += random.choice(alphabet)\n",
    "    return res\n",
    "\n",
    "strings = list()\n",
    "probs = list()\n",
    "\n",
    "for i in range(MAX_NUMBER_OF_STRINGS):\n",
    "        s = generate_random_string(alphabet, MAX_STRING_SIZE, random_length=VARIABLE_LENGTH)\n",
    "        strings.append(s)\n",
    "        probs.append(get_prob(s))\n",
    "        \n",
    "        if (i+1) % 10000 == 0:\n",
    "            print(\"Strings: \", i+1)"
   ]
  },
  {
   "cell_type": "code",
   "execution_count": 4,
   "id": "7edd76c9",
   "metadata": {},
   "outputs": [
    {
     "name": "stdout",
     "output_type": "stream",
     "text": [
      "i:  0\n"
     ]
    },
    {
     "data": {
      "text/plain": [
       "0.3095100000000004"
      ]
     },
     "execution_count": 4,
     "metadata": {},
     "output_type": "execute_result"
    }
   ],
   "source": [
    "import copy\n",
    "\n",
    "def bfs_strings(max_d, alphabet):\n",
    "    x_new = list()\n",
    "    x_old = list()\n",
    "    \n",
    "    depth = 1\n",
    "    while depth < max_d:\n",
    "        if len(x_old) == 0:\n",
    "            current_string = list()\n",
    "        else:\n",
    "            current_string = x_old[0]\n",
    "            del x_old[0]\n",
    "\n",
    "        for symbol in alphabet:\n",
    "            new_string = copy.copy(current_string)\n",
    "            new_string.append(symbol) \n",
    "            x_new.append( new_string )\n",
    "            yield new_string\n",
    "            \n",
    "        if len(x_old) == 0:\n",
    "            x_old = x_new\n",
    "            x_new = list()\n",
    "            depth += 1\n",
    "            \n",
    "gen = bfs_strings(5, alphabet)\n",
    "\n",
    "sum_p = 0\n",
    "for i, s in enumerate(gen):\n",
    "    if i % 100000 == 0:\n",
    "        print(\"i: \", i)\n",
    "    sum_p += get_prob(s)\n",
    "sum_p"
   ]
  },
  {
   "cell_type": "code",
   "execution_count": 5,
   "id": "3fc0525c",
   "metadata": {},
   "outputs": [],
   "source": [
    "with open(OUTF_NAME, \"wt\") as outf:\n",
    "    outf.write(\"{} {}\".format(len(strings), len(alphabet)))\n",
    "    for s, p in zip(strings, probs):\n",
    "        outf.write(\"\\n{} {} {}\".format(p, len(s), \" \".join(s)))"
   ]
  }
 ],
 "metadata": {
  "kernelspec": {
   "display_name": "Python 3 (ipykernel)",
   "language": "python",
   "name": "python3"
  },
  "language_info": {
   "codemirror_mode": {
    "name": "ipython",
    "version": 3
   },
   "file_extension": ".py",
   "mimetype": "text/x-python",
   "name": "python",
   "nbconvert_exporter": "python",
   "pygments_lexer": "ipython3",
   "version": "3.10.9"
  }
 },
 "nbformat": 4,
 "nbformat_minor": 5
}
