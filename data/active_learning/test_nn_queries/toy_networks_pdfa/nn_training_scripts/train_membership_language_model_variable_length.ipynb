{
 "cells": [
  {
   "cell_type": "code",
   "execution_count": 1,
   "id": "819eb27e",
   "metadata": {},
   "outputs": [
    {
     "name": "stderr",
     "output_type": "stream",
     "text": [
      "2023-09-29 11:20:41.339802: I tensorflow/core/platform/cpu_feature_guard.cc:182] This TensorFlow binary is optimized to use available CPU instructions in performance-critical operations.\n",
      "To enable the following instructions: AVX2 FMA, in other operations, rebuild TensorFlow with the appropriate compiler flags.\n"
     ]
    }
   ],
   "source": [
    "import numpy as np\n",
    "\n",
    "import tensorflow.keras\n",
    "from tensorflow.keras.models import Model\n",
    "from tensorflow.keras.layers import Dense, Input, Reshape\n",
    "from tensorflow.keras.layers import LSTM, Bidirectional\n",
    "from tensorflow.keras.callbacks import EarlyStopping\n",
    "from sklearn.model_selection import train_test_split\n",
    "\n",
    "import pickle as pk\n",
    "\n",
    "BATCH_SIZE = 32\n",
    "EPOCHS = 50\n",
    "VALIDATION_SPLIT = 0.02\n",
    "    \n",
    "INPUT_DATA = \"../data/problem_1_train.dat\"\n",
    "MODEL_NAME = \"model_problem_1.keras\""
   ]
  },
  {
   "cell_type": "code",
   "execution_count": 2,
   "id": "47a47a42",
   "metadata": {},
   "outputs": [
    {
     "name": "stdout",
     "output_type": "stream",
     "text": [
      "Line:  0\n",
      "Line:  10000\n",
      "Line:  20000\n",
      "Line:  30000\n",
      "Line:  40000\n",
      "Line:  50000\n",
      "Line:  60000\n",
      "Line:  70000\n",
      "Line:  80000\n",
      "Line:  90000\n"
     ]
    },
    {
     "data": {
      "text/plain": [
       "(100000, 100000, {'c': 0, 'a': 1, 'b': 2})"
      ]
     },
     "execution_count": 2,
     "metadata": {},
     "output_type": "execute_result"
    }
   ],
   "source": [
    "labels = list()\n",
    "sequences = list()\n",
    "alphabet = dict()\n",
    "\n",
    "with open(INPUT_DATA, \"rt\") as inf:\n",
    "    inf.readline() # kill the header\n",
    "    for i, line in enumerate(inf):\n",
    "        if len(line.strip()) == 0:\n",
    "            continue\n",
    "        line = line.split()\n",
    "        labels.append(float(line[0]))\n",
    "        for x in line[2:]:\n",
    "            if not x in alphabet:\n",
    "                alphabet[x] = len(alphabet)\n",
    "        sequences.append(np.array(list( alphabet[x] for x in line[2:] ), dtype=np.int32) )\n",
    "        #alphabet = alphabet.union(set( int(x) for x in line[2:] ))\n",
    "        if i % int(10e3) == 0:\n",
    "            print(\"Line: \", i)\n",
    "len(labels), len(sequences), alphabet"
   ]
  },
  {
   "cell_type": "code",
   "execution_count": 3,
   "id": "c546c322",
   "metadata": {},
   "outputs": [
    {
     "data": {
      "text/plain": [
       "(array([0, 0, 0, 0, 1, 1], dtype=int32),\n",
       " array([0, 2, 0, 0, 0], dtype=int32),\n",
       " array([1, 1], dtype=int32),\n",
       " array([2], dtype=int32),\n",
       " array([0, 0, 0], dtype=int32))"
      ]
     },
     "execution_count": 3,
     "metadata": {},
     "output_type": "execute_result"
    }
   ],
   "source": [
    "sequences[0], sequences[1], sequences[2], sequences[3], sequences[4]"
   ]
  },
  {
   "cell_type": "code",
   "execution_count": 4,
   "id": "9f367967",
   "metadata": {},
   "outputs": [
    {
     "data": {
      "text/plain": [
       "(100000, (100000, 1), {0: 0, 1: 1, 2: 2})"
      ]
     },
     "execution_count": 4,
     "metadata": {},
     "output_type": "execute_result"
    }
   ],
   "source": [
    "labels = np.array(labels).reshape(-1, 1)\n",
    "alphabet_map = {symbol: index for index, symbol in enumerate(alphabet.values())}\n",
    "\n",
    "pk.dump(alphabet_map, open(\"alphabet_mapping.pk\", \"wb\"))\n",
    "\n",
    "len(sequences), labels.shape, alphabet_map"
   ]
  },
  {
   "cell_type": "code",
   "execution_count": 5,
   "id": "62b38998",
   "metadata": {},
   "outputs": [
    {
     "name": "stdout",
     "output_type": "stream",
     "text": [
      "Before:  100000\n",
      "Shape:  [array([0, 0, 0, 0, 1, 1], dtype=int32), array([0, 2, 0, 0, 0], dtype=int32)]\n",
      "After:  100000\n",
      "Shape:  [array([[[1, 0, 0],\n",
      "        [1, 0, 0],\n",
      "        [1, 0, 0],\n",
      "        [1, 0, 0],\n",
      "        [0, 1, 0],\n",
      "        [0, 1, 0]]], dtype=int32), array([[[1, 0, 0],\n",
      "        [0, 0, 1],\n",
      "        [1, 0, 0],\n",
      "        [1, 0, 0],\n",
      "        [1, 0, 0]]], dtype=int32)]\n"
     ]
    }
   ],
   "source": [
    "sequences_one_hot = list() # np.zeros((sequences.shape[0], sequences.shape[1], len(alphabet)))\n",
    "for i, seq in enumerate(sequences):\n",
    "    new_sequence = np.zeros((1, len(seq), len(alphabet)), dtype=np.int32)\n",
    "    for j, sym in enumerate(seq):\n",
    "        new_sequence[0, j, alphabet_map[sym]] = 1\n",
    "    sequences_one_hot.append(new_sequence)\n",
    "        \n",
    "print(\"Before: \", len(sequences))\n",
    "print(\"Shape: \", sequences[:2])\n",
    "print(\"After: \", len(sequences_one_hot))\n",
    "print(\"Shape: \", sequences_one_hot[:2])"
   ]
  },
  {
   "cell_type": "code",
   "execution_count": 6,
   "id": "53f5f87d",
   "metadata": {},
   "outputs": [
    {
     "data": {
      "text/plain": [
       "((1, 6, 3), 100000, (100000, 1))"
      ]
     },
     "execution_count": 6,
     "metadata": {},
     "output_type": "execute_result"
    }
   ],
   "source": [
    "sequences_one_hot[0].shape, len(sequences_one_hot), labels.shape"
   ]
  },
  {
   "cell_type": "code",
   "execution_count": 7,
   "id": "598fb3e5",
   "metadata": {},
   "outputs": [],
   "source": [
    "validation_split_idx = int(VALIDATION_SPLIT * len(sequences_one_hot))\n",
    "validation_set, validation_labels = (sequences_one_hot[:validation_split_idx], labels[:validation_split_idx])\n",
    "sequences_one_hot, labels = (sequences_one_hot[validation_split_idx:], labels[validation_split_idx:])"
   ]
  },
  {
   "cell_type": "code",
   "execution_count": 8,
   "id": "aa8a9110",
   "metadata": {},
   "outputs": [],
   "source": [
    "def get_model(input_shape):\n",
    "    OUTPUT_DIM = 1 # sigmoid output\n",
    "\n",
    "    input_layer = Input(shape=input_shape)\n",
    "    \n",
    "    x = Bidirectional(LSTM(4))(input_layer)\n",
    "    x_out = Dense(OUTPUT_DIM, activation=\"sigmoid\")(x)\n",
    "    #x_out = Reshape((1,1))(x)\n",
    "    model = Model(input_layer, x_out)\n",
    "\n",
    "    model.compile(\n",
    "        loss=\"mae\",\n",
    "        optimizer=\"adam\",\n",
    "        metrics=[\"mae\"]\n",
    "    )\n",
    "    return model"
   ]
  },
  {
   "cell_type": "code",
   "execution_count": 28,
   "id": "a738f97b",
   "metadata": {},
   "outputs": [],
   "source": [
    "# because we have arrays of different length we have to use the fit_generator() method\n",
    "\n",
    "def data_generator():\n",
    "    global sequences_one_hot\n",
    "    global labels\n",
    "    \n",
    "    idx = 0\n",
    "    while True:\n",
    "        if idx == len(sequences_one_hot):\n",
    "            idx = 0\n",
    "        yield sequences_one_hot[idx], labels[idx]\n",
    "        idx += 1\n",
    "        \n",
    "def validation_data_generator():\n",
    "    global validation_set\n",
    "    global validation_labels\n",
    "    \n",
    "    idx = 0\n",
    "    while True:\n",
    "    #while idx <= len(validation_set):\n",
    "        if idx == len(validation_set):\n",
    "            idx = 0\n",
    "        yield validation_set[idx], validation_labels[idx]\n",
    "        idx += 1\n",
    "    #idx = 0\n",
    "    \n",
    "class validation_data_generator_class:\n",
    "    def __init__(self):\n",
    "        self.idx = 0\n",
    "    \n",
    "    def __iter__(self):\n",
    "        self.idx = 0\n",
    "        return self\n",
    "\n",
    "    def __next__(self):\n",
    "        global validation_set\n",
    "        global validation_labels\n",
    "    \n",
    "        if self.idx < len(validation_set):\n",
    "            return validation_set[self.idx], validation_labels[self.idx]\n",
    "            self.idx += 1\n",
    "        else:\n",
    "            print(\"Done once\")\n",
    "            raise StopIteration"
   ]
  },
  {
   "cell_type": "code",
   "execution_count": 29,
   "id": "5b6cd0d0",
   "metadata": {
    "scrolled": true
   },
   "outputs": [
    {
     "name": "stdout",
     "output_type": "stream",
     "text": [
      "Epoch 1/50\n",
      "3062/3062 [==============================] - 10s 3ms/step - loss: 0.0312 - mae: 0.0312 - val_loss: 0.0015 - val_mae: 0.0015\n",
      "Epoch 2/50\n",
      "3062/3062 [==============================] - 7s 2ms/step - loss: 0.0013 - mae: 0.0013 - val_loss: 0.0011 - val_mae: 0.0011\n",
      "Epoch 3/50\n",
      "3062/3062 [==============================] - 7s 2ms/step - loss: 9.9837e-04 - mae: 9.9837e-04 - val_loss: 7.1515e-04 - val_mae: 7.1515e-04\n",
      "Epoch 4/50\n",
      "3062/3062 [==============================] - 8s 3ms/step - loss: 6.8818e-04 - mae: 6.8818e-04 - val_loss: 7.0672e-04 - val_mae: 7.0672e-04\n",
      "Epoch 5/50\n",
      "3062/3062 [==============================] - 8s 2ms/step - loss: 6.1185e-04 - mae: 6.1185e-04 - val_loss: 5.0113e-04 - val_mae: 5.0113e-04\n",
      "Epoch 6/50\n",
      "3062/3062 [==============================] - 7s 2ms/step - loss: 5.0513e-04 - mae: 5.0513e-04 - val_loss: 3.9982e-04 - val_mae: 3.9982e-04\n",
      "Epoch 7/50\n",
      "3062/3062 [==============================] - 8s 3ms/step - loss: 4.3344e-04 - mae: 4.3344e-04 - val_loss: 4.4605e-04 - val_mae: 4.4605e-04\n"
     ]
    },
    {
     "data": {
      "text/plain": [
       "<keras.src.callbacks.History at 0x7f723e886ec0>"
      ]
     },
     "execution_count": 29,
     "metadata": {},
     "output_type": "execute_result"
    }
   ],
   "source": [
    "model = get_model(( None, len(alphabet) ))\n",
    "\n",
    "es = EarlyStopping(\n",
    "    monitor=\"val_loss\",\n",
    "    patience=1,\n",
    "    mode=\"auto\")\n",
    "\n",
    "data_gen = data_generator()\n",
    "val_gen = validation_data_generator()\n",
    "\n",
    "model.fit(\n",
    "    data_gen,\n",
    "    steps_per_epoch=int(len(sequences_one_hot) / BATCH_SIZE),\n",
    "    epochs=EPOCHS,\n",
    "    validation_data=val_gen,\n",
    "    validation_steps=len(validation_set),\n",
    "    #validation_split=VALIDATION_SPLIT,\n",
    "    callbacks=[es]\n",
    ")"
   ]
  },
  {
   "cell_type": "code",
   "execution_count": null,
   "id": "f3f99c45",
   "metadata": {},
   "outputs": [],
   "source": [
    "model.save(MODEL_NAME)"
   ]
  }
 ],
 "metadata": {
  "kernelspec": {
   "display_name": "Python 3 (ipykernel)",
   "language": "python",
   "name": "python3"
  },
  "language_info": {
   "codemirror_mode": {
    "name": "ipython",
    "version": 3
   },
   "file_extension": ".py",
   "mimetype": "text/x-python",
   "name": "python",
   "nbconvert_exporter": "python",
   "pygments_lexer": "ipython3",
   "version": "3.10.12"
  }
 },
 "nbformat": 4,
 "nbformat_minor": 5
}
