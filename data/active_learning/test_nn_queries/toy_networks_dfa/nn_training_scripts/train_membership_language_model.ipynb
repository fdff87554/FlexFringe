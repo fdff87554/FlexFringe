{
 "cells": [
  {
   "cell_type": "code",
   "execution_count": 1,
   "id": "819eb27e",
   "metadata": {},
   "outputs": [
    {
     "name": "stderr",
     "output_type": "stream",
     "text": [
      "2023-08-07 15:40:57.774380: I tensorflow/core/platform/cpu_feature_guard.cc:182] This TensorFlow binary is optimized to use available CPU instructions in performance-critical operations.\n",
      "To enable the following instructions: AVX2 FMA, in other operations, rebuild TensorFlow with the appropriate compiler flags.\n"
     ]
    }
   ],
   "source": [
    "import numpy as np\n",
    "\n",
    "import tensorflow.keras\n",
    "from tensorflow.keras.models import Model\n",
    "from tensorflow.keras.layers import Dense, Input\n",
    "from tensorflow.keras.layers import LSTM, Bidirectional\n",
    "from tensorflow.keras.callbacks import EarlyStopping\n",
    "\n",
    "import pickle as pk\n",
    "\n",
    "BATCH_SIZE = 1\n",
    "EPOCHS = 5\n",
    "VALIDATION_SPLIT = 0.02\n",
    "    \n",
    "INPUT_DATA = \"../data/problem_1_train.dat\"\n",
    "MODEL_NAME = \"model_problem_1.h5\""
   ]
  },
  {
   "cell_type": "code",
   "execution_count": 2,
   "id": "47a47a42",
   "metadata": {},
   "outputs": [
    {
     "name": "stdout",
     "output_type": "stream",
     "text": [
      "Line:  0\n",
      "Line:  10000\n",
      "Line:  20000\n",
      "Line:  30000\n"
     ]
    },
    {
     "data": {
      "text/plain": [
       "(35621, 35621, {0, 1})"
      ]
     },
     "execution_count": 2,
     "metadata": {},
     "output_type": "execute_result"
    }
   ],
   "source": [
    "labels = list()\n",
    "sequences = list()\n",
    "alphabet = set()\n",
    "\n",
    "with open(INPUT_DATA, \"rt\") as inf:\n",
    "    inf.readline() # kill the header\n",
    "    for i, line in enumerate(inf):\n",
    "        if len(line.strip()) == 0:\n",
    "            continue\n",
    "        line = line.split()\n",
    "        labels.append(int(line[0]))\n",
    "        sequences.append(list( int(x) for x in line[2:] ))\n",
    "        alphabet = alphabet.union(set( int(x) for x in line[2:] ))\n",
    "        if i % int(10e3) == 0:\n",
    "            print(\"Line: \", i)\n",
    "len(labels), len(sequences), alphabet"
   ]
  },
  {
   "cell_type": "code",
   "execution_count": 3,
   "id": "1aa784e7",
   "metadata": {},
   "outputs": [
    {
     "data": {
      "text/plain": [
       "([1, 0, 1, 1, 0, 1, 1, 1],\n",
       " [0, 0, 1, 0, 1, 0, 0],\n",
       " [1, 1, 0, 1, 0, 0],\n",
       " [1, 1, 1, 1, 0, 1],\n",
       " [0, 0, 1, 1, 1])"
      ]
     },
     "execution_count": 3,
     "metadata": {},
     "output_type": "execute_result"
    }
   ],
   "source": [
    "sequences[0], sequences[1], sequences[2], sequences[3], sequences[4]"
   ]
  },
  {
   "cell_type": "code",
   "execution_count": 4,
   "id": "9f367967",
   "metadata": {},
   "outputs": [
    {
     "name": "stderr",
     "output_type": "stream",
     "text": [
      "/tmp/ipykernel_54942/3654861393.py:1: VisibleDeprecationWarning: Creating an ndarray from ragged nested sequences (which is a list-or-tuple of lists-or-tuples-or ndarrays with different lengths or shapes) is deprecated. If you meant to do this, you must specify 'dtype=object' when creating the ndarray.\n",
      "  sequences = np.array(sequences)\n"
     ]
    },
    {
     "data": {
      "text/plain": [
       "((35621,), (35621, 1), {0: 0, 1: 1})"
      ]
     },
     "execution_count": 4,
     "metadata": {},
     "output_type": "execute_result"
    }
   ],
   "source": [
    "sequences = np.array(sequences)\n",
    "labels = np.array(labels).reshape(-1, 1)\n",
    "alphabet_map = {symbol: index for index, symbol in enumerate(alphabet)}\n",
    "\n",
    "pk.dump(alphabet_map, open(\"alphabet_mapping.pk\", \"wb\"))\n",
    "\n",
    "sequences.shape, labels.shape, alphabet_map"
   ]
  },
  {
   "cell_type": "code",
   "execution_count": 5,
   "id": "62b38998",
   "metadata": {},
   "outputs": [
    {
     "ename": "IndexError",
     "evalue": "tuple index out of range",
     "output_type": "error",
     "traceback": [
      "\u001b[0;31m---------------------------------------------------------------------------\u001b[0m",
      "\u001b[0;31mIndexError\u001b[0m                                Traceback (most recent call last)",
      "Cell \u001b[0;32mIn[5], line 1\u001b[0m\n\u001b[0;32m----> 1\u001b[0m sequences_one_hot \u001b[38;5;241m=\u001b[39m np\u001b[38;5;241m.\u001b[39mzeros((sequences\u001b[38;5;241m.\u001b[39mshape[\u001b[38;5;241m0\u001b[39m], \u001b[43msequences\u001b[49m\u001b[38;5;241;43m.\u001b[39;49m\u001b[43mshape\u001b[49m\u001b[43m[\u001b[49m\u001b[38;5;241;43m1\u001b[39;49m\u001b[43m]\u001b[49m, \u001b[38;5;28mlen\u001b[39m(alphabet)))\n\u001b[1;32m      2\u001b[0m \u001b[38;5;28;01mfor\u001b[39;00m i, seq \u001b[38;5;129;01min\u001b[39;00m \u001b[38;5;28menumerate\u001b[39m(sequences):\n\u001b[1;32m      3\u001b[0m     \u001b[38;5;28;01mfor\u001b[39;00m j, sym \u001b[38;5;129;01min\u001b[39;00m \u001b[38;5;28menumerate\u001b[39m(seq):\n",
      "\u001b[0;31mIndexError\u001b[0m: tuple index out of range"
     ]
    }
   ],
   "source": [
    "sequences_one_hot = np.zeros((sequences.shape[0], sequences.shape[1], len(alphabet)))\n",
    "for i, seq in enumerate(sequences):\n",
    "    for j, sym in enumerate(seq):\n",
    "        sequences_one_hot[i, j, alphabet_map[sym]] = 1\n",
    "print(\"Before: \", sequences[:3])\n",
    "print(\"Shape: \", sequences.shape)\n",
    "print(\"After: \", sequences_one_hot[:3])\n",
    "print(\"Shape: \", sequences_one_hot.shape)"
   ]
  },
  {
   "cell_type": "code",
   "execution_count": null,
   "id": "aa8a9110",
   "metadata": {},
   "outputs": [],
   "source": [
    "def get_model(input_shape):\n",
    "    OUTPUT_DIM = 1 # sigmoid output\n",
    "\n",
    "    input_layer = Input(shape=input_shape)\n",
    "    \n",
    "    x = Bidirectional(LSTM(4))(input_layer)\n",
    "    x_out = Dense(OUTPUT_DIM, activation=\"sigmoid\")(x)\n",
    "\n",
    "    model = Model(input_layer, x_out)\n",
    "\n",
    "    model.compile(\n",
    "        loss=\"binary_crossentropy\",\n",
    "        optimizer=\"adam\",\n",
    "        metrics=[\"binary_crossentropy\"]\n",
    "    )\n",
    "    return model"
   ]
  },
  {
   "cell_type": "code",
   "execution_count": null,
   "id": "5b6cd0d0",
   "metadata": {},
   "outputs": [],
   "source": [
    "model = get_model(( sequences_one_hot.shape[1], sequences_one_hot.shape[2] ))\n",
    "\n",
    "es = EarlyStopping(\n",
    "    monitor=\"val_loss\",\n",
    "    patience=1,\n",
    "    mode=\"auto\")\n",
    "\n",
    "model.fit(\n",
    "    sequences_one_hot, \n",
    "    labels,\n",
    "    batch_size=BATCH_SIZE,\n",
    "    epochs=EPOCHS,\n",
    "    validation_split=VALIDATION_SPLIT,\n",
    "    callbacks=[es]\n",
    ")"
   ]
  },
  {
   "cell_type": "code",
   "execution_count": null,
   "id": "f3f99c45",
   "metadata": {},
   "outputs": [],
   "source": [
    "model.save(MODEL_NAME)"
   ]
  },
  {
   "cell_type": "code",
   "execution_count": null,
   "id": "4bff369c",
   "metadata": {},
   "outputs": [],
   "source": []
  }
 ],
 "metadata": {
  "kernelspec": {
   "display_name": "Python 3 (ipykernel)",
   "language": "python",
   "name": "python3"
  },
  "language_info": {
   "codemirror_mode": {
    "name": "ipython",
    "version": 3
   },
   "file_extension": ".py",
   "mimetype": "text/x-python",
   "name": "python",
   "nbconvert_exporter": "python",
   "pygments_lexer": "ipython3",
   "version": "3.10.9"
  }
 },
 "nbformat": 4,
 "nbformat_minor": 5
}
