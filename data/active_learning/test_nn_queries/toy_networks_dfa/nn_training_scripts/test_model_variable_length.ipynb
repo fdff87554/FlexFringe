{
 "cells": [
  {
   "cell_type": "code",
   "execution_count": 1,
   "id": "a48aa61c",
   "metadata": {},
   "outputs": [
    {
     "name": "stderr",
     "output_type": "stream",
     "text": [
      "2023-08-09 13:00:17.562231: I tensorflow/core/platform/cpu_feature_guard.cc:182] This TensorFlow binary is optimized to use available CPU instructions in performance-critical operations.\n",
      "To enable the following instructions: AVX2 FMA, in other operations, rebuild TensorFlow with the appropriate compiler flags.\n"
     ]
    }
   ],
   "source": [
    "import numpy as np\n",
    "import pickle as pk\n",
    "\n",
    "import tensorflow.keras\n",
    "from tensorflow.keras.models import load_model\n",
    "    \n",
    "INPUT_DATA = \"../data/problem_1_test.dat\"\n",
    "MODEL_NAME = \"model_problem_1.keras\"\n",
    "\n",
    "alphabet_mapping = pk.load(open(\"alphabet_mapping.pk\", \"rb\"))\n",
    "\n",
    "model = load_model(MODEL_NAME)"
   ]
  },
  {
   "cell_type": "code",
   "execution_count": 2,
   "id": "3657c036",
   "metadata": {},
   "outputs": [
    {
     "name": "stdout",
     "output_type": "stream",
     "text": [
      "Line:  0\n",
      "Line:  10000\n",
      "Line:  20000\n",
      "Line:  30000\n"
     ]
    },
    {
     "data": {
      "text/plain": [
       "(35566, 35566)"
      ]
     },
     "execution_count": 2,
     "metadata": {},
     "output_type": "execute_result"
    }
   ],
   "source": [
    "labels = list()\n",
    "sequences = list()\n",
    "\n",
    "with open(INPUT_DATA, \"rt\") as inf:\n",
    "    inf.readline() # kill the header\n",
    "    for i, line in enumerate(inf):\n",
    "        if len(line.strip()) == 0:\n",
    "            continue\n",
    "        line = line.split()\n",
    "        labels.append(int(line[0]))\n",
    "        sequences.append(np.array(list( int(x) for x in line[2:] ), dtype=np.int32) )\n",
    "        if i % int(10e3) == 0:\n",
    "            print(\"Line: \", i)\n",
    "len(labels), len(sequences)"
   ]
  },
  {
   "cell_type": "code",
   "execution_count": 3,
   "id": "9bae211f",
   "metadata": {},
   "outputs": [
    {
     "data": {
      "text/plain": [
       "((35566, 1),\n",
       " array([0, 0, 0, 1, 0, 0, 0, 0], dtype=int32),\n",
       " array([1, 1, 1, 0, 0, 0, 1], dtype=int32))"
      ]
     },
     "execution_count": 3,
     "metadata": {},
     "output_type": "execute_result"
    }
   ],
   "source": [
    "labels = np.array(labels).reshape(-1, 1)\n",
    "labels.shape, sequences[0], sequences[1]"
   ]
  },
  {
   "cell_type": "code",
   "execution_count": 4,
   "id": "58b9471e",
   "metadata": {
    "scrolled": true
   },
   "outputs": [
    {
     "name": "stdout",
     "output_type": "stream",
     "text": [
      "Before:  35566\n",
      "Shape:  [array([0, 0, 0, 1, 0, 0, 0, 0], dtype=int32), array([1, 1, 1, 0, 0, 0, 1], dtype=int32)]\n",
      "After:  35566\n",
      "Shape:  [array([[[1, 0],\n",
      "        [1, 0],\n",
      "        [1, 0],\n",
      "        [0, 1],\n",
      "        [1, 0],\n",
      "        [1, 0],\n",
      "        [1, 0],\n",
      "        [1, 0]]], dtype=int32), array([[[0, 1],\n",
      "        [0, 1],\n",
      "        [0, 1],\n",
      "        [1, 0],\n",
      "        [1, 0],\n",
      "        [1, 0],\n",
      "        [0, 1]]], dtype=int32)]\n"
     ]
    }
   ],
   "source": [
    "sequences_one_hot = list() # np.zeros((sequences.shape[0], sequences.shape[1], len(alphabet)))\n",
    "for i, seq in enumerate(sequences):\n",
    "    new_sequence = np.zeros((1, len(seq), len(alphabet_mapping)), dtype=np.int32)\n",
    "    for j, sym in enumerate(seq):\n",
    "        new_sequence[0, j, alphabet_mapping[sym]] = 1\n",
    "    sequences_one_hot.append(new_sequence)\n",
    "        \n",
    "print(\"Before: \", len(sequences))\n",
    "print(\"Shape: \", sequences[:2])\n",
    "print(\"After: \", len(sequences_one_hot))\n",
    "print(\"Shape: \", sequences_one_hot[:2])"
   ]
  },
  {
   "cell_type": "code",
   "execution_count": 5,
   "id": "7de276a3",
   "metadata": {},
   "outputs": [],
   "source": [
    "def data_generator():\n",
    "    global sequences_one_hot\n",
    "    \n",
    "    idx = 0\n",
    "    while idx < len(sequences_one_hot):\n",
    "        yield sequences_one_hot[idx]\n",
    "        idx += 1"
   ]
  },
  {
   "cell_type": "code",
   "execution_count": 6,
   "id": "f1731c81",
   "metadata": {},
   "outputs": [
    {
     "name": "stdout",
     "output_type": "stream",
     "text": [
      "35566/35566 [==============================] - 29s 791us/step\n"
     ]
    },
    {
     "data": {
      "text/plain": [
       "(array([[9.998781e-01],\n",
       "        [3.785926e-04]], dtype=float32),\n",
       " array([[1],\n",
       "        [0]]))"
      ]
     },
     "execution_count": 6,
     "metadata": {},
     "output_type": "execute_result"
    }
   ],
   "source": [
    "data_gen = data_generator()\n",
    "\n",
    "y_pred = model.predict(data_gen, steps=len(sequences_one_hot))\n",
    "y_pred[:2], labels[:2]"
   ]
  },
  {
   "cell_type": "code",
   "execution_count": 7,
   "id": "01ca0df3",
   "metadata": {},
   "outputs": [
    {
     "data": {
      "text/plain": [
       "(array([1, 0]), (35566,))"
      ]
     },
     "execution_count": 7,
     "metadata": {},
     "output_type": "execute_result"
    }
   ],
   "source": [
    "def map_to_int(x):\n",
    "    return 1 if x >= 0.5 else 0\n",
    "\n",
    "y_pred_mapped = np.array(list( map(map_to_int, list(y_pred)) ))\n",
    "y_pred_mapped[:2], y_pred_mapped.shape"
   ]
  },
  {
   "cell_type": "code",
   "execution_count": 8,
   "id": "bb34d695",
   "metadata": {},
   "outputs": [
    {
     "data": {
      "text/plain": [
       "(1.0, 1.0)"
      ]
     },
     "execution_count": 8,
     "metadata": {},
     "output_type": "execute_result"
    }
   ],
   "source": [
    "from sklearn.metrics import balanced_accuracy_score, accuracy_score\n",
    "\n",
    "accuracy_score(labels, y_pred_mapped), balanced_accuracy_score(labels, y_pred_mapped)"
   ]
  }
 ],
 "metadata": {
  "kernelspec": {
   "display_name": "Python 3 (ipykernel)",
   "language": "python",
   "name": "python3"
  },
  "language_info": {
   "codemirror_mode": {
    "name": "ipython",
    "version": 3
   },
   "file_extension": ".py",
   "mimetype": "text/x-python",
   "name": "python",
   "nbconvert_exporter": "python",
   "pygments_lexer": "ipython3",
   "version": "3.10.9"
  }
 },
 "nbformat": 4,
 "nbformat_minor": 5
}
