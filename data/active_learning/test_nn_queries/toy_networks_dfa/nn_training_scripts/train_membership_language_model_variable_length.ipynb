{
 "cells": [
  {
   "cell_type": "code",
   "execution_count": 1,
   "id": "819eb27e",
   "metadata": {},
   "outputs": [
    {
     "name": "stderr",
     "output_type": "stream",
     "text": [
      "2023-08-09 12:36:37.910615: I tensorflow/core/platform/cpu_feature_guard.cc:182] This TensorFlow binary is optimized to use available CPU instructions in performance-critical operations.\n",
      "To enable the following instructions: AVX2 FMA, in other operations, rebuild TensorFlow with the appropriate compiler flags.\n"
     ]
    }
   ],
   "source": [
    "import numpy as np\n",
    "\n",
    "import tensorflow.keras\n",
    "from tensorflow.keras.models import Model\n",
    "from tensorflow.keras.layers import Dense, Input, Reshape\n",
    "from tensorflow.keras.layers import LSTM, Bidirectional\n",
    "from tensorflow.keras.callbacks import EarlyStopping\n",
    "\n",
    "import pickle as pk\n",
    "\n",
    "BATCH_SIZE = 32\n",
    "EPOCHS = 14\n",
    "VALIDATION_SPLIT = 0.02\n",
    "    \n",
    "INPUT_DATA = \"../data/problem_1_train.dat\"\n",
    "MODEL_NAME = \"model_problem_1.keras\""
   ]
  },
  {
   "cell_type": "code",
   "execution_count": 2,
   "id": "47a47a42",
   "metadata": {},
   "outputs": [
    {
     "name": "stdout",
     "output_type": "stream",
     "text": [
      "Line:  0\n",
      "Line:  10000\n",
      "Line:  20000\n",
      "Line:  30000\n"
     ]
    },
    {
     "data": {
      "text/plain": [
       "(35621, 35621, {0, 1})"
      ]
     },
     "execution_count": 2,
     "metadata": {},
     "output_type": "execute_result"
    }
   ],
   "source": [
    "labels = list()\n",
    "sequences = list()\n",
    "alphabet = set()\n",
    "\n",
    "with open(INPUT_DATA, \"rt\") as inf:\n",
    "    inf.readline() # kill the header\n",
    "    for i, line in enumerate(inf):\n",
    "        if len(line.strip()) == 0:\n",
    "            continue\n",
    "        line = line.split()\n",
    "        labels.append(int(line[0]))\n",
    "        sequences.append(np.array(list( int(x) for x in line[2:] ), dtype=np.int32) )\n",
    "        alphabet = alphabet.union(set( int(x) for x in line[2:] ))\n",
    "        if i % int(10e3) == 0:\n",
    "            print(\"Line: \", i)\n",
    "len(labels), len(sequences), alphabet"
   ]
  },
  {
   "cell_type": "code",
   "execution_count": 3,
   "id": "c546c322",
   "metadata": {},
   "outputs": [
    {
     "data": {
      "text/plain": [
       "(array([1, 0, 1, 1, 0, 1, 1, 1], dtype=int32),\n",
       " array([0, 0, 1, 0, 1, 0, 0], dtype=int32),\n",
       " array([1, 1, 0, 1, 0, 0], dtype=int32),\n",
       " array([1, 1, 1, 1, 0, 1], dtype=int32),\n",
       " array([0, 0, 1, 1, 1], dtype=int32))"
      ]
     },
     "execution_count": 3,
     "metadata": {},
     "output_type": "execute_result"
    }
   ],
   "source": [
    "sequences[0], sequences[1], sequences[2], sequences[3], sequences[4]"
   ]
  },
  {
   "cell_type": "code",
   "execution_count": 4,
   "id": "9f367967",
   "metadata": {},
   "outputs": [
    {
     "data": {
      "text/plain": [
       "(35621, (35621, 1), {0: 0, 1: 1})"
      ]
     },
     "execution_count": 4,
     "metadata": {},
     "output_type": "execute_result"
    }
   ],
   "source": [
    "labels = np.array(labels).reshape(-1, 1)\n",
    "alphabet_map = {symbol: index for index, symbol in enumerate(alphabet)}\n",
    "\n",
    "pk.dump(alphabet_map, open(\"alphabet_mapping.pk\", \"wb\"))\n",
    "\n",
    "len(sequences), labels.shape, alphabet_map"
   ]
  },
  {
   "cell_type": "code",
   "execution_count": 5,
   "id": "62b38998",
   "metadata": {},
   "outputs": [
    {
     "name": "stdout",
     "output_type": "stream",
     "text": [
      "Before:  35621\n",
      "Shape:  [array([1, 0, 1, 1, 0, 1, 1, 1], dtype=int32), array([0, 0, 1, 0, 1, 0, 0], dtype=int32)]\n",
      "After:  35621\n",
      "Shape:  [array([[[0, 1],\n",
      "        [1, 0],\n",
      "        [0, 1],\n",
      "        [0, 1],\n",
      "        [1, 0],\n",
      "        [0, 1],\n",
      "        [0, 1],\n",
      "        [0, 1]]], dtype=int32), array([[[1, 0],\n",
      "        [1, 0],\n",
      "        [0, 1],\n",
      "        [1, 0],\n",
      "        [0, 1],\n",
      "        [1, 0],\n",
      "        [1, 0]]], dtype=int32)]\n"
     ]
    }
   ],
   "source": [
    "sequences_one_hot = list() # np.zeros((sequences.shape[0], sequences.shape[1], len(alphabet)))\n",
    "for i, seq in enumerate(sequences):\n",
    "    new_sequence = np.zeros((1, len(seq), len(alphabet)), dtype=np.int32)\n",
    "    for j, sym in enumerate(seq):\n",
    "        new_sequence[0, j, alphabet_map[sym]] = 1\n",
    "    sequences_one_hot.append(new_sequence)\n",
    "        \n",
    "print(\"Before: \", len(sequences))\n",
    "print(\"Shape: \", sequences[:2])\n",
    "print(\"After: \", len(sequences_one_hot))\n",
    "print(\"Shape: \", sequences_one_hot[:2])"
   ]
  },
  {
   "cell_type": "code",
   "execution_count": 6,
   "id": "53f5f87d",
   "metadata": {},
   "outputs": [
    {
     "data": {
      "text/plain": [
       "((1, 8, 2), 35621, (35621, 1))"
      ]
     },
     "execution_count": 6,
     "metadata": {},
     "output_type": "execute_result"
    }
   ],
   "source": [
    "sequences_one_hot[0].shape, len(sequences_one_hot), labels.shape"
   ]
  },
  {
   "cell_type": "code",
   "execution_count": 7,
   "id": "aa8a9110",
   "metadata": {},
   "outputs": [],
   "source": [
    "def get_model(input_shape):\n",
    "    OUTPUT_DIM = 1 # sigmoid output\n",
    "\n",
    "    input_layer = Input(shape=input_shape)\n",
    "    \n",
    "    x = Bidirectional(LSTM(4))(input_layer)\n",
    "    x_out = Dense(OUTPUT_DIM, activation=\"sigmoid\")(x)\n",
    "    #x_out = Reshape((1,1))(x)\n",
    "    model = Model(input_layer, x_out)\n",
    "\n",
    "    model.compile(\n",
    "        loss=\"binary_crossentropy\",\n",
    "        optimizer=\"adam\",\n",
    "        metrics=[\"binary_crossentropy\"]\n",
    "    )\n",
    "    return model"
   ]
  },
  {
   "cell_type": "code",
   "execution_count": 8,
   "id": "a738f97b",
   "metadata": {},
   "outputs": [],
   "source": [
    "# because we have arrays of different length we have to use the fit_generator() method\n",
    "\n",
    "def data_generator():\n",
    "    global sequences_one_hot\n",
    "    global labels\n",
    "    \n",
    "    idx = 0\n",
    "    while True:\n",
    "        if idx == len(sequences_one_hot):\n",
    "            idx = 0\n",
    "        yield sequences_one_hot[idx], labels[idx]\n",
    "        idx += 1"
   ]
  },
  {
   "cell_type": "code",
   "execution_count": 9,
   "id": "5b6cd0d0",
   "metadata": {
    "scrolled": true
   },
   "outputs": [
    {
     "name": "stdout",
     "output_type": "stream",
     "text": [
      "Epoch 1/14\n",
      "1113/1113 [==============================] - 4s 2ms/step - loss: 0.6817 - binary_crossentropy: 0.6817\n",
      "Epoch 2/14\n",
      "1113/1113 [==============================] - 2s 2ms/step - loss: 0.6282 - binary_crossentropy: 0.6282\n",
      "Epoch 3/14\n",
      "1113/1113 [==============================] - 2s 2ms/step - loss: 0.4688 - binary_crossentropy: 0.4688\n",
      "Epoch 4/14\n",
      "1113/1113 [==============================] - 2s 2ms/step - loss: 0.2907 - binary_crossentropy: 0.2907\n",
      "Epoch 5/14\n",
      "1113/1113 [==============================] - 2s 2ms/step - loss: 0.1875 - binary_crossentropy: 0.1875\n",
      "Epoch 6/14\n",
      "1113/1113 [==============================] - 2s 2ms/step - loss: 0.1114 - binary_crossentropy: 0.1114\n",
      "Epoch 7/14\n",
      "1113/1113 [==============================] - 2s 2ms/step - loss: 0.0655 - binary_crossentropy: 0.0655\n",
      "Epoch 8/14\n",
      "1113/1113 [==============================] - 2s 2ms/step - loss: 0.0356 - binary_crossentropy: 0.0356\n",
      "Epoch 9/14\n",
      "1113/1113 [==============================] - 2s 2ms/step - loss: 0.0213 - binary_crossentropy: 0.0213\n",
      "Epoch 10/14\n",
      "1113/1113 [==============================] - 2s 2ms/step - loss: 0.0122 - binary_crossentropy: 0.0122\n",
      "Epoch 11/14\n",
      "1113/1113 [==============================] - 2s 2ms/step - loss: 0.0070 - binary_crossentropy: 0.0070\n",
      "Epoch 12/14\n",
      "1113/1113 [==============================] - 2s 2ms/step - loss: 0.0040 - binary_crossentropy: 0.0040\n",
      "Epoch 13/14\n",
      "1113/1113 [==============================] - 2s 2ms/step - loss: 0.0025 - binary_crossentropy: 0.0025\n",
      "Epoch 14/14\n",
      "1113/1113 [==============================] - 2s 2ms/step - loss: 0.0014 - binary_crossentropy: 0.0014\n"
     ]
    },
    {
     "data": {
      "text/plain": [
       "<keras.src.callbacks.History at 0x7f7a44349fc0>"
      ]
     },
     "execution_count": 9,
     "metadata": {},
     "output_type": "execute_result"
    }
   ],
   "source": [
    "model = get_model(( None, len(alphabet) ))\n",
    "\n",
    "#es = EarlyStopping(\n",
    "#    monitor=\"val_loss\",\n",
    "#    patience=1,\n",
    "#    mode=\"auto\")\n",
    "\n",
    "data_gen = data_generator()\n",
    "\n",
    "model.fit(\n",
    "    data_gen,\n",
    "    steps_per_epoch=int(len(sequences_one_hot) / BATCH_SIZE),\n",
    "    epochs=EPOCHS,\n",
    "    #validation_split=VALIDATION_SPLIT,\n",
    "    #callbacks=[es]\n",
    ")"
   ]
  },
  {
   "cell_type": "code",
   "execution_count": 10,
   "id": "f3f99c45",
   "metadata": {},
   "outputs": [],
   "source": [
    "model.save(MODEL_NAME)"
   ]
  }
 ],
 "metadata": {
  "kernelspec": {
   "display_name": "Python 3 (ipykernel)",
   "language": "python",
   "name": "python3"
  },
  "language_info": {
   "codemirror_mode": {
    "name": "ipython",
    "version": 3
   },
   "file_extension": ".py",
   "mimetype": "text/x-python",
   "name": "python",
   "nbconvert_exporter": "python",
   "pygments_lexer": "ipython3",
   "version": "3.10.9"
  }
 },
 "nbformat": 4,
 "nbformat_minor": 5
}
