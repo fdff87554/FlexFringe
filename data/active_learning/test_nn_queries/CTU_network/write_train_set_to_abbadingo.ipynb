{
 "cells": [
  {
   "cell_type": "code",
   "execution_count": 1,
   "id": "ce243b58-556f-4baf-95c2-72342d361589",
   "metadata": {},
   "outputs": [
    {
     "name": "stdout",
     "output_type": "stream",
     "text": [
      "data\t\t\t\t\t    predict_and_save_torch.ipynb\n",
      "distilled_model.pdf\t\t\t    preprocess_data.ipynb\n",
      "evaluate_distilled_model_results.ipynb\t    __pycache__\n",
      "evaluate_predictions.ipynb\t\t    test_data.pk\n",
      "model.keras\t\t\t\t    train_data.pk\n",
      "nn_connector_model.py\t\t\t    train_model.ipynb\n",
      "nn_connector_model.py.ff.final.dot\t    train_model_torch.ipynb\n",
      "nn_connector_model.py.ff.final.json\t    write_test_set_to_abbadingo.ipynb\n",
      "nn_connector_model.py.ff.final.json.result  write_train_set_to_abbadingo.ipynb\n",
      "predict_and_save.ipynb\t\t\t    X_pred.pk\n"
     ]
    }
   ],
   "source": [
    "!ls"
   ]
  },
  {
   "cell_type": "code",
   "execution_count": null,
   "id": "f7997908-89ed-45e1-a392-bc17d32e78f7",
   "metadata": {},
   "outputs": [],
   "source": [
    "import numpy as np\n",
    "\n",
    "import pickle as pk\n",
    "\n",
    "outf_path = \"data/X_train.dat\"\n",
    "\n",
    "data_path = \"train_data.pk\"\n",
    "data = pk.load(open(data_path, \"rb\"))\n",
    "data.keys()"
   ]
  },
  {
   "cell_type": "code",
   "execution_count": null,
   "id": "c5814c57-bb7a-4470-8ea7-771e4e3947b7",
   "metadata": {},
   "outputs": [],
   "source": [
    "X = data[\"X\"]\n",
    "alph_size = data[\"alphabet_size\"]\n",
    "mapping = data[\"event_mapping\"]\n",
    "\n",
    "assert(alph_size == len(mapping))\n",
    "\n",
    "len(X), alph_size#, mapping"
   ]
  },
  {
   "cell_type": "code",
   "execution_count": null,
   "id": "c2739804-335d-4e2c-a54e-31ca75a49f0e",
   "metadata": {},
   "outputs": [],
   "source": [
    "mapping"
   ]
  },
  {
   "cell_type": "code",
   "execution_count": null,
   "id": "224978e8-adc3-4958-882c-215b1a3ea1c7",
   "metadata": {},
   "outputs": [],
   "source": [
    "with open(outf_path, \"wt\") as outf:\n",
    "    outf.write(\"{} {}\\n\".format(len(X), alph_size))\n",
    "    for seq, label in X:\n",
    "        mapped_string = [str(x) for x in seq if x is not mapping[\"<SOS>\"] and x is not mapping[\"<EOS>\"]]\n",
    "        outf.write(\"{} {} {}\\n\".format(0, len(mapped_string), \" \".join(mapped_string)))"
   ]
  }
 ],
 "metadata": {
  "kernelspec": {
   "display_name": "Python 3 (ipykernel)",
   "language": "python",
   "name": "python3"
  },
  "language_info": {
   "codemirror_mode": {
    "name": "ipython",
    "version": 3
   },
   "file_extension": ".py",
   "mimetype": "text/x-python",
   "name": "python",
   "nbconvert_exporter": "python",
   "pygments_lexer": "ipython3",
   "version": "3.10.12"
  }
 },
 "nbformat": 4,
 "nbformat_minor": 5
}
