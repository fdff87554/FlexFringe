{
 "cells": [
  {
   "cell_type": "code",
   "execution_count": 1,
   "id": "ce243b58-556f-4baf-95c2-72342d361589",
   "metadata": {},
   "outputs": [
    {
     "name": "stdout",
     "output_type": "stream",
     "text": [
      "data\t\t\t\t     __pycache__\n",
      "evaluate_predictions-Copy1.ipynb     test_data.pk\n",
      "evaluate_predictions.ipynb\t     train_data.pk\n",
      "model.keras\t\t\t     train_model.ipynb\n",
      "nn_connector_model.py\t\t     train_model_torch.ipynb\n",
      "nn_connector_model.py.ff.final.dot   write_to_abbadingo.ipynb\n",
      "nn_connector_model.py.ff.final.json  X_pred_full.pk\n",
      "predict_and_save.ipynb\t\t     X_train_oh.pk\n",
      "predict_and_save_torch.ipynb\t     X_train.pk\n",
      "preprocess_data.ipynb\n"
     ]
    }
   ],
   "source": [
    "!ls"
   ]
  },
  {
   "cell_type": "code",
   "execution_count": 9,
   "id": "f7997908-89ed-45e1-a392-bc17d32e78f7",
   "metadata": {},
   "outputs": [
    {
     "data": {
      "text/plain": [
       "dict_keys(['X', 'X_oh', 'y', 'alphabet_size', 'event_mapping'])"
      ]
     },
     "execution_count": 9,
     "metadata": {},
     "output_type": "execute_result"
    }
   ],
   "source": [
    "import numpy as np\n",
    "\n",
    "import pickle as pk\n",
    "\n",
    "outf_path = \"data/X_test.dat\"\n",
    "label_path = \"data/y_test.txt\"\n",
    "\n",
    "data_path = \"test_data.pk\"\n",
    "data = pk.load(open(data_path, \"rb\"))\n",
    "data.keys()"
   ]
  },
  {
   "cell_type": "code",
   "execution_count": 12,
   "id": "c5814c57-bb7a-4470-8ea7-771e4e3947b7",
   "metadata": {},
   "outputs": [
    {
     "data": {
      "text/plain": [
       "(227925, 227925, (array([0, 1]), array([121742, 106183])), 92)"
      ]
     },
     "execution_count": 12,
     "metadata": {},
     "output_type": "execute_result"
    }
   ],
   "source": [
    "X = data[\"X\"]\n",
    "alph_size = data[\"alphabet_size\"]\n",
    "mapping = data[\"event_mapping\"]\n",
    "y = data[\"y\"]\n",
    "\n",
    "assert(alph_size == len(mapping))\n",
    "\n",
    "len(X), len(y), np.unique(y, return_counts=True), alph_size#, mapping"
   ]
  },
  {
   "cell_type": "code",
   "execution_count": 17,
   "id": "c2739804-335d-4e2c-a54e-31ca75a49f0e",
   "metadata": {},
   "outputs": [
    {
     "data": {
      "text/plain": [
       "{'24': 0,\n",
       " '40': 1,\n",
       " '61': 2,\n",
       " '72': 3,\n",
       " '41': 4,\n",
       " '75': 5,\n",
       " '69': 6,\n",
       " '39': 7,\n",
       " '83': 8,\n",
       " '74': 9,\n",
       " '109': 10,\n",
       " '27': 11,\n",
       " '105': 12,\n",
       " '34': 13,\n",
       " '111': 14,\n",
       " '98': 15,\n",
       " '85': 16,\n",
       " '87': 17,\n",
       " '116': 18,\n",
       " '108': 19,\n",
       " '101': 20,\n",
       " '63': 21,\n",
       " '<EOS>': 22,\n",
       " '62': 23,\n",
       " '42': 24,\n",
       " '96': 25,\n",
       " '86': 26,\n",
       " '57': 27,\n",
       " '95': 28,\n",
       " '58': 29,\n",
       " '13': 30,\n",
       " '21': 31,\n",
       " '112': 32,\n",
       " '80': 33,\n",
       " '32': 34,\n",
       " '45': 35,\n",
       " '118': 36,\n",
       " '36': 37,\n",
       " '30': 38,\n",
       " '104': 39,\n",
       " '51': 40,\n",
       " '102': 41,\n",
       " '64': 42,\n",
       " '53': 43,\n",
       " '89': 44,\n",
       " '50': 45,\n",
       " '17': 46,\n",
       " '47': 47,\n",
       " '28': 48,\n",
       " '106': 49,\n",
       " '29': 50,\n",
       " '73': 51,\n",
       " '46': 52,\n",
       " '120': 53,\n",
       " '16': 54,\n",
       " '82': 55,\n",
       " '67': 56,\n",
       " '54': 57,\n",
       " '107': 58,\n",
       " '76': 59,\n",
       " '60': 60,\n",
       " '49': 61,\n",
       " '84': 62,\n",
       " '100': 63,\n",
       " '14': 64,\n",
       " '119': 65,\n",
       " '12': 66,\n",
       " '68': 67,\n",
       " '78': 68,\n",
       " '52': 69,\n",
       " '91': 70,\n",
       " '23': 71,\n",
       " '90': 72,\n",
       " '18': 73,\n",
       " '35': 74,\n",
       " '117': 75,\n",
       " '115': 76,\n",
       " '20': 77,\n",
       " '25': 78,\n",
       " '<SOS>': 79,\n",
       " '56': 80,\n",
       " '130': 81,\n",
       " '93': 82,\n",
       " '94': 83,\n",
       " '79': 84,\n",
       " '65': 85,\n",
       " '113': 86,\n",
       " '43': 87,\n",
       " '97': 88,\n",
       " '38': 89,\n",
       " '71': 90,\n",
       " '19': 91}"
      ]
     },
     "execution_count": 17,
     "metadata": {},
     "output_type": "execute_result"
    }
   ],
   "source": [
    "mapping"
   ]
  },
  {
   "cell_type": "code",
   "execution_count": 21,
   "id": "224978e8-adc3-4958-882c-215b1a3ea1c7",
   "metadata": {},
   "outputs": [],
   "source": [
    "with open(outf_path, \"wt\") as outf, open(label_path, \"wt\") as labelf:\n",
    "    outf.write(\"{} {}\\n\".format(len(X), alph_size))\n",
    "    for seq, label in zip(X, y):\n",
    "        mapped_string = [str(x) for x in seq if x is not mapping[\"<SOS>\"] and x is not mapping[\"<EOS>\"]]\n",
    "        outf.write(\"{} {} {}\\n\".format(label, len(mapped_string), \" \".join(mapped_string)))\n",
    "        labelf.write(\"{}\\n\".format(label))"
   ]
  },
  {
   "cell_type": "markdown",
   "id": "97c7694f-b17b-4b4a-a09e-cab58591652c",
   "metadata": {},
   "source": [
    "# And now train data"
   ]
  },
  {
   "cell_type": "code",
   "execution_count": null,
   "id": "c1339b00-10ff-447d-909e-05d70d34c5ba",
   "metadata": {},
   "outputs": [],
   "source": [
    "outf_path = \"data/X_train.dat\"\n",
    "\n",
    "data_path = \"train_data.pk\"\n",
    "data = pk.load(open(data_path, \"rb\"))\n",
    "data.keys()"
   ]
  }
 ],
 "metadata": {
  "kernelspec": {
   "display_name": "Python 3 (ipykernel)",
   "language": "python",
   "name": "python3"
  },
  "language_info": {
   "codemirror_mode": {
    "name": "ipython",
    "version": 3
   },
   "file_extension": ".py",
   "mimetype": "text/x-python",
   "name": "python",
   "nbconvert_exporter": "python",
   "pygments_lexer": "ipython3",
   "version": "3.10.12"
  }
 },
 "nbformat": 4,
 "nbformat_minor": 5
}
