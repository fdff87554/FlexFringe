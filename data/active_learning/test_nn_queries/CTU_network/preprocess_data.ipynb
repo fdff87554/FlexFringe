{
 "cells": [
  {
   "cell_type": "code",
   "execution_count": 1,
   "id": "83733bc5-ecbb-4977-ba0e-eb2098916b3c",
   "metadata": {},
   "outputs": [
    {
     "name": "stdout",
     "output_type": "stream",
     "text": [
      "data_preprocessed_10.csv.encoded.dat  data_preprocessed_9.csv.labels.txt\n",
      "data_preprocessed_10.csv.labels.txt   scenarios_9_10.zip\n",
      "data_preprocessed_9.csv.encoded.dat\n"
     ]
    }
   ],
   "source": [
    "!ls data"
   ]
  },
  {
   "cell_type": "code",
   "execution_count": 2,
   "id": "51ad9a1e-c108-4494-b0ed-2809e7cf1383",
   "metadata": {},
   "outputs": [],
   "source": [
    "import numpy as np\n",
    "\n",
    "trace_file = \"data/data_preprocessed_10.csv.encoded.dat\"\n",
    "label_file = \"data/data_preprocessed_10.csv.labels.txt\"\n",
    "\n",
    "SOS = \"<SOS>\"\n",
    "EOS = \"<EOS>\""
   ]
  },
  {
   "cell_type": "code",
   "execution_count": 3,
   "id": "8bd54edb-026a-46ee-99b9-1dc803ed6025",
   "metadata": {},
   "outputs": [],
   "source": [
    "def get_label(label_line: list):\n",
    "    if \"1\" in set(label_line.split()):\n",
    "        return 1\n",
    "    return 0"
   ]
  },
  {
   "cell_type": "code",
   "execution_count": 4,
   "id": "aedf5317-7816-4afe-a0ab-b9267c711cba",
   "metadata": {},
   "outputs": [],
   "source": [
    "label_dict = {\"Normal\": 0, \"Anomaly\": 1}\n",
    "label_dict_inv = {v: k for k, v in label_dict.items()}\n",
    "events_set = set()\n",
    "\n",
    "events = list()\n",
    "labels = list()\n",
    "\n",
    "for i, (data_line, label_line) in enumerate(zip(open(trace_file, \"rt\"), open(label_file, \"rt\"))):\n",
    "    if i==0:\n",
    "        continue\n",
    "    event_trace = data_line.split()[2:]\n",
    "    if len(event_trace) < 2:\n",
    "        continue\n",
    "    \n",
    "    for event in event_trace:\n",
    "        events_set.add(event)\n",
    "    events.append(event_trace)\n",
    "    \n",
    "    label = get_label(label_line)\n",
    "    labels.append(label)\n",
    "events_set.add(SOS)\n",
    "events_set.add(EOS)"
   ]
  },
  {
   "cell_type": "code",
   "execution_count": 5,
   "id": "a5b839d8-750e-4761-b929-bcacf86812ef",
   "metadata": {},
   "outputs": [
    {
     "data": {
      "text/plain": [
       "([[79, 29, 6], [79, 18, 27], [79, 36, 36]],\n",
       " [array([[0., 0., 0., 0., 0., 0., 0., 0., 0., 0., 0., 0., 0., 0., 0., 0.,\n",
       "          0., 0., 0., 0., 0., 0., 0., 0., 0., 0., 0., 0., 0., 1., 0., 0.,\n",
       "          0., 0., 0., 0., 0., 0., 0., 0., 0., 0., 0., 0., 0., 0., 0., 0.,\n",
       "          0., 0., 0., 0., 0., 0., 0., 0., 0., 0., 0., 0., 0., 0., 0., 0.,\n",
       "          0., 0., 0., 0., 0., 0., 0., 0., 0., 0., 0., 0., 0., 0., 0., 0.,\n",
       "          0., 0., 0., 0., 0., 0., 0., 0., 0., 0., 0., 0.],\n",
       "         [0., 0., 0., 0., 0., 0., 1., 0., 0., 0., 0., 0., 0., 0., 0., 0.,\n",
       "          0., 0., 0., 0., 0., 0., 0., 0., 0., 0., 0., 0., 0., 0., 0., 0.,\n",
       "          0., 0., 0., 0., 0., 0., 0., 0., 0., 0., 0., 0., 0., 0., 0., 0.,\n",
       "          0., 0., 0., 0., 0., 0., 0., 0., 0., 0., 0., 0., 0., 0., 0., 0.,\n",
       "          0., 0., 0., 0., 0., 0., 0., 0., 0., 0., 0., 0., 0., 0., 0., 0.,\n",
       "          0., 0., 0., 0., 0., 0., 0., 0., 0., 0., 0., 0.],\n",
       "         [0., 0., 0., 0., 0., 0., 0., 0., 0., 0., 0., 0., 0., 0., 0., 0.,\n",
       "          0., 0., 0., 0., 0., 0., 1., 0., 0., 0., 0., 0., 0., 0., 0., 0.,\n",
       "          0., 0., 0., 0., 0., 0., 0., 0., 0., 0., 0., 0., 0., 0., 0., 0.,\n",
       "          0., 0., 0., 0., 0., 0., 0., 0., 0., 0., 0., 0., 0., 0., 0., 0.,\n",
       "          0., 0., 0., 0., 0., 0., 0., 0., 0., 0., 0., 0., 0., 0., 0., 0.,\n",
       "          0., 0., 0., 0., 0., 0., 0., 0., 0., 0., 0., 0.]]),\n",
       "  array([[0., 0., 0., 0., 0., 0., 0., 0., 0., 0., 0., 0., 0., 0., 0., 0.,\n",
       "          0., 0., 1., 0., 0., 0., 0., 0., 0., 0., 0., 0., 0., 0., 0., 0.,\n",
       "          0., 0., 0., 0., 0., 0., 0., 0., 0., 0., 0., 0., 0., 0., 0., 0.,\n",
       "          0., 0., 0., 0., 0., 0., 0., 0., 0., 0., 0., 0., 0., 0., 0., 0.,\n",
       "          0., 0., 0., 0., 0., 0., 0., 0., 0., 0., 0., 0., 0., 0., 0., 0.,\n",
       "          0., 0., 0., 0., 0., 0., 0., 0., 0., 0., 0., 0.],\n",
       "         [0., 0., 0., 0., 0., 0., 0., 0., 0., 0., 0., 0., 0., 0., 0., 0.,\n",
       "          0., 0., 0., 0., 0., 0., 0., 0., 0., 0., 0., 1., 0., 0., 0., 0.,\n",
       "          0., 0., 0., 0., 0., 0., 0., 0., 0., 0., 0., 0., 0., 0., 0., 0.,\n",
       "          0., 0., 0., 0., 0., 0., 0., 0., 0., 0., 0., 0., 0., 0., 0., 0.,\n",
       "          0., 0., 0., 0., 0., 0., 0., 0., 0., 0., 0., 0., 0., 0., 0., 0.,\n",
       "          0., 0., 0., 0., 0., 0., 0., 0., 0., 0., 0., 0.],\n",
       "         [0., 0., 0., 0., 0., 0., 0., 0., 0., 0., 0., 0., 0., 0., 0., 0.,\n",
       "          0., 0., 0., 0., 0., 0., 1., 0., 0., 0., 0., 0., 0., 0., 0., 0.,\n",
       "          0., 0., 0., 0., 0., 0., 0., 0., 0., 0., 0., 0., 0., 0., 0., 0.,\n",
       "          0., 0., 0., 0., 0., 0., 0., 0., 0., 0., 0., 0., 0., 0., 0., 0.,\n",
       "          0., 0., 0., 0., 0., 0., 0., 0., 0., 0., 0., 0., 0., 0., 0., 0.,\n",
       "          0., 0., 0., 0., 0., 0., 0., 0., 0., 0., 0., 0.]]),\n",
       "  array([[0., 0., 0., 0., 0., 0., 0., 0., 0., 0., 0., 0., 0., 0., 0., 0.,\n",
       "          0., 0., 0., 0., 0., 0., 0., 0., 0., 0., 0., 0., 0., 0., 0., 0.,\n",
       "          0., 0., 0., 0., 1., 0., 0., 0., 0., 0., 0., 0., 0., 0., 0., 0.,\n",
       "          0., 0., 0., 0., 0., 0., 0., 0., 0., 0., 0., 0., 0., 0., 0., 0.,\n",
       "          0., 0., 0., 0., 0., 0., 0., 0., 0., 0., 0., 0., 0., 0., 0., 0.,\n",
       "          0., 0., 0., 0., 0., 0., 0., 0., 0., 0., 0., 0.],\n",
       "         [0., 0., 0., 0., 0., 0., 0., 0., 0., 0., 0., 0., 0., 0., 0., 0.,\n",
       "          0., 0., 0., 0., 0., 0., 0., 0., 0., 0., 0., 0., 0., 0., 0., 0.,\n",
       "          0., 0., 0., 0., 1., 0., 0., 0., 0., 0., 0., 0., 0., 0., 0., 0.,\n",
       "          0., 0., 0., 0., 0., 0., 0., 0., 0., 0., 0., 0., 0., 0., 0., 0.,\n",
       "          0., 0., 0., 0., 0., 0., 0., 0., 0., 0., 0., 0., 0., 0., 0., 0.,\n",
       "          0., 0., 0., 0., 0., 0., 0., 0., 0., 0., 0., 0.],\n",
       "         [0., 0., 0., 0., 0., 0., 0., 0., 0., 0., 0., 0., 0., 0., 0., 0.,\n",
       "          0., 0., 0., 0., 0., 0., 1., 0., 0., 0., 0., 0., 0., 0., 0., 0.,\n",
       "          0., 0., 0., 0., 0., 0., 0., 0., 0., 0., 0., 0., 0., 0., 0., 0.,\n",
       "          0., 0., 0., 0., 0., 0., 0., 0., 0., 0., 0., 0., 0., 0., 0., 0.,\n",
       "          0., 0., 0., 0., 0., 0., 0., 0., 0., 0., 0., 0., 0., 0., 0., 0.,\n",
       "          0., 0., 0., 0., 0., 0., 0., 0., 0., 0., 0., 0.]])])"
      ]
     },
     "execution_count": 5,
     "metadata": {},
     "output_type": "execute_result"
    }
   ],
   "source": [
    "event_dict = {event: i for i, event in enumerate(events_set)}\n",
    "alphabet_size = len(event_dict)\n",
    "\n",
    "events_oh = list()\n",
    "for i in range(len(events)):\n",
    "    trace = events[i]\n",
    "    trace_oh = np.zeros((len(trace)+1, alphabet_size))\n",
    "    for j, event in enumerate(trace):\n",
    "        events[i][j] = event_dict[event]\n",
    "        trace_oh[j][event_dict[event]] = 1\n",
    "    events[i].insert(0, event_dict[SOS])\n",
    "    trace_oh[-1][event_dict[EOS]] = 1\n",
    "    events_oh.append(trace_oh)\n",
    "events[5:8], events_oh[5:8]"
   ]
  },
  {
   "cell_type": "code",
   "execution_count": 6,
   "id": "44535471-731d-4425-9527-b1a0efd6d762",
   "metadata": {},
   "outputs": [
    {
     "data": {
      "text/plain": [
       "{'24': 0,\n",
       " '40': 1,\n",
       " '61': 2,\n",
       " '72': 3,\n",
       " '41': 4,\n",
       " '75': 5,\n",
       " '69': 6,\n",
       " '39': 7,\n",
       " '83': 8,\n",
       " '74': 9,\n",
       " '109': 10,\n",
       " '27': 11,\n",
       " '105': 12,\n",
       " '34': 13,\n",
       " '111': 14,\n",
       " '98': 15,\n",
       " '85': 16,\n",
       " '87': 17,\n",
       " '116': 18,\n",
       " '108': 19,\n",
       " '101': 20,\n",
       " '63': 21,\n",
       " '<EOS>': 22,\n",
       " '62': 23,\n",
       " '42': 24,\n",
       " '96': 25,\n",
       " '86': 26,\n",
       " '57': 27,\n",
       " '95': 28,\n",
       " '58': 29,\n",
       " '13': 30,\n",
       " '21': 31,\n",
       " '112': 32,\n",
       " '80': 33,\n",
       " '32': 34,\n",
       " '45': 35,\n",
       " '118': 36,\n",
       " '36': 37,\n",
       " '30': 38,\n",
       " '104': 39,\n",
       " '51': 40,\n",
       " '102': 41,\n",
       " '64': 42,\n",
       " '53': 43,\n",
       " '89': 44,\n",
       " '50': 45,\n",
       " '17': 46,\n",
       " '47': 47,\n",
       " '28': 48,\n",
       " '106': 49,\n",
       " '29': 50,\n",
       " '73': 51,\n",
       " '46': 52,\n",
       " '120': 53,\n",
       " '16': 54,\n",
       " '82': 55,\n",
       " '67': 56,\n",
       " '54': 57,\n",
       " '107': 58,\n",
       " '76': 59,\n",
       " '60': 60,\n",
       " '49': 61,\n",
       " '84': 62,\n",
       " '100': 63,\n",
       " '14': 64,\n",
       " '119': 65,\n",
       " '12': 66,\n",
       " '68': 67,\n",
       " '78': 68,\n",
       " '52': 69,\n",
       " '91': 70,\n",
       " '23': 71,\n",
       " '90': 72,\n",
       " '18': 73,\n",
       " '35': 74,\n",
       " '117': 75,\n",
       " '115': 76,\n",
       " '20': 77,\n",
       " '25': 78,\n",
       " '<SOS>': 79,\n",
       " '56': 80,\n",
       " '130': 81,\n",
       " '93': 82,\n",
       " '94': 83,\n",
       " '79': 84,\n",
       " '65': 85,\n",
       " '113': 86,\n",
       " '43': 87,\n",
       " '97': 88,\n",
       " '38': 89,\n",
       " '71': 90,\n",
       " '19': 91}"
      ]
     },
     "execution_count": 6,
     "metadata": {},
     "output_type": "execute_result"
    }
   ],
   "source": [
    "event_dict"
   ]
  },
  {
   "cell_type": "code",
   "execution_count": 7,
   "id": "244b06a1-314d-4d63-bf5b-476c0a3d49fb",
   "metadata": {},
   "outputs": [
    {
     "data": {
      "text/plain": [
       "(939902, (array([0, 1]), array([833719, 106183])))"
      ]
     },
     "execution_count": 7,
     "metadata": {},
     "output_type": "execute_result"
    }
   ],
   "source": [
    "len(events), np.unique(np.array(labels),return_counts=True)"
   ]
  },
  {
   "cell_type": "code",
   "execution_count": 8,
   "id": "237bdee2-50fd-491b-a9da-8b401ab24e6b",
   "metadata": {},
   "outputs": [
    {
     "data": {
      "text/plain": [
       "(833719, 106183)"
      ]
     },
     "execution_count": 8,
     "metadata": {},
     "output_type": "execute_result"
    }
   ],
   "source": [
    "_, (n_normal, n_anomalies) = np.unique(np.array(labels),return_counts=True)\n",
    "n_normal, n_anomalies"
   ]
  },
  {
   "cell_type": "code",
   "execution_count": 9,
   "id": "14dd7dd7-b36a-4290-832e-5121de6be198",
   "metadata": {},
   "outputs": [
    {
     "data": {
      "text/plain": [
       "(711977, 227925, (array([0, 1]), array([121742, 106183])))"
      ]
     },
     "execution_count": 9,
     "metadata": {},
     "output_type": "execute_result"
    }
   ],
   "source": [
    "import random\n",
    "\n",
    "X_train = list()\n",
    "X_train_oh = list()\n",
    "X_test = list()\n",
    "X_test_oh = list()\n",
    "y_test = list()\n",
    "\n",
    "n_normal_test = n_anomalies # we want test set to be balanced in labels\n",
    "p_test = n_normal_test / (n_normal - n_anomalies)\n",
    "for event, event_oh, label in zip(events, events_oh, labels):\n",
    "    p = random.uniform(0, 1)\n",
    "\n",
    "    if label==1 or p <= p_test:\n",
    "        X_test.append(event)\n",
    "        X_test_oh.append(event_oh)\n",
    "        y_test.append(label)\n",
    "    else:        \n",
    "        X_train.append(event)\n",
    "        X_train_oh.append(event_oh)\n",
    "\n",
    "len(X_train), len(X_test), np.unique(y_test, return_counts=True)"
   ]
  },
  {
   "cell_type": "code",
   "execution_count": 10,
   "id": "3acaddf3-1ff5-452a-82f1-513f9a0af640",
   "metadata": {},
   "outputs": [],
   "source": [
    "import pickle as pk\n",
    "\n",
    "pk.dump({\n",
    "    \"X\": X_train[:400000],\n",
    "    \"X_oh\": X_train_oh[:400000],\n",
    "    \"alphabet_size\": alphabet_size,\n",
    "    \"event_mapping\": event_dict,\n",
    "    },\n",
    "    open(\"train_data.pk\", \"wb\") ,\n",
    ")\n",
    "\n",
    "#pk.dump(\n",
    "#   X_train[:300000],\n",
    "#    open(\"X_train.pk\", \"wb\"),\n",
    "#    protocol=4\n",
    "#)\n",
    "#pk.dump(\n",
    "#    X_train_oh,\n",
    "#    open(\"X_train_oh.pk\", \"wb\"),\n",
    "#    protocol=4\n",
    "#)\n",
    "#pk.dump(\n",
    "#   alphabet_size,\n",
    "#    open(\"alphabet_size.pk\", \"wb\"),\n",
    "#    protocol=4\n",
    "#)\n",
    "\n",
    "del X_train, X_train_oh, events, events_oh, labels"
   ]
  },
  {
   "cell_type": "code",
   "execution_count": 11,
   "id": "ab96f651-5b40-49f2-b315-3a6067927ffe",
   "metadata": {},
   "outputs": [],
   "source": [
    "def unison_shuffled_copies(a, b, c):\n",
    "    assert(len(a)==len(b) and len(b)==len(c))\n",
    "    tmp = list(zip(a, b, c))\n",
    "    random.shuffle(tmp)\n",
    "    a, b, c = zip(*tmp)\n",
    "    del tmp\n",
    "    return list(a), list(b), list(c)\n",
    "\n",
    "X_test, X_test_oh, y_test = unison_shuffled_copies(X_test, X_test_oh, y_test)"
   ]
  },
  {
   "cell_type": "code",
   "execution_count": 12,
   "id": "8a46701e-bcdb-4d89-a954-5b6c5512972c",
   "metadata": {},
   "outputs": [],
   "source": [
    "\n",
    "pk.dump({\n",
    "    \"X\": X_test,\n",
    "    \"X_oh\": X_test_oh,\n",
    "    \"y\": y_test,\n",
    "    \"alphabet_size\": alphabet_size,\n",
    "    \"event_mapping\": event_dict,\n",
    "    },\n",
    "    open(\"test_data.pk\", \"wb\"),\n",
    ")"
   ]
  },
  {
   "cell_type": "code",
   "execution_count": 13,
   "id": "f74b6b2c-d4ff-4357-8a13-1d5b48c80548",
   "metadata": {},
   "outputs": [
    {
     "name": "stdout",
     "output_type": "stream",
     "text": [
      "data\t\t\t    preprocess_data.ipynb  train_model.ipynb\n",
      "evaluate_predictions.ipynb  test_data.pk\t   X_train_oh.pk\n",
      "predict_and_save.ipynb\t    train_data.pk\t   X_train.pk\n"
     ]
    }
   ],
   "source": [
    "!ls"
   ]
  },
  {
   "cell_type": "code",
   "execution_count": null,
   "id": "1b9da03c-a899-45ad-be5e-a53c89733148",
   "metadata": {},
   "outputs": [],
   "source": []
  }
 ],
 "metadata": {
  "kernelspec": {
   "display_name": "Python 3 (ipykernel)",
   "language": "python",
   "name": "python3"
  },
  "language_info": {
   "codemirror_mode": {
    "name": "ipython",
    "version": 3
   },
   "file_extension": ".py",
   "mimetype": "text/x-python",
   "name": "python",
   "nbconvert_exporter": "python",
   "pygments_lexer": "ipython3",
   "version": "3.10.12"
  }
 },
 "nbformat": 4,
 "nbformat_minor": 5
}
