{
 "cells": [
  {
   "cell_type": "code",
   "execution_count": 1,
   "id": "c92f5594-2e9e-439a-ae3a-9a1661eed510",
   "metadata": {},
   "outputs": [
    {
     "name": "stderr",
     "output_type": "stream",
     "text": [
      "2024-04-25 12:23:29.051136: I tensorflow/core/platform/cpu_feature_guard.cc:182] This TensorFlow binary is optimized to use available CPU instructions in performance-critical operations.\n",
      "To enable the following instructions: AVX2 FMA, in other operations, rebuild TensorFlow with the appropriate compiler flags.\n"
     ]
    }
   ],
   "source": [
    "import numpy as np\n",
    "import pickle as pk\n",
    "\n",
    "import tensorflow.keras\n",
    "from tensorflow.keras.models import load_model\n",
    "\n",
    "test_data_path = \"test_data.pk\"\n",
    "MODEL_NAME = \"model_2.keras\"\n",
    "\n",
    "model = load_model(MODEL_NAME)"
   ]
  },
  {
   "cell_type": "code",
   "execution_count": 2,
   "id": "fbc73304-6e82-4f92-8d51-f34ddac7a54a",
   "metadata": {},
   "outputs": [
    {
     "data": {
      "text/plain": [
       "(227925, 227925, 227925)"
      ]
     },
     "execution_count": 2,
     "metadata": {},
     "output_type": "execute_result"
    }
   ],
   "source": [
    "test_data = pk.load(open(test_data_path, \"rb\"))\n",
    "X_test = test_data[\"X\"]\n",
    "X_test_oh = test_data[\"X_oh\"]\n",
    "alphabet_size = test_data[\"alphabet_size\"]\n",
    "\n",
    "y_test = test_data[\"y\"]\n",
    "event_mapping = test_data[\"event_mapping\"]\n",
    "\n",
    "len(X_test), len(X_test_oh), len(y_test)"
   ]
  },
  {
   "cell_type": "code",
   "execution_count": 3,
   "id": "2d3c7a95-6ee2-4447-ae8d-bd06a6a8e460",
   "metadata": {},
   "outputs": [
    {
     "name": "stdout",
     "output_type": "stream",
     "text": [
      "1/1 [==============================] - 0s 321ms/step\n"
     ]
    }
   ],
   "source": [
    "sample_idx = 5\n",
    "test = model.predict(np.array(X_test[sample_idx]))"
   ]
  },
  {
   "cell_type": "code",
   "execution_count": 4,
   "id": "daee58d9-e2ea-4034-95b9-6a5748b97be6",
   "metadata": {},
   "outputs": [
    {
     "data": {
      "text/plain": [
       "(22, 77)"
      ]
     },
     "execution_count": 4,
     "metadata": {},
     "output_type": "execute_result"
    }
   ],
   "source": [
    "idx = 6\n",
    "np.argmax(test[idx]), np.argmax(X_test_oh[sample_idx][idx])"
   ]
  },
  {
   "cell_type": "code",
   "execution_count": 5,
   "id": "9e042506-bd48-4b26-b377-7e9b733f769e",
   "metadata": {},
   "outputs": [
    {
     "data": {
      "text/plain": [
       "1"
      ]
     },
     "execution_count": 5,
     "metadata": {},
     "output_type": "execute_result"
    }
   ],
   "source": [
    "#X_test[5]\n",
    "y_test[sample_idx]"
   ]
  },
  {
   "cell_type": "markdown",
   "id": "1a76554c-4f1f-4b26-9850-7eed3bc94b1e",
   "metadata": {},
   "source": [
    "X_pred = list()\n",
    "for idx, seq in enumerate(X_test):\n",
    "    current_prediction = None\n",
    "    for i in range(len(seq)):\n",
    "        pred = model(np.array(seq[:i+1]))\n",
    "        if current_prediction is None:\n",
    "            current_prediction = pred\n",
    "        else:\n",
    "            current_prediction = np.vstack((current_prediction, pred))\n",
    "    X_pred.append(current_prediction)\n",
    "    break\n",
    "    if idx % 1000 == 0:\n",
    "        print(idx)\n",
    "    if idx == 15000:\n",
    "        break"
   ]
  },
  {
   "cell_type": "code",
   "execution_count": 6,
   "id": "d8c69532-488f-4d05-95cd-aa85883d5402",
   "metadata": {},
   "outputs": [
    {
     "name": "stdout",
     "output_type": "stream",
     "text": [
      "0\n",
      "5000\n",
      "10000\n",
      "15000\n",
      "20000\n",
      "25000\n",
      "30000\n",
      "35000\n",
      "40000\n",
      "45000\n",
      "50000\n",
      "55000\n",
      "60000\n",
      "65000\n",
      "70000\n",
      "75000\n",
      "80000\n",
      "85000\n",
      "90000\n",
      "95000\n",
      "100000\n",
      "105000\n",
      "110000\n",
      "115000\n",
      "120000\n",
      "125000\n",
      "130000\n",
      "135000\n",
      "140000\n",
      "145000\n",
      "150000\n",
      "155000\n",
      "160000\n",
      "165000\n",
      "170000\n",
      "175000\n",
      "180000\n",
      "185000\n",
      "190000\n",
      "195000\n",
      "200000\n",
      "205000\n",
      "210000\n",
      "215000\n",
      "220000\n",
      "225000\n",
      "1652.9384575660006\n"
     ]
    }
   ],
   "source": [
    "import timeit\n",
    "start_time = timeit.default_timer()\n",
    "\n",
    "X_pred = list()\n",
    "for idx, seq in enumerate(X_test):\n",
    "    current_prediction = model(np.array(seq))\n",
    "    #for i in range(len(seq)):\n",
    "        #pred = model(np.array(seq[:i+1]))\n",
    "        #pred = model(np.array(seq))\n",
    "        #print(\"Predict on: \", seq[:i+1].shape)\n",
    "        #print(\"Shape of prediction: \", pred.shape)\n",
    "        #if current_prediction is None:\n",
    "        #    current_prediction = pred\n",
    "        #else:\n",
    "        #    current_prediction = np.vstack((current_prediction, pred))\n",
    "        #print(\"Current_prediction: \", current_prediction.shape)\n",
    "    X_pred.append(current_prediction)\n",
    "    if idx % 5000 == 0:\n",
    "        print(idx)\n",
    "    #if idx == 15000: # TODD: do more here\n",
    "    #    break\n",
    "\n",
    "elapsed_time = timeit.default_timer() - start_time\n",
    "print(elapsed_time)"
   ]
  },
  {
   "cell_type": "code",
   "execution_count": 7,
   "id": "12d0c787-0c72-4b8b-b9ad-2250cbc5eb07",
   "metadata": {},
   "outputs": [
    {
     "data": {
      "text/plain": [
       "([79, 61, 61, 89, 89, 61, 11, 11, 11, 11, 11], TensorShape([11, 92]), (11, 92))"
      ]
     },
     "execution_count": 7,
     "metadata": {},
     "output_type": "execute_result"
    }
   ],
   "source": [
    "X_test[0], X_pred[0].shape, X_test_oh[0].shape"
   ]
  },
  {
   "cell_type": "code",
   "execution_count": 8,
   "id": "1d21c250-75c2-4c38-a6d7-63df69b98d96",
   "metadata": {},
   "outputs": [
    {
     "name": "stdout",
     "output_type": "stream",
     "text": [
      "227925\n"
     ]
    }
   ],
   "source": [
    "print(len(X_pred))"
   ]
  },
  {
   "cell_type": "code",
   "execution_count": 9,
   "id": "9b47121e-3fff-4b2d-ad52-2bcd2a6d9744",
   "metadata": {},
   "outputs": [],
   "source": [
    "import pickle as pk\n",
    "\n",
    "pk.dump(X_pred, open(\"X_pred.pk\", \"wb\"))"
   ]
  }
 ],
 "metadata": {
  "kernelspec": {
   "display_name": "Python 3 (ipykernel)",
   "language": "python",
   "name": "python3"
  },
  "language_info": {
   "codemirror_mode": {
    "name": "ipython",
    "version": 3
   },
   "file_extension": ".py",
   "mimetype": "text/x-python",
   "name": "python",
   "nbconvert_exporter": "python",
   "pygments_lexer": "ipython3",
   "version": "3.10.12"
  }
 },
 "nbformat": 4,
 "nbformat_minor": 5
}
