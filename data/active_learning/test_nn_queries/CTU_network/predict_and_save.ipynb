{
 "cells": [
  {
   "cell_type": "code",
   "execution_count": 1,
   "id": "c92f5594-2e9e-439a-ae3a-9a1661eed510",
   "metadata": {},
   "outputs": [
    {
     "name": "stderr",
     "output_type": "stream",
     "text": [
      "2023-12-04 13:58:08.989409: E external/local_xla/xla/stream_executor/cuda/cuda_dnn.cc:9261] Unable to register cuDNN factory: Attempting to register factory for plugin cuDNN when one has already been registered\n",
      "2023-12-04 13:58:08.989433: E external/local_xla/xla/stream_executor/cuda/cuda_fft.cc:607] Unable to register cuFFT factory: Attempting to register factory for plugin cuFFT when one has already been registered\n",
      "2023-12-04 13:58:08.990176: E external/local_xla/xla/stream_executor/cuda/cuda_blas.cc:1515] Unable to register cuBLAS factory: Attempting to register factory for plugin cuBLAS when one has already been registered\n",
      "2023-12-04 13:58:08.995956: I tensorflow/core/platform/cpu_feature_guard.cc:182] This TensorFlow binary is optimized to use available CPU instructions in performance-critical operations.\n",
      "To enable the following instructions: AVX2 FMA, in other operations, rebuild TensorFlow with the appropriate compiler flags.\n",
      "2023-12-04 13:58:09.808027: W tensorflow/compiler/tf2tensorrt/utils/py_utils.cc:38] TF-TRT Warning: Could not find TensorRT\n",
      "2023-12-04 13:58:12.378310: E external/local_xla/xla/stream_executor/cuda/cuda_driver.cc:274] failed call to cuInit: CUDA_ERROR_NO_DEVICE: no CUDA-capable device is detected\n",
      "2023-12-04 13:58:12.378335: I external/local_xla/xla/stream_executor/cuda/cuda_diagnostics.cc:129] retrieving CUDA diagnostic information for host: tud1002708\n",
      "2023-12-04 13:58:12.378339: I external/local_xla/xla/stream_executor/cuda/cuda_diagnostics.cc:136] hostname: tud1002708\n",
      "2023-12-04 13:58:12.378419: I external/local_xla/xla/stream_executor/cuda/cuda_diagnostics.cc:159] libcuda reported version is: 525.147.5\n",
      "2023-12-04 13:58:12.378433: I external/local_xla/xla/stream_executor/cuda/cuda_diagnostics.cc:163] kernel reported version is: 525.147.5\n",
      "2023-12-04 13:58:12.378436: I external/local_xla/xla/stream_executor/cuda/cuda_diagnostics.cc:241] kernel version seems to match DSO: 525.147.5\n"
     ]
    }
   ],
   "source": [
    "import os\n",
    "os.environ[\"CUDA_VISIBLE_DEVICES\"] = \"-1\"\n",
    "\n",
    "import numpy as np\n",
    "import pickle as pk\n",
    "\n",
    "import tensorflow.keras\n",
    "from tensorflow.keras.models import load_model\n",
    "    \n",
    "test_data_path = \"test_data.pk\"\n",
    "MODEL_NAME = \"model.keras\"\n",
    "\n",
    "model = load_model(MODEL_NAME)"
   ]
  },
  {
   "cell_type": "code",
   "execution_count": 2,
   "id": "fbc73304-6e82-4f92-8d51-f34ddac7a54a",
   "metadata": {},
   "outputs": [
    {
     "data": {
      "text/plain": [
       "(227925, 227925, 227925)"
      ]
     },
     "execution_count": 2,
     "metadata": {},
     "output_type": "execute_result"
    }
   ],
   "source": [
    "import pickle as pk\n",
    "\n",
    "test_data = pk.load(open(test_data_path, \"rb\"))\n",
    "X_test = test_data[\"X\"]\n",
    "X_test_oh = test_data[\"X_oh\"]\n",
    "alphabet_size = test_data[\"alphabet_size\"]\n",
    "\n",
    "y_test = test_data[\"y\"]\n",
    "event_mapping = test_data[\"event_mapping\"]\n",
    "\n",
    "len(X_test), len(X_test_oh), len(y_test)"
   ]
  },
  {
   "cell_type": "code",
   "execution_count": 3,
   "id": "171cb0db-adc0-4a68-8bd3-7e8a9678acf2",
   "metadata": {},
   "outputs": [
    {
     "data": {
      "text/plain": [
       "{'24': 0,\n",
       " '40': 1,\n",
       " '61': 2,\n",
       " '72': 3,\n",
       " '41': 4,\n",
       " '75': 5,\n",
       " '69': 6,\n",
       " '39': 7,\n",
       " '83': 8,\n",
       " '74': 9,\n",
       " '109': 10,\n",
       " '27': 11,\n",
       " '105': 12,\n",
       " '34': 13,\n",
       " '111': 14,\n",
       " '98': 15,\n",
       " '85': 16,\n",
       " '87': 17,\n",
       " '116': 18,\n",
       " '108': 19,\n",
       " '101': 20,\n",
       " '63': 21,\n",
       " '<EOS>': 22,\n",
       " '62': 23,\n",
       " '42': 24,\n",
       " '96': 25,\n",
       " '86': 26,\n",
       " '57': 27,\n",
       " '95': 28,\n",
       " '58': 29,\n",
       " '13': 30,\n",
       " '21': 31,\n",
       " '112': 32,\n",
       " '80': 33,\n",
       " '32': 34,\n",
       " '45': 35,\n",
       " '118': 36,\n",
       " '36': 37,\n",
       " '30': 38,\n",
       " '104': 39,\n",
       " '51': 40,\n",
       " '102': 41,\n",
       " '64': 42,\n",
       " '53': 43,\n",
       " '89': 44,\n",
       " '50': 45,\n",
       " '17': 46,\n",
       " '47': 47,\n",
       " '28': 48,\n",
       " '106': 49,\n",
       " '29': 50,\n",
       " '73': 51,\n",
       " '46': 52,\n",
       " '120': 53,\n",
       " '16': 54,\n",
       " '82': 55,\n",
       " '67': 56,\n",
       " '54': 57,\n",
       " '107': 58,\n",
       " '76': 59,\n",
       " '60': 60,\n",
       " '49': 61,\n",
       " '84': 62,\n",
       " '100': 63,\n",
       " '14': 64,\n",
       " '119': 65,\n",
       " '12': 66,\n",
       " '68': 67,\n",
       " '78': 68,\n",
       " '52': 69,\n",
       " '91': 70,\n",
       " '23': 71,\n",
       " '90': 72,\n",
       " '18': 73,\n",
       " '35': 74,\n",
       " '117': 75,\n",
       " '115': 76,\n",
       " '20': 77,\n",
       " '25': 78,\n",
       " '<SOS>': 79,\n",
       " '56': 80,\n",
       " '130': 81,\n",
       " '93': 82,\n",
       " '94': 83,\n",
       " '79': 84,\n",
       " '65': 85,\n",
       " '113': 86,\n",
       " '43': 87,\n",
       " '97': 88,\n",
       " '38': 89,\n",
       " '71': 90,\n",
       " '19': 91}"
      ]
     },
     "execution_count": 3,
     "metadata": {},
     "output_type": "execute_result"
    }
   ],
   "source": [
    "event_mapping"
   ]
  },
  {
   "cell_type": "code",
   "execution_count": 4,
   "id": "2d3c7a95-6ee2-4447-ae8d-bd06a6a8e460",
   "metadata": {},
   "outputs": [
    {
     "name": "stdout",
     "output_type": "stream",
     "text": [
      "1/1 [==============================] - 0s 269ms/step\n"
     ]
    }
   ],
   "source": [
    "sample_idx = 5\n",
    "test = model.predict(np.array(X_test[sample_idx]))"
   ]
  },
  {
   "cell_type": "code",
   "execution_count": 5,
   "id": "daee58d9-e2ea-4034-95b9-6a5748b97be6",
   "metadata": {},
   "outputs": [
    {
     "data": {
      "text/plain": [
       "(22, 77)"
      ]
     },
     "execution_count": 5,
     "metadata": {},
     "output_type": "execute_result"
    }
   ],
   "source": [
    "idx = 6\n",
    "np.argmax(test[idx]), np.argmax(X_test_oh[sample_idx][idx])"
   ]
  },
  {
   "cell_type": "code",
   "execution_count": 6,
   "id": "9e042506-bd48-4b26-b377-7e9b733f769e",
   "metadata": {},
   "outputs": [
    {
     "data": {
      "text/plain": [
       "1"
      ]
     },
     "execution_count": 6,
     "metadata": {},
     "output_type": "execute_result"
    }
   ],
   "source": [
    "#X_test[5]\n",
    "y_test[sample_idx]"
   ]
  },
  {
   "cell_type": "code",
   "execution_count": 7,
   "id": "7533f384-ee64-486b-b8d0-2905be79db0f",
   "metadata": {},
   "outputs": [],
   "source": [
    "#def data_generator():\n",
    "#    global X_test\n",
    "    \n",
    "#    idx = 0\n",
    "#    while idx < len(X_test):\n",
    "#        yield np.array(X_test[idx])\n",
    "#        idx += 1\n",
    "\n",
    "#data_gen = data_generator()\n",
    "\n",
    "#X_pred = model.predict(data_gen, steps=len(X_test))"
   ]
  },
  {
   "cell_type": "code",
   "execution_count": 8,
   "id": "b971dc4a-8783-4e0b-bdcb-cfdafcc4c2f1",
   "metadata": {},
   "outputs": [
    {
     "name": "stdout",
     "output_type": "stream",
     "text": [
      "0\n",
      "500\n",
      "1000\n",
      "1500\n",
      "2000\n",
      "2500\n",
      "3000\n",
      "3500\n",
      "4000\n",
      "4500\n",
      "5000\n",
      "5500\n",
      "6000\n",
      "6500\n",
      "7000\n"
     ]
    }
   ],
   "source": [
    "X_pred = list()\n",
    "for idx, seq in enumerate(X_test):\n",
    "    current_prediction = None\n",
    "    for i in range(len(seq)):\n",
    "        pred = model(np.array(seq[:i+1]))\n",
    "        if current_prediction is None:\n",
    "            current_prediction = pred\n",
    "        else:\n",
    "            current_prediction = np.vstack((current_prediction, pred))\n",
    "    X_pred.append(current_prediction)\n",
    "    if idx % 500 == 0:\n",
    "        print(idx)\n",
    "    if idx == 7000:\n",
    "        break"
   ]
  },
  {
   "cell_type": "code",
   "execution_count": 9,
   "id": "1d21c250-75c2-4c38-a6d7-63df69b98d96",
   "metadata": {},
   "outputs": [
    {
     "name": "stdout",
     "output_type": "stream",
     "text": [
      "7001\n",
      "7000\n"
     ]
    }
   ],
   "source": [
    "print(len(X_pred))\n",
    "X_pred = X_pred[:-1]\n",
    "print(len(X_pred))"
   ]
  },
  {
   "cell_type": "code",
   "execution_count": 10,
   "id": "9b47121e-3fff-4b2d-ad52-2bcd2a6d9744",
   "metadata": {},
   "outputs": [],
   "source": [
    "import pickle as pk\n",
    "\n",
    "pk.dump(X_pred, open(\"X_pred_full.pk\", \"wb\"))"
   ]
  }
 ],
 "metadata": {
  "kernelspec": {
   "display_name": "Python 3 (ipykernel)",
   "language": "python",
   "name": "python3"
  },
  "language_info": {
   "codemirror_mode": {
    "name": "ipython",
    "version": 3
   },
   "file_extension": ".py",
   "mimetype": "text/x-python",
   "name": "python",
   "nbconvert_exporter": "python",
   "pygments_lexer": "ipython3",
   "version": "3.10.12"
  }
 },
 "nbformat": 4,
 "nbformat_minor": 5
}
