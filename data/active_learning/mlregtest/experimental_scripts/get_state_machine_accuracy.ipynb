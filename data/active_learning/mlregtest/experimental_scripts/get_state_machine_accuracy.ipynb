{
 "cells": [
  {
   "cell_type": "code",
   "execution_count": 1,
   "id": "eec77932-3691-47af-a458-e399b6f5b863",
   "metadata": {},
   "outputs": [],
   "source": [
    "import os\n",
    "\n",
    "import pandas as pd\n",
    "\n",
    "# adjust only the next block\n",
    "PROBLEM = \"04.04.PT.2.1.1\"\n",
    "\n",
    "# for the bug to occur: On large dataset here and problem number 04.04.PT.2.1.1\n",
    "MODEL_DATA_DIR = \"../data/abbadingo/Short_Sequences_Mid/\"\n",
    "TEST_DATA_DIR = \"../data/abbadingo/Short_Sequences_Mid/\"\n",
    "\n",
    "# the follwing blocks remain fixed\n",
    "MODEL_FILENAME = \"{}_Train.txt.dat.ff.final.json\".format(PROBLEM) # probably not needed\n",
    "TEST_DATA_FILENAME = \"{}_TestSR.txt.dat\".format(PROBLEM)\n",
    "RESULTS_FILENAME = \"{}_TestSR.txt.dat.ff.result\".format(PROBLEM)\n",
    "\n",
    "type_mapping_dict = {\n",
    "    \"A\": 0,\n",
    "    \"R\": 1,\n",
    "    \"0\": -1\n",
    "}\n",
    "\n",
    "def map_type(x):\n",
    "    x = x.strip()\n",
    "    return type_mapping_dict[x]"
   ]
  },
  {
   "cell_type": "code",
   "execution_count": 2,
   "id": "228cfab8-0fe7-4bf1-956e-1e02c53eed4b",
   "metadata": {},
   "outputs": [
    {
     "data": {
      "text/html": [
       "<div>\n",
       "<style scoped>\n",
       "    .dataframe tbody tr th:only-of-type {\n",
       "        vertical-align: middle;\n",
       "    }\n",
       "\n",
       "    .dataframe tbody tr th {\n",
       "        vertical-align: top;\n",
       "    }\n",
       "\n",
       "    .dataframe thead th {\n",
       "        text-align: right;\n",
       "    }\n",
       "</style>\n",
       "<table border=\"1\" class=\"dataframe\">\n",
       "  <thead>\n",
       "    <tr style=\"text-align: right;\">\n",
       "      <th></th>\n",
       "      <th>row nr</th>\n",
       "      <th>abbadingo trace</th>\n",
       "      <th>state sequence</th>\n",
       "      <th>score sequence</th>\n",
       "      <th>trace type</th>\n",
       "      <th>type probability</th>\n",
       "      <th>predicted trace type</th>\n",
       "      <th>predicted type probability</th>\n",
       "    </tr>\n",
       "  </thead>\n",
       "  <tbody>\n",
       "    <tr>\n",
       "      <th>0</th>\n",
       "      <td>1</td>\n",
       "      <td>\"A 1 d\"</td>\n",
       "      <td>[-1]</td>\n",
       "      <td>[0]</td>\n",
       "      <td>A</td>\n",
       "      <td>0.073345</td>\n",
       "      <td>A</td>\n",
       "      <td>0.073345</td>\n",
       "    </tr>\n",
       "    <tr>\n",
       "      <th>1</th>\n",
       "      <td>1</td>\n",
       "      <td>\"A 1 d\"</td>\n",
       "      <td>[-1]</td>\n",
       "      <td>[0]</td>\n",
       "      <td>A</td>\n",
       "      <td>0.073345</td>\n",
       "      <td>A</td>\n",
       "      <td>0.073345</td>\n",
       "    </tr>\n",
       "    <tr>\n",
       "      <th>2</th>\n",
       "      <td>1</td>\n",
       "      <td>\"A 1 a\"</td>\n",
       "      <td>[4]</td>\n",
       "      <td>[0]</td>\n",
       "      <td>A</td>\n",
       "      <td>1.000000</td>\n",
       "      <td>A</td>\n",
       "      <td>1.000000</td>\n",
       "    </tr>\n",
       "    <tr>\n",
       "      <th>3</th>\n",
       "      <td>1</td>\n",
       "      <td>\"A 1 c\"</td>\n",
       "      <td>[3]</td>\n",
       "      <td>[0]</td>\n",
       "      <td>A</td>\n",
       "      <td>1.000000</td>\n",
       "      <td>A</td>\n",
       "      <td>1.000000</td>\n",
       "    </tr>\n",
       "    <tr>\n",
       "      <th>4</th>\n",
       "      <td>1</td>\n",
       "      <td>\"A 1 a\"</td>\n",
       "      <td>[4]</td>\n",
       "      <td>[0]</td>\n",
       "      <td>A</td>\n",
       "      <td>1.000000</td>\n",
       "      <td>A</td>\n",
       "      <td>1.000000</td>\n",
       "    </tr>\n",
       "    <tr>\n",
       "      <th>...</th>\n",
       "      <td>...</td>\n",
       "      <td>...</td>\n",
       "      <td>...</td>\n",
       "      <td>...</td>\n",
       "      <td>...</td>\n",
       "      <td>...</td>\n",
       "      <td>...</td>\n",
       "      <td>...</td>\n",
       "    </tr>\n",
       "    <tr>\n",
       "      <th>3895</th>\n",
       "      <td>1</td>\n",
       "      <td>\"R 20 a b a a d d a a a a b a d b a a d d b d\"</td>\n",
       "      <td>[4,20,20,20,20,20,20,20,20,20,20,20,20,20,20,...</td>\n",
       "      <td>[0,0,0,0,0,0,0,0,0,0,0,0,0,0,0,0,0,0,0,0]</td>\n",
       "      <td>R</td>\n",
       "      <td>1.000000</td>\n",
       "      <td>R</td>\n",
       "      <td>1.000000</td>\n",
       "    </tr>\n",
       "    <tr>\n",
       "      <th>3896</th>\n",
       "      <td>1</td>\n",
       "      <td>\"R 20 d d b d d b b b d b d d a b a b a d d a\"</td>\n",
       "      <td>[-1,-1,2,-1,-1,2,16,2,-1,2,-1,-1,4,20,20,20,2...</td>\n",
       "      <td>[0,0,0,0,0,0,0,0,0,0,0,0,0,0,0,0,0,0,0,0]</td>\n",
       "      <td>R</td>\n",
       "      <td>1.000000</td>\n",
       "      <td>R</td>\n",
       "      <td>1.000000</td>\n",
       "    </tr>\n",
       "    <tr>\n",
       "      <th>3897</th>\n",
       "      <td>1</td>\n",
       "      <td>\"R 20 a d b b d a d a b a d a a a b d b d b b\"</td>\n",
       "      <td>[4,4,20,20,20,20,20,20,20,20,20,20,20,20,20,2...</td>\n",
       "      <td>[0,0,0,0,0,0,0,0,0,0,0,0,0,0,0,0,0,0,0,0]</td>\n",
       "      <td>R</td>\n",
       "      <td>1.000000</td>\n",
       "      <td>R</td>\n",
       "      <td>1.000000</td>\n",
       "    </tr>\n",
       "    <tr>\n",
       "      <th>3898</th>\n",
       "      <td>1</td>\n",
       "      <td>\"R 20 d b b b b b b b b a d b b a d d a a b b\"</td>\n",
       "      <td>[-1,2,16,2,16,2,16,2,16,4,4,20,20,20,20,20,20...</td>\n",
       "      <td>[0,0,0,0,0,0,0,0,0,0,0,0,0,0,0,0,0,0,0,0]</td>\n",
       "      <td>R</td>\n",
       "      <td>1.000000</td>\n",
       "      <td>R</td>\n",
       "      <td>1.000000</td>\n",
       "    </tr>\n",
       "    <tr>\n",
       "      <th>3899</th>\n",
       "      <td>1</td>\n",
       "      <td>\"R 20 d b d b d d a d b b b b b b a d a d a d\"</td>\n",
       "      <td>[-1,2,-1,2,-1,-1,4,4,20,20,20,20,20,20,20,20,...</td>\n",
       "      <td>[0,0,0,0,0,0,0,0,0,0,0,0,0,0,0,0,0,0,0,0]</td>\n",
       "      <td>R</td>\n",
       "      <td>1.000000</td>\n",
       "      <td>R</td>\n",
       "      <td>1.000000</td>\n",
       "    </tr>\n",
       "  </tbody>\n",
       "</table>\n",
       "<p>3900 rows × 8 columns</p>\n",
       "</div>"
      ],
      "text/plain": [
       "      row nr                                  abbadingo trace  \\\n",
       "0          1                                          \"A 1 d\"   \n",
       "1          1                                          \"A 1 d\"   \n",
       "2          1                                          \"A 1 a\"   \n",
       "3          1                                          \"A 1 c\"   \n",
       "4          1                                          \"A 1 a\"   \n",
       "...      ...                                              ...   \n",
       "3895       1   \"R 20 a b a a d d a a a a b a d b a a d d b d\"   \n",
       "3896       1   \"R 20 d d b d d b b b d b d d a b a b a d d a\"   \n",
       "3897       1   \"R 20 a d b b d a d a b a d a a a b d b d b b\"   \n",
       "3898       1   \"R 20 d b b b b b b b b a d b b a d d a a b b\"   \n",
       "3899       1   \"R 20 d b d b d d a d b b b b b b a d a d a d\"   \n",
       "\n",
       "                                         state sequence  \\\n",
       "0                                                  [-1]   \n",
       "1                                                  [-1]   \n",
       "2                                                   [4]   \n",
       "3                                                   [3]   \n",
       "4                                                   [4]   \n",
       "...                                                 ...   \n",
       "3895   [4,20,20,20,20,20,20,20,20,20,20,20,20,20,20,...   \n",
       "3896   [-1,-1,2,-1,-1,2,16,2,-1,2,-1,-1,4,20,20,20,2...   \n",
       "3897   [4,4,20,20,20,20,20,20,20,20,20,20,20,20,20,2...   \n",
       "3898   [-1,2,16,2,16,2,16,2,16,4,4,20,20,20,20,20,20...   \n",
       "3899   [-1,2,-1,2,-1,-1,4,4,20,20,20,20,20,20,20,20,...   \n",
       "\n",
       "                                  score sequence  trace type  \\\n",
       "0                                            [0]           A   \n",
       "1                                            [0]           A   \n",
       "2                                            [0]           A   \n",
       "3                                            [0]           A   \n",
       "4                                            [0]           A   \n",
       "...                                          ...         ...   \n",
       "3895   [0,0,0,0,0,0,0,0,0,0,0,0,0,0,0,0,0,0,0,0]           R   \n",
       "3896   [0,0,0,0,0,0,0,0,0,0,0,0,0,0,0,0,0,0,0,0]           R   \n",
       "3897   [0,0,0,0,0,0,0,0,0,0,0,0,0,0,0,0,0,0,0,0]           R   \n",
       "3898   [0,0,0,0,0,0,0,0,0,0,0,0,0,0,0,0,0,0,0,0]           R   \n",
       "3899   [0,0,0,0,0,0,0,0,0,0,0,0,0,0,0,0,0,0,0,0]           R   \n",
       "\n",
       "       type probability  predicted trace type   predicted type probability  \n",
       "0              0.073345                     A                     0.073345  \n",
       "1              0.073345                     A                     0.073345  \n",
       "2              1.000000                     A                     1.000000  \n",
       "3              1.000000                     A                     1.000000  \n",
       "4              1.000000                     A                     1.000000  \n",
       "...                 ...                   ...                          ...  \n",
       "3895           1.000000                     R                     1.000000  \n",
       "3896           1.000000                     R                     1.000000  \n",
       "3897           1.000000                     R                     1.000000  \n",
       "3898           1.000000                     R                     1.000000  \n",
       "3899           1.000000                     R                     1.000000  \n",
       "\n",
       "[3900 rows x 8 columns]"
      ]
     },
     "execution_count": 2,
     "metadata": {},
     "output_type": "execute_result"
    }
   ],
   "source": [
    "predicted = list()\n",
    "true = list()\n",
    "\n",
    "results_df = pd.read_csv(os.path.join(TEST_DATA_DIR, RESULTS_FILENAME), delimiter=\";\")\n",
    "results_df"
   ]
  },
  {
   "cell_type": "code",
   "execution_count": 8,
   "id": "73da2576-7bc1-4986-a83f-f475d0fc6ad9",
   "metadata": {},
   "outputs": [
    {
     "data": {
      "text/plain": [
       "6"
      ]
     },
     "execution_count": 8,
     "metadata": {},
     "output_type": "execute_result"
    }
   ],
   "source": [
    "len()"
   ]
  },
  {
   "cell_type": "code",
   "execution_count": 3,
   "id": "78cc1d07-14d0-4c64-a8ee-783bc55b84ed",
   "metadata": {},
   "outputs": [
    {
     "data": {
      "text/plain": [
       "Index(['row nr', ' abbadingo trace', ' state sequence', ' score sequence',\n",
       "       ' trace type', ' type probability', ' predicted trace type',\n",
       "       ' predicted type probability'],\n",
       "      dtype='object')"
      ]
     },
     "execution_count": 3,
     "metadata": {},
     "output_type": "execute_result"
    }
   ],
   "source": [
    "results_df.columns"
   ]
  },
  {
   "cell_type": "code",
   "execution_count": 4,
   "id": "0f5908bd-7055-4903-9df8-768a0b06790a",
   "metadata": {},
   "outputs": [],
   "source": [
    "true_types = results_df[\" trace type\"].apply(map_type).to_numpy()\n",
    "predicted_types = results_df[\" predicted trace type\"].apply(map_type).to_numpy()"
   ]
  },
  {
   "cell_type": "code",
   "execution_count": 5,
   "id": "f3d18fea-a4b5-43cf-9acb-c61b12aa3fcd",
   "metadata": {},
   "outputs": [
    {
     "data": {
      "text/plain": [
       "(array([' A', ' R'], dtype=object), array([' A', ' R'], dtype=object))"
      ]
     },
     "execution_count": 5,
     "metadata": {},
     "output_type": "execute_result"
    }
   ],
   "source": [
    "results_df[\" trace type\"].unique(), results_df[\" predicted trace type\"].unique()"
   ]
  },
  {
   "cell_type": "code",
   "execution_count": 6,
   "id": "e27868b3-926a-422c-9aa6-d4a0d990fa4c",
   "metadata": {},
   "outputs": [
    {
     "data": {
      "text/plain": [
       "(array([], dtype=int64),)"
      ]
     },
     "execution_count": 6,
     "metadata": {},
     "output_type": "execute_result"
    }
   ],
   "source": [
    "import numpy as np\n",
    "\n",
    "np.where(results_df[\" trace type\"].to_numpy() == \" 0\")"
   ]
  },
  {
   "cell_type": "code",
   "execution_count": 7,
   "id": "013114fa-5eea-47a7-b8bf-9fd91eaf31c8",
   "metadata": {},
   "outputs": [
    {
     "data": {
      "text/plain": [
       "(array([], dtype=int64),)"
      ]
     },
     "execution_count": 7,
     "metadata": {},
     "output_type": "execute_result"
    }
   ],
   "source": [
    "np.where(results_df[\" predicted trace type\"].to_numpy() == \" 0\")"
   ]
  },
  {
   "cell_type": "code",
   "execution_count": 8,
   "id": "133300f3-24b0-45cf-a998-ac08a49421a7",
   "metadata": {},
   "outputs": [
    {
     "data": {
      "text/plain": [
       "(0.9876923076923076, 0.9877894736842106)"
      ]
     },
     "execution_count": 8,
     "metadata": {},
     "output_type": "execute_result"
    }
   ],
   "source": [
    "from sklearn.metrics import balanced_accuracy_score, accuracy_score\n",
    "\n",
    "accuracy_score(true_types, predicted_types), balanced_accuracy_score(true_types, predicted_types) "
   ]
  },
  {
   "cell_type": "code",
   "execution_count": 9,
   "id": "a811d6ac-95b4-4c19-b0d1-890d14a06169",
   "metadata": {},
   "outputs": [
    {
     "data": {
      "text/html": [
       "<div>\n",
       "<style scoped>\n",
       "    .dataframe tbody tr th:only-of-type {\n",
       "        vertical-align: middle;\n",
       "    }\n",
       "\n",
       "    .dataframe tbody tr th {\n",
       "        vertical-align: top;\n",
       "    }\n",
       "\n",
       "    .dataframe thead th {\n",
       "        text-align: right;\n",
       "    }\n",
       "</style>\n",
       "<table border=\"1\" class=\"dataframe\">\n",
       "  <thead>\n",
       "    <tr style=\"text-align: right;\">\n",
       "      <th></th>\n",
       "      <th>row nr</th>\n",
       "      <th>abbadingo trace</th>\n",
       "      <th>state sequence</th>\n",
       "      <th>score sequence</th>\n",
       "      <th>trace type</th>\n",
       "      <th>type probability</th>\n",
       "      <th>predicted trace type</th>\n",
       "      <th>predicted type probability</th>\n",
       "    </tr>\n",
       "  </thead>\n",
       "  <tbody>\n",
       "  </tbody>\n",
       "</table>\n",
       "</div>"
      ],
      "text/plain": [
       "Empty DataFrame\n",
       "Columns: [row nr,  abbadingo trace,  state sequence,  score sequence,  trace type,  type probability,  predicted trace type,  predicted type probability]\n",
       "Index: []"
      ]
     },
     "execution_count": 9,
     "metadata": {},
     "output_type": "execute_result"
    }
   ],
   "source": [
    "tst = results_df.loc[results_df[' trace type'] == \" 0\"]\n",
    "tst"
   ]
  },
  {
   "cell_type": "code",
   "execution_count": 10,
   "id": "c4dc30db-13b1-4232-80db-06b13829ade3",
   "metadata": {},
   "outputs": [
    {
     "data": {
      "text/plain": [
       " trace type\n",
       "0    3900\n",
       "Name: count, dtype: int64"
      ]
     },
     "execution_count": 10,
     "metadata": {},
     "output_type": "execute_result"
    }
   ],
   "source": [
    "results_df[' trace type'].value_counts()"
   ]
  },
  {
   "cell_type": "code",
   "execution_count": null,
   "id": "c001f0bb-4ad3-4999-9b1d-3041e7294648",
   "metadata": {},
   "outputs": [],
   "source": []
  }
 ],
 "metadata": {
  "kernelspec": {
   "display_name": "Python 3 (ipykernel)",
   "language": "python",
   "name": "python3"
  },
  "language_info": {
   "codemirror_mode": {
    "name": "ipython",
    "version": 3
   },
   "file_extension": ".py",
   "mimetype": "text/x-python",
   "name": "python",
   "nbconvert_exporter": "python",
   "pygments_lexer": "ipython3",
   "version": "3.10.12"
  }
 },
 "nbformat": 4,
 "nbformat_minor": 5
}
