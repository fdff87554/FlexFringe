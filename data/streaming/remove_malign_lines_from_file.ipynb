{
 "cells": [
  {
   "cell_type": "markdown",
   "id": "6d215ba6",
   "metadata": {},
   "source": [
    "# Cleaning the training data"
   ]
  },
  {
   "cell_type": "code",
   "execution_count": 1,
   "id": "1c504aca",
   "metadata": {},
   "outputs": [
    {
     "name": "stdout",
     "output_type": "stream",
     "text": [
      "Analyze_encoded_sequences.ipynb\r\n",
      "analyze_state_machines_metrics.ipynb\r\n",
      "analyze_state_machines_visual.ipynb\r\n",
      "Deeplog.ipynb\r\n",
      "july_week_5_test.dat.encoded.dat.extracted_sequences.dat\r\n",
      "july_week_5_test.dat.labels.txt\r\n",
      "july_week_5_train.dat.encoded.dat.extracted_sequences.dat\r\n",
      "july_week_5_train.dat.encoded.dat.extracted_sequences.dat.ff.final.dot\r\n",
      "july_week_5_train.dat.encoded.dat.extracted_sequences.dat.ff.final.json\r\n",
      "july_week_5_train.dat.labels.txt\r\n",
      "labels_sampled.txt\r\n",
      "model_batch_nr_7000.json.result\r\n",
      "remove_malign_lines_from_file.ipynb\r\n",
      "ROC_curves.ipynb\r\n",
      "sample_sequences.py\r\n",
      "sequences_sampled.dat\r\n",
      "train_set_clean.dat\r\n",
      "train_set_clean.dat.ff.final.dot\r\n",
      "train_set_clean.dat.ff.final.json\r\n"
     ]
    }
   ],
   "source": [
    "!ls"
   ]
  },
  {
   "cell_type": "code",
   "execution_count": 2,
   "id": "9eb6a5e8",
   "metadata": {},
   "outputs": [
    {
     "name": "stdout",
     "output_type": "stream",
     "text": [
      "9828288 july_week_5_train.dat.encoded.dat.extracted_sequences.dat\r\n"
     ]
    }
   ],
   "source": [
    "!wc -l july_week_5_train.dat.encoded.dat.extracted_sequences.dat"
   ]
  },
  {
   "cell_type": "code",
   "execution_count": 3,
   "id": "b37b0fc1",
   "metadata": {},
   "outputs": [],
   "source": [
    "def get_label(line: set, label_to_filter_out=None):\n",
    "    if label_to_filter_out:\n",
    "        # we only want to remove a specific label\n",
    "        if label_to_filter_out in line:\n",
    "            label = \"1\"\n",
    "        else:\n",
    "            label = \"0\"\n",
    "    else:\n",
    "        # we want to remove all malign flows\n",
    "        if len(line) == 1 and \"0\" in line:\n",
    "            label = \"0\"\n",
    "        else:\n",
    "            label = \"1\"\n",
    "    return label"
   ]
  },
  {
   "cell_type": "markdown",
   "id": "840c7a5b",
   "metadata": {},
   "source": [
    "## 1: Clean the train-set"
   ]
  },
  {
   "cell_type": "code",
   "execution_count": 4,
   "id": "45b32ed9",
   "metadata": {},
   "outputs": [],
   "source": [
    "train_filename = \"july_week_5_train.dat.encoded.dat.extracted_sequences.dat\"\n",
    "train_label_filename = \"july_week_5_train.dat.labels.txt\"\n",
    "\n",
    "outf_name = \"train_set_clean.dat\"\n",
    "\n",
    "outf_h = open(outf_name, \"wt\")\n",
    "trainf_h = open(train_filename, \"rt\")\n",
    "\n",
    "header = trainf_h.readline()\n",
    "outf_h.write(header)\n",
    "\n",
    "with open(train_label_filename, \"rt\") as fh:\n",
    "    for i, line in enumerate(fh):\n",
    "        line = set(line.split())\n",
    "        label = get_label(line, label_to_filter_out=None) # filter out all malign sequences\n",
    "        \n",
    "        sequence = trainf_h.readline().strip(\"\\n\").strip(\"\\r\")\n",
    "        if label != \"0\":\n",
    "            continue\n",
    "        outf_h.write(sequence + \"\\n\")\n",
    "        \n",
    "outf_h.close()\n",
    "trainf_h.close()"
   ]
  },
  {
   "cell_type": "code",
   "execution_count": 5,
   "id": "37ebad84",
   "metadata": {},
   "outputs": [
    {
     "name": "stdout",
     "output_type": "stream",
     "text": [
      "9803370 train_set_clean.dat\r\n"
     ]
    }
   ],
   "source": [
    "!wc -l train_set_clean.dat"
   ]
  },
  {
   "cell_type": "markdown",
   "id": "5fb084de",
   "metadata": {},
   "source": [
    "## 2: Clean the test-set"
   ]
  },
  {
   "cell_type": "code",
   "execution_count": 7,
   "id": "bd1a5fd3",
   "metadata": {},
   "outputs": [],
   "source": [
    "train_filename = \"july_week_5_test.dat.encoded.dat.extracted_sequences.dat\"\n",
    "train_label_filename = \"july_week_5_test.dat.labels.txt\"\n",
    "\n",
    "outf_name = \"test_set_clean.dat\"\n",
    "outf_label_name = \"labels_test_set_clean.txt\"\n",
    "\n",
    "outf_h = open(outf_name, \"wt\")\n",
    "trainf_h = open(train_filename, \"rt\")\n",
    "label_outf_h = open(outf_label_name, \"wt\")\n",
    "\n",
    "header = trainf_h.readline()\n",
    "outf_h.write(header)\n",
    "\n",
    "with open(train_label_filename, \"rt\") as fh:\n",
    "    for i, label_line in enumerate(fh):\n",
    "        line = set(label_line.split())\n",
    "        label = get_label(line, label_to_filter_out=\"6\") # filter out sequences containing background flows\n",
    "        \n",
    "        sequence = trainf_h.readline().strip(\"\\n\").strip(\"\\r\")\n",
    "        if label != \"0\":\n",
    "            continue\n",
    "        outf_h.write(sequence + \"\\n\")\n",
    "        label_outf_h.write(label_line.strip(\"\\n\").strip(\"\\r\") + \"\\n\")\n",
    "        \n",
    "outf_h.close()\n",
    "trainf_h.close()\n",
    "label_outf_h.close()"
   ]
  }
 ],
 "metadata": {
  "kernelspec": {
   "display_name": "Python 3 (ipykernel)",
   "language": "python",
   "name": "python3"
  },
  "language_info": {
   "codemirror_mode": {
    "name": "ipython",
    "version": 3
   },
   "file_extension": ".py",
   "mimetype": "text/x-python",
   "name": "python",
   "nbconvert_exporter": "python",
   "pygments_lexer": "ipython3",
   "version": "3.10.9"
  }
 },
 "nbformat": 4,
 "nbformat_minor": 5
}
