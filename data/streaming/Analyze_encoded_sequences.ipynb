{
 "cells": [
  {
   "cell_type": "code",
   "execution_count": 1,
   "id": "e4a8ea90",
   "metadata": {},
   "outputs": [
    {
     "name": "stdout",
     "output_type": "stream",
     "text": [
      "Analyze_encoded_sequences.ipynb\r\n",
      "analyze_state_machines_metrics.ipynb\r\n",
      "analyze_state_machines_visual.ipynb\r\n",
      "Deeplog.ipynb\r\n",
      "july_week_5_test.dat.encoded.dat.extracted_sequences.dat\r\n",
      "july_week_5_test.dat.labels.txt\r\n",
      "july_week_5_train.dat.encoded.dat.extracted_sequences.dat\r\n",
      "july_week_5_train.dat.encoded.dat.extracted_sequences.dat.ff.final.dot\r\n",
      "july_week_5_train.dat.encoded.dat.extracted_sequences.dat.ff.final.json\r\n",
      "july_week_5_train.dat.labels.txt\r\n",
      "labels_sampled.txt\r\n",
      "model_batch_nr_7000.json.result\r\n",
      "ROC_curves.ipynb\r\n",
      "sample_sequences.py\r\n",
      "sequences_sampled.dat\r\n"
     ]
    }
   ],
   "source": [
    "!ls"
   ]
  },
  {
   "cell_type": "code",
   "execution_count": 3,
   "id": "9f16957e",
   "metadata": {},
   "outputs": [
    {
     "name": "stdout",
     "output_type": "stream",
     "text": [
      "9828288 july_week_5_train.dat.encoded.dat.extracted_sequences.dat\n",
      "10288885 july_week_5_test.dat.encoded.dat.extracted_sequences.dat\n"
     ]
    }
   ],
   "source": [
    "!wc -l july_week_5_train.dat.encoded.dat.extracted_sequences.dat\n",
    "!wc -l july_week_5_test.dat.encoded.dat.extracted_sequences.dat"
   ]
  },
  {
   "cell_type": "code",
   "execution_count": 8,
   "id": "5d454986",
   "metadata": {},
   "outputs": [
    {
     "data": {
      "text/plain": [
       "({'0': 9803369, '1': 24918}, [580955, 580956, 580957, 580958, 580959])"
      ]
     },
     "execution_count": 8,
     "metadata": {},
     "output_type": "execute_result"
    }
   ],
   "source": [
    "train_filename = \"july_week_5_train.dat.encoded.dat.extracted_sequences.dat\"\n",
    "test_filename = \"july_week_5_test.dat.encoded.dat.extracted_sequences.dat\"\n",
    "\n",
    "train_label_filename = \"july_week_5_train.dat.labels.txt\"\n",
    "test_label_filename = \"july_week_5_test.dat.labels.txt\"\n",
    "\n",
    "def get_label(line: set):\n",
    "    if len(line) == 1 and \"0\" in line:\n",
    "        label = \"0\"\n",
    "    else:\n",
    "        label = \"1\"\n",
    "    return label\n",
    "\n",
    "def insert_in_dict_counter(label_counter: dict, symbol: str):\n",
    "    if not symbol in label_counter:\n",
    "        label_counter[symbol] = 0\n",
    "    label_counter[symbol] += 1\n",
    "\n",
    "train_labels = {}\n",
    "malign_lines = list()\n",
    "with open(train_label_filename, \"r\") as fh:\n",
    "    for i, line in enumerate(fh):\n",
    "        line = set(line.split())\n",
    "        \n",
    "        label = get_label(line)\n",
    "        insert_in_dict_counter(train_labels, label)\n",
    "        \n",
    "        if label != \"0\":\n",
    "            malign_lines.append(i)\n",
    "train_labels, malign_lines[:5]"
   ]
  },
  {
   "cell_type": "code",
   "execution_count": 9,
   "id": "6ecafa62",
   "metadata": {},
   "outputs": [
    {
     "name": "stdout",
     "output_type": "stream",
     "text": [
      "1 20 113 120 120 113 113 113 113 113 120 120 113 120 120 113 113 113 113 113 113 113\r\n",
      "1 1 115\r\n",
      "1 20 129 171 164 171 171 164 164 115 192 192 192 192 192 115 115 115 115 115 115 115\r\n",
      "1 20 171 164 171 171 164 164 115 192 192 192 192 192 115 115 115 115 115 115 115 192\r\n",
      "1 20 164 171 171 164 164 115 192 192 192 192 192 115 115 115 115 115 115 115 192 192\r\n"
     ]
    }
   ],
   "source": [
    "!sed -n -e 580956,580960p july_week_5_train.dat.encoded.dat.extracted_sequences.dat"
   ]
  },
  {
   "cell_type": "code",
   "execution_count": 10,
   "id": "aa0a11ed",
   "metadata": {},
   "outputs": [
    {
     "name": "stdout",
     "output_type": "stream",
     "text": [
      "6\r\n",
      "6 6 6 6 6 6 6 6 6 6 6 6 6 6 6 6 6 6 6 6\r\n",
      "6 6 6 6 6 6 6 6 6 6 6 6 6 6 6 6 6 6 6 6\r\n",
      "6 6 6 6 6 6 6 6 6 6 6 6 6 6 6 6 6 6 6 6\r\n"
     ]
    }
   ],
   "source": [
    "!sed -n -e 580956,580959p july_week_5_train.dat.labels.txt"
   ]
  },
  {
   "cell_type": "code",
   "execution_count": 16,
   "id": "82440eee",
   "metadata": {},
   "outputs": [
    {
     "data": {
      "text/plain": [
       "{'0': 9474799, '2': 395033, '3': 190474, '6': 33687, '1': 156865, '4': 38102}"
      ]
     },
     "execution_count": 16,
     "metadata": {},
     "output_type": "execute_result"
    }
   ],
   "source": [
    "def count_labels(line: set, label_counter: dict):\n",
    "    if len(line) == 1:\n",
    "        insert_in_dict_counter(label_counter, line.pop())\n",
    "        return\n",
    "    for symbol in line:\n",
    "        if symbol == \"0\":\n",
    "            continue\n",
    "        insert_in_dict_counter(label_counter, symbol)\n",
    "        \n",
    "test_labels = {}\n",
    "with open(test_label_filename, \"r\") as fh:\n",
    "    for i, line in enumerate(fh):\n",
    "        line = set(line.split())\n",
    "        \n",
    "        count_labels(line, test_labels)\n",
    "test_labels"
   ]
  },
  {
   "cell_type": "markdown",
   "id": "dcc35670",
   "metadata": {},
   "source": [
    "## Check the cleaned test-set"
   ]
  },
  {
   "cell_type": "code",
   "execution_count": 18,
   "id": "3f0e12b7",
   "metadata": {},
   "outputs": [
    {
     "data": {
      "text/plain": [
       "{'0': 9474799, '2': 395033, '3': 190474, '1': 156865, '4': 38102}"
      ]
     },
     "execution_count": 18,
     "metadata": {},
     "output_type": "execute_result"
    }
   ],
   "source": [
    "test_label_filename = \"labels_test_set_clean.txt\"\n",
    "\n",
    "test_labels = {}\n",
    "with open(test_label_filename, \"r\") as fh:\n",
    "    for i, line in enumerate(fh):\n",
    "        line = set(line.split())\n",
    "        \n",
    "        count_labels(line, test_labels)\n",
    "test_labels"
   ]
  }
 ],
 "metadata": {
  "kernelspec": {
   "display_name": "Python 3 (ipykernel)",
   "language": "python",
   "name": "python3"
  },
  "language_info": {
   "codemirror_mode": {
    "name": "ipython",
    "version": 3
   },
   "file_extension": ".py",
   "mimetype": "text/x-python",
   "name": "python",
   "nbconvert_exporter": "python",
   "pygments_lexer": "ipython3",
   "version": "3.10.9"
  }
 },
 "nbformat": 4,
 "nbformat_minor": 5
}
