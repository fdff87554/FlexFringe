{
 "cells": [
  {
   "cell_type": "code",
   "execution_count": 13,
   "id": "5814c45e",
   "metadata": {},
   "outputs": [],
   "source": [
    "import os, sys\n",
    "import shutil\n",
    "import subprocess\n",
    "\n",
    "result_dir = \"taysir_results\"\n",
    "if not os.path.isdir(result_dir):\n",
    "    os.mkdir(result_dir)\n",
    "\n",
    "# config\n",
    "nn_script_path = \"source/active_learning/system_under_learning/python/nn_connector_taysir_track_1.py\"\n",
    "ini_path = \"ini/l_sharp.ini\"\n",
    "pred_ini_path = \"ini/predict-count-driven.ini\"\n",
    "\n",
    "# dataset and models\n",
    "path_to_models = \"data/active_learning/test_nn_queries/taysir_competition/track1/models\"\n",
    "path_to_test_sets = \"data/active_learning/test_nn_queries/taysir_competition/track1/test_sets\"\n",
    "path_to_train_sets = \"data/active_learning/test_nn_queries/taysir_competition/track1/datasets\"\n",
    "\n",
    "json_ending = \".ff.final.json\"\n",
    "dot_ending = \".ff.final.dot\"\n",
    "result_ending = \".ff.final.json.result\"\n",
    "\n",
    "def get_start_and_end_symbol(i, path_to_train_sets):\n",
    "    train_set_path = os.path.join(path_to_train_sets, \"1.{}.taysir.valid.words\".format(i))\n",
    "    with open(train_set_path, \"rt\") as f:\n",
    "        _ = f.readline()\n",
    "        line = f.readline()\n",
    "        line = line.strip().split()\n",
    "        start_symbol = line[1]\n",
    "        end_symbol = line[-1]\n",
    "    return start_symbol, end_symbol    "
   ]
  },
  {
   "cell_type": "markdown",
   "id": "8533d3d1",
   "metadata": {},
   "source": [
    "## Train the models"
   ]
  },
  {
   "cell_type": "code",
   "execution_count": null,
   "id": "3d2eec5a",
   "metadata": {},
   "outputs": [
    {
     "name": "stdout",
     "output_type": "stream",
     "text": [
      "Starting training model nr. 1\n"
     ]
    }
   ],
   "source": [
    "for i in range(1, 12):\n",
    "    model_name = \"1.{}.taysir.model\".format(i)\n",
    "    model_path = os.path.join(path_to_models, model_name)\n",
    "    \n",
    "    start_symbol, end_symbol = get_start_and_end_symbol(i, path_to_train_sets)\n",
    "    \n",
    "    print(\"Starting training model nr. {}\".format(i))\n",
    "    command = [\"./flexfringe\", \"--ini={}\".format(ini_path), \"--start_symbol={}\".format(start_symbol), \\\n",
    "               \"--end_symbol={}\".format(end_symbol), \"--aptafile={}\".format(model_path), nn_script_path]\n",
    "    p = subprocess.run(command, stdout=subprocess.PIPE,\n",
    "                                stderr=subprocess.PIPE, universal_newlines=True)\n",
    "    #for outstr in p.stdout:\n",
    "    #    sys.stdout.write(outstr)\n",
    "    for outstr in p.stderr:\n",
    "        sys.stderr.write(outstr)\n",
    "    print(\"Finished training model nr. {}. Starting prediction.\".format(i))\n",
    "    \n",
    "    test_set_name = \"1.{}.taysir.test.combined\".format(i)\n",
    "    test_set_path = os.path.join(path_to_test_sets, test_set_name)\n",
    "    \n",
    "    command = [\"./flexfringe\", \"--ini={}\".format(pred_ini_path), \\\n",
    "               \"--aptafile={}{}\".format(nn_script_path, json_ending), test_set_path]\n",
    "    p = subprocess.run(command, stdout=subprocess.PIPE,\n",
    "                                stderr=subprocess.PIPE, universal_newlines=True)\n",
    "    for outstr in p.stderr:\n",
    "        sys.stderr.write(outstr)\n",
    "    print(\"Finished prediction. Move the files to the folder now.\")\n",
    "    \n",
    "    shutil.move(nn_script_path + json_ending, os.path.join(result_dir, \"taysir_model_{}.json\".format(i)))\n",
    "    shutil.move(nn_script_path + dot_ending, os.path.join(result_dir, \"taysir_model_{}.dot\".format(i)))\n",
    "    shutil.move(nn_script_path + result_ending, os.path.join(result_dir, \"taysir_model_{}.result\".format(i)))\n",
    "    \n",
    "    command = [\"dot\", \"-Tpdf\", os.path.join(result_dir, \"taysir_model_{}.dot\".format(i)), \">>\", \\\n",
    "               os.path.join(result_dir, \"taysir_model_{}.pdf\".format(i))]\n",
    "    p = subprocess.run(command, stdout=subprocess.PIPE,\n",
    "                                stderr=subprocess.PIPE, universal_newlines=True)\n",
    "    for outstr in p.stderr:\n",
    "        sys.stderr.write(outstr)\n",
    "    print(\"Done with model nr. {}\".format(i))"
   ]
  },
  {
   "cell_type": "markdown",
   "id": "9fba5ff3",
   "metadata": {},
   "source": [
    "## Evaluate the models"
   ]
  },
  {
   "cell_type": "code",
   "execution_count": null,
   "id": "1ee13375",
   "metadata": {},
   "outputs": [],
   "source": [
    "def get_types(json_file):\n",
    "    try:\n",
    "        json_content = json.load(open(json_file, \"rt\"))\n",
    "    except FileNotFoundError as e:\n",
    "        raise RuntimeError(f\"Json file not found: {e.filename}.\")\n",
    "    types = {key: i for i, key in enumerate(json_content[\"types\"])}\n",
    "    return types\n",
    "\n",
    "def convert_type(x):\n",
    "    return types[x.strip()]"
   ]
  },
  {
   "cell_type": "code",
   "execution_count": null,
   "id": "f82e724d",
   "metadata": {},
   "outputs": [],
   "source": [
    "import json\n",
    "import pandas as pd\n",
    "\n",
    "import numpy as np\n",
    "from sklearn.metrics import balanced_accuracy_score, accuracy_score\n",
    "\n",
    "\n",
    "result_file = open(os.path.join(result_dir, \"results_summary.txt\"), \"wt\")\n",
    "result_file.write(\"Model nr. {}, Balanced_acc, Acc\\n\")\n",
    "for i in range(1, 12):\n",
    "    label_file = os.path.join(path_to_test_sets, \"1.{}.taysir.test.labels\".format(i))\n",
    "    labels = list()\n",
    "    for i, label in enumerate(open(label_file, \"rt\")):\n",
    "        if i==0:\n",
    "            continue\n",
    "        label = label.strip().strip(\"\\n\").strip()\n",
    "        labels.append(int(label))\n",
    "        \n",
    "    result_file = os.path.join(result_dir, \"taysir_model_{}.result\".format(i))\n",
    "    res_df = pd.read_csv(result_file)\n",
    "    \n",
    "    types = get_types(os.path.join(result_dir, \"taysir_model_{}.json\".format(i)))\n",
    "    res_df[\"types_mapped\"] = res_df[\"predicted trace type\"].map(convert_type)\n",
    "    \n",
    "    bacc = balanced_accuracy_score(np.array(labels), pred[\"types_mapped\"])\n",
    "    acc = accuracy_score(np.array(labels), pred[\"types_mapped\"])\n",
    "    \n",
    "    outstr = \"{}, {}, {}\".format(i, bacc, acc)\n",
    "result_file.close()"
   ]
  }
 ],
 "metadata": {
  "kernelspec": {
   "display_name": "Python 3 (ipykernel)",
   "language": "python",
   "name": "python3"
  },
  "language_info": {
   "codemirror_mode": {
    "name": "ipython",
    "version": 3
   },
   "file_extension": ".py",
   "mimetype": "text/x-python",
   "name": "python",
   "nbconvert_exporter": "python",
   "pygments_lexer": "ipython3",
   "version": "3.10.9"
  }
 },
 "nbformat": 4,
 "nbformat_minor": 5
}
