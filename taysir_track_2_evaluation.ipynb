{
 "cells": [
  {
   "cell_type": "code",
   "execution_count": 1,
   "id": "c8c094f9",
   "metadata": {},
   "outputs": [],
   "source": [
    "import os, sys\n",
    "import shutil\n",
    "import subprocess\n",
    "\n",
    "result_dir = \"taysir_results_track_2\"\n",
    "if not os.path.isdir(result_dir):\n",
    "    os.mkdir(result_dir)\n",
    "\n",
    "# config\n",
    "nn_script_path = \"source/active_learning/system_under_learning/python/nn_connector_taysir_track_1.py\"\n",
    "transformer_script_path = \"source/active_learning/system_under_learning/python/nn_connector_taysir_track_2_transformer.py\"\n",
    "ini_path = \"ini/probabilistic_lsharp.ini\"\n",
    "pred_ini_path = \"ini/predict_probabilistic_lsharp.ini\"\n",
    "\n",
    "# dataset and models\n",
    "path_to_models = \"data/active_learning/test_nn_queries/taysir_competition/track2/models\"\n",
    "path_to_test_sets = \"data/active_learning/test_nn_queries/taysir_competition/track2/test_sets\"\n",
    "path_to_train_sets = \"data/active_learning/test_nn_queries/taysir_competition/track2/datasets\"\n",
    "\n",
    "json_ending = \".ff.final.json\"\n",
    "dot_ending = \".ff.final.dot\"\n",
    "result_ending = \".ff.final.json.result\"\n",
    "\n",
    "def get_start_and_end_symbol(i, path_to_train_sets):\n",
    "    train_set_path = os.path.join(path_to_train_sets, \"2.{}.taysir.valid.words\".format(i))\n",
    "    with open(train_set_path, \"rt\") as f:\n",
    "        _ = f.readline()\n",
    "        line = f.readline()\n",
    "        line = line.strip().split()\n",
    "        start_symbol = line[1]\n",
    "        end_symbol = line[-1]\n",
    "    return start_symbol, end_symbol    "
   ]
  },
  {
   "cell_type": "markdown",
   "id": "29906988",
   "metadata": {},
   "source": [
    "## Train the models"
   ]
  },
  {
   "cell_type": "code",
   "execution_count": 2,
   "id": "8b124a06",
   "metadata": {},
   "outputs": [
    {
     "name": "stdout",
     "output_type": "stream",
     "text": [
      "Starting training model nr. 1. Start-symbol=20, end-symbol=21\n"
     ]
    },
    {
     "ename": "KeyboardInterrupt",
     "evalue": "",
     "output_type": "error",
     "traceback": [
      "\u001b[0;31m---------------------------------------------------------------------------\u001b[0m",
      "\u001b[0;31mKeyboardInterrupt\u001b[0m                         Traceback (most recent call last)",
      "Cell \u001b[0;32mIn[2], line 13\u001b[0m\n\u001b[1;32m     10\u001b[0m \u001b[38;5;28mprint\u001b[39m(\u001b[38;5;124m\"\u001b[39m\u001b[38;5;124mStarting training model nr. \u001b[39m\u001b[38;5;132;01m{}\u001b[39;00m\u001b[38;5;124m. Start-symbol=\u001b[39m\u001b[38;5;132;01m{}\u001b[39;00m\u001b[38;5;124m, end-symbol=\u001b[39m\u001b[38;5;132;01m{}\u001b[39;00m\u001b[38;5;124m\"\u001b[39m\u001b[38;5;241m.\u001b[39mformat(i, start_symbol, end_symbol))\n\u001b[1;32m     11\u001b[0m command \u001b[38;5;241m=\u001b[39m [\u001b[38;5;124m\"\u001b[39m\u001b[38;5;124m./flexfringe\u001b[39m\u001b[38;5;124m\"\u001b[39m, \u001b[38;5;124m\"\u001b[39m\u001b[38;5;124m--ini=\u001b[39m\u001b[38;5;132;01m{}\u001b[39;00m\u001b[38;5;124m\"\u001b[39m\u001b[38;5;241m.\u001b[39mformat(ini_path), \u001b[38;5;124m\"\u001b[39m\u001b[38;5;124m--start_symbol=\u001b[39m\u001b[38;5;132;01m{}\u001b[39;00m\u001b[38;5;124m\"\u001b[39m\u001b[38;5;241m.\u001b[39mformat(start_symbol), \\\n\u001b[1;32m     12\u001b[0m            \u001b[38;5;124m\"\u001b[39m\u001b[38;5;124m--end_symbol=\u001b[39m\u001b[38;5;132;01m{}\u001b[39;00m\u001b[38;5;124m\"\u001b[39m\u001b[38;5;241m.\u001b[39mformat(end_symbol), \u001b[38;5;124m\"\u001b[39m\u001b[38;5;124m--aptafile=\u001b[39m\u001b[38;5;132;01m{}\u001b[39;00m\u001b[38;5;124m\"\u001b[39m\u001b[38;5;241m.\u001b[39mformat(model_path), tmp_script_path]\n\u001b[0;32m---> 13\u001b[0m p \u001b[38;5;241m=\u001b[39m \u001b[43msubprocess\u001b[49m\u001b[38;5;241;43m.\u001b[39;49m\u001b[43mrun\u001b[49m\u001b[43m(\u001b[49m\u001b[43mcommand\u001b[49m\u001b[43m,\u001b[49m\u001b[43m \u001b[49m\u001b[43mstdout\u001b[49m\u001b[38;5;241;43m=\u001b[39;49m\u001b[43msubprocess\u001b[49m\u001b[38;5;241;43m.\u001b[39;49m\u001b[43mPIPE\u001b[49m\u001b[43m,\u001b[49m\n\u001b[1;32m     14\u001b[0m \u001b[43m                            \u001b[49m\u001b[43mstderr\u001b[49m\u001b[38;5;241;43m=\u001b[39;49m\u001b[43msubprocess\u001b[49m\u001b[38;5;241;43m.\u001b[39;49m\u001b[43mPIPE\u001b[49m\u001b[43m,\u001b[49m\u001b[43m \u001b[49m\u001b[43muniversal_newlines\u001b[49m\u001b[38;5;241;43m=\u001b[39;49m\u001b[38;5;28;43;01mTrue\u001b[39;49;00m\u001b[43m)\u001b[49m\n\u001b[1;32m     15\u001b[0m \u001b[38;5;28;01mfor\u001b[39;00m outstr \u001b[38;5;129;01min\u001b[39;00m p\u001b[38;5;241m.\u001b[39mstdout:\n\u001b[1;32m     16\u001b[0m     sys\u001b[38;5;241m.\u001b[39mstdout\u001b[38;5;241m.\u001b[39mwrite(outstr)\n",
      "File \u001b[0;32m~/anaconda3/lib/python3.10/subprocess.py:505\u001b[0m, in \u001b[0;36mrun\u001b[0;34m(input, capture_output, timeout, check, *popenargs, **kwargs)\u001b[0m\n\u001b[1;32m    503\u001b[0m \u001b[38;5;28;01mwith\u001b[39;00m Popen(\u001b[38;5;241m*\u001b[39mpopenargs, \u001b[38;5;241m*\u001b[39m\u001b[38;5;241m*\u001b[39mkwargs) \u001b[38;5;28;01mas\u001b[39;00m process:\n\u001b[1;32m    504\u001b[0m     \u001b[38;5;28;01mtry\u001b[39;00m:\n\u001b[0;32m--> 505\u001b[0m         stdout, stderr \u001b[38;5;241m=\u001b[39m \u001b[43mprocess\u001b[49m\u001b[38;5;241;43m.\u001b[39;49m\u001b[43mcommunicate\u001b[49m\u001b[43m(\u001b[49m\u001b[38;5;28;43minput\u001b[39;49m\u001b[43m,\u001b[49m\u001b[43m \u001b[49m\u001b[43mtimeout\u001b[49m\u001b[38;5;241;43m=\u001b[39;49m\u001b[43mtimeout\u001b[49m\u001b[43m)\u001b[49m\n\u001b[1;32m    506\u001b[0m     \u001b[38;5;28;01mexcept\u001b[39;00m TimeoutExpired \u001b[38;5;28;01mas\u001b[39;00m exc:\n\u001b[1;32m    507\u001b[0m         process\u001b[38;5;241m.\u001b[39mkill()\n",
      "File \u001b[0;32m~/anaconda3/lib/python3.10/subprocess.py:1154\u001b[0m, in \u001b[0;36mPopen.communicate\u001b[0;34m(self, input, timeout)\u001b[0m\n\u001b[1;32m   1151\u001b[0m     endtime \u001b[38;5;241m=\u001b[39m \u001b[38;5;28;01mNone\u001b[39;00m\n\u001b[1;32m   1153\u001b[0m \u001b[38;5;28;01mtry\u001b[39;00m:\n\u001b[0;32m-> 1154\u001b[0m     stdout, stderr \u001b[38;5;241m=\u001b[39m \u001b[38;5;28;43mself\u001b[39;49m\u001b[38;5;241;43m.\u001b[39;49m\u001b[43m_communicate\u001b[49m\u001b[43m(\u001b[49m\u001b[38;5;28;43minput\u001b[39;49m\u001b[43m,\u001b[49m\u001b[43m \u001b[49m\u001b[43mendtime\u001b[49m\u001b[43m,\u001b[49m\u001b[43m \u001b[49m\u001b[43mtimeout\u001b[49m\u001b[43m)\u001b[49m\n\u001b[1;32m   1155\u001b[0m \u001b[38;5;28;01mexcept\u001b[39;00m \u001b[38;5;167;01mKeyboardInterrupt\u001b[39;00m:\n\u001b[1;32m   1156\u001b[0m     \u001b[38;5;66;03m# https://bugs.python.org/issue25942\u001b[39;00m\n\u001b[1;32m   1157\u001b[0m     \u001b[38;5;66;03m# See the detailed comment in .wait().\u001b[39;00m\n\u001b[1;32m   1158\u001b[0m     \u001b[38;5;28;01mif\u001b[39;00m timeout \u001b[38;5;129;01mis\u001b[39;00m \u001b[38;5;129;01mnot\u001b[39;00m \u001b[38;5;28;01mNone\u001b[39;00m:\n",
      "File \u001b[0;32m~/anaconda3/lib/python3.10/subprocess.py:2005\u001b[0m, in \u001b[0;36mPopen._communicate\u001b[0;34m(self, input, endtime, orig_timeout)\u001b[0m\n\u001b[1;32m   1998\u001b[0m     \u001b[38;5;28mself\u001b[39m\u001b[38;5;241m.\u001b[39m_check_timeout(endtime, orig_timeout,\n\u001b[1;32m   1999\u001b[0m                         stdout, stderr,\n\u001b[1;32m   2000\u001b[0m                         skip_check_and_raise\u001b[38;5;241m=\u001b[39m\u001b[38;5;28;01mTrue\u001b[39;00m)\n\u001b[1;32m   2001\u001b[0m     \u001b[38;5;28;01mraise\u001b[39;00m \u001b[38;5;167;01mRuntimeError\u001b[39;00m(  \u001b[38;5;66;03m# Impossible :)\u001b[39;00m\n\u001b[1;32m   2002\u001b[0m         \u001b[38;5;124m'\u001b[39m\u001b[38;5;124m_check_timeout(..., skip_check_and_raise=True) \u001b[39m\u001b[38;5;124m'\u001b[39m\n\u001b[1;32m   2003\u001b[0m         \u001b[38;5;124m'\u001b[39m\u001b[38;5;124mfailed to raise TimeoutExpired.\u001b[39m\u001b[38;5;124m'\u001b[39m)\n\u001b[0;32m-> 2005\u001b[0m ready \u001b[38;5;241m=\u001b[39m \u001b[43mselector\u001b[49m\u001b[38;5;241;43m.\u001b[39;49m\u001b[43mselect\u001b[49m\u001b[43m(\u001b[49m\u001b[43mtimeout\u001b[49m\u001b[43m)\u001b[49m\n\u001b[1;32m   2006\u001b[0m \u001b[38;5;28mself\u001b[39m\u001b[38;5;241m.\u001b[39m_check_timeout(endtime, orig_timeout, stdout, stderr)\n\u001b[1;32m   2008\u001b[0m \u001b[38;5;66;03m# XXX Rewrite these to use non-blocking I/O on the file\u001b[39;00m\n\u001b[1;32m   2009\u001b[0m \u001b[38;5;66;03m# objects; they are no longer using C stdio!\u001b[39;00m\n",
      "File \u001b[0;32m~/anaconda3/lib/python3.10/selectors.py:416\u001b[0m, in \u001b[0;36m_PollLikeSelector.select\u001b[0;34m(self, timeout)\u001b[0m\n\u001b[1;32m    414\u001b[0m ready \u001b[38;5;241m=\u001b[39m []\n\u001b[1;32m    415\u001b[0m \u001b[38;5;28;01mtry\u001b[39;00m:\n\u001b[0;32m--> 416\u001b[0m     fd_event_list \u001b[38;5;241m=\u001b[39m \u001b[38;5;28;43mself\u001b[39;49m\u001b[38;5;241;43m.\u001b[39;49m\u001b[43m_selector\u001b[49m\u001b[38;5;241;43m.\u001b[39;49m\u001b[43mpoll\u001b[49m\u001b[43m(\u001b[49m\u001b[43mtimeout\u001b[49m\u001b[43m)\u001b[49m\n\u001b[1;32m    417\u001b[0m \u001b[38;5;28;01mexcept\u001b[39;00m \u001b[38;5;167;01mInterruptedError\u001b[39;00m:\n\u001b[1;32m    418\u001b[0m     \u001b[38;5;28;01mreturn\u001b[39;00m ready\n",
      "\u001b[0;31mKeyboardInterrupt\u001b[0m: "
     ]
    }
   ],
   "source": [
    "for i in range(1, 10):\n",
    "        \n",
    "    tmp_script_path = transformer_script_path if i==10 else nn_script_path\n",
    "    \n",
    "    model_name = \"2.{}.taysir.model\".format(i)\n",
    "    model_path = os.path.join(path_to_models, model_name)\n",
    "    \n",
    "    start_symbol, end_symbol = get_start_and_end_symbol(i, path_to_train_sets)\n",
    "    \n",
    "    print(\"Starting training model nr. {}. Start-symbol={}, end-symbol={}\".format(i, start_symbol, end_symbol))\n",
    "    command = [\"./flexfringe\", \"--ini={}\".format(ini_path), \"--start_symbol={}\".format(start_symbol), \\\n",
    "               \"--end_symbol={}\".format(end_symbol), \"--aptafile={}\".format(model_path), tmp_script_path]\n",
    "    p = subprocess.run(command, stdout=subprocess.PIPE,\n",
    "                                stderr=subprocess.PIPE, universal_newlines=True)\n",
    "    for outstr in p.stdout:\n",
    "        sys.stdout.write(outstr)\n",
    "    for outstr in p.stderr:\n",
    "        sys.stderr.write(outstr)\n",
    "    print(\"Finished training model nr. {}. Starting prediction.\".format(i))\n",
    "    \n",
    "    test_set_name = \"2.{}.taysir.test.combined\".format(i)\n",
    "    test_set_path = os.path.join(path_to_test_sets, test_set_name)\n",
    "    command = [\"./flexfringe\", \"--ini={}\".format(pred_ini_path), \\\n",
    "               \"--aptafile={}{}\".format(tmp_script_path, json_ending), test_set_path]\n",
    "    p = subprocess.run(command, stdout=subprocess.PIPE,\n",
    "                                stderr=subprocess.PIPE, universal_newlines=True)\n",
    "    for outstr in p.stderr:\n",
    "        sys.stderr.write(outstr)\n",
    "    print(\"Finished prediction. Move the files to the folder now.\")\n",
    "        \n",
    "    shutil.move(tmp_script_path + json_ending, os.path.join(result_dir, \"taysir_model_{}.json\".format(i)))\n",
    "    shutil.move(tmp_script_path + dot_ending, os.path.join(result_dir, \"taysir_model_{}.dot\".format(i)))\n",
    "    shutil.move(tmp_script_path + result_ending, os.path.join(result_dir, \"taysir_model_{}.result\".format(i)))\n",
    "    \n",
    "    #command = [\"dot\", \"-Tpdf\", os.path.join(result_dir, \"taysir_model_{}.dot\".format(i)), \">>\", \\\n",
    "    #           os.path.join(result_dir, \"taysir_model_{}.pdf\".format(i))]\n",
    "    #p = subprocess.run(command, stdout=subprocess.PIPE,\n",
    "    #                            stderr=subprocess.PIPE, universal_newlines=True)\n",
    "    #for outstr in p.stderr:\n",
    "    #    sys.stderr.write(outstr)\n",
    "    print(\"Done with model nr. {}\".format(i))"
   ]
  },
  {
   "cell_type": "markdown",
   "id": "4475517d",
   "metadata": {},
   "source": [
    "## Evaluate the models"
   ]
  },
  {
   "cell_type": "code",
   "execution_count": 3,
   "id": "b8cc9ecc",
   "metadata": {},
   "outputs": [],
   "source": [
    "def get_score(s: str):\n",
    "    res = 1\n",
    "    for value_str in s.strip( \"'[] \" ).split(\",\"):\n",
    "        res *= float(value_str)\n",
    "    return res"
   ]
  },
  {
   "cell_type": "code",
   "execution_count": 4,
   "id": "7042b1bb",
   "metadata": {},
   "outputs": [
    {
     "name": "stdout",
     "output_type": "stream",
     "text": [
      "Predicting model 1\n",
      "nan\n"
     ]
    }
   ],
   "source": [
    "import json\n",
    "import pandas as pd\n",
    "\n",
    "import numpy as np\n",
    "from sklearn.metrics import balanced_accuracy_score, accuracy_score\n",
    "\n",
    "\n",
    "summary_fh = open(os.path.join(result_dir, \"results_summary.txt\"), \"wt\")\n",
    "summary_fh.write(\"Model nr. {}, Mean, Sum, Max, MSE\\n\")\n",
    "for i in range(1, 2):\n",
    "    print(\"Predicting model {}\".format(i))\n",
    "    label_file = os.path.join(path_to_test_sets, \"2.{}.taysir.test.labels\".format(i))\n",
    "    labels = list()\n",
    "    for j, label in enumerate(open(label_file, \"rt\")):\n",
    "        if j==0:\n",
    "            continue\n",
    "        label = label.strip().strip(\"\\n\").strip()\n",
    "        labels.append(float(label))\n",
    "        \n",
    "    result_file = os.path.join(result_dir, \"taysir_model_{}.result\".format(i))\n",
    "    res_df = pd.read_csv(result_file, delimiter=\";\")\n",
    "        \n",
    "    res_df[\"total_scores\"] = res_df[\" score sequence\"].map(get_score)\n",
    "    \n",
    "    diffs = np.abs(np.array(res_df[\"total_scores\"]).reshape(-1) - np.array(labels).reshape(-1))\n",
    "    mse = np.sqrt(np.sum(diffs * diffs)) / diffs.shape[0]\n",
    "    print(mse)\n",
    "    outstr = \"{}, {}, {}, {}, {}\\n\".format(i, np.mean(diffs), np.sum(diffs), np.max(diffs), mse)\n",
    "    summary_fh.write(outstr)\n",
    "    summary_fh.flush()\n",
    "summary_fh.close()"
   ]
  },
  {
   "cell_type": "code",
   "execution_count": null,
   "id": "23399b13",
   "metadata": {},
   "outputs": [],
   "source": []
  }
 ],
 "metadata": {
  "kernelspec": {
   "display_name": "Python 3 (ipykernel)",
   "language": "python",
   "name": "python3"
  },
  "language_info": {
   "codemirror_mode": {
    "name": "ipython",
    "version": 3
   },
   "file_extension": ".py",
   "mimetype": "text/x-python",
   "name": "python",
   "nbconvert_exporter": "python",
   "pygments_lexer": "ipython3",
   "version": "3.10.9"
  }
 },
 "nbformat": 4,
 "nbformat_minor": 5
}
