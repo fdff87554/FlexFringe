{
 "cells": [
  {
   "cell_type": "code",
   "execution_count": 1,
   "id": "c8c094f9",
   "metadata": {},
   "outputs": [],
   "source": [
    "import os, sys\n",
    "import shutil\n",
    "import subprocess\n",
    "\n",
    "RANGE = [10, 10]\n",
    "\n",
    "result_dir = \"taysir_results_track_2\"\n",
    "if not os.path.isdir(result_dir):\n",
    "    os.mkdir(result_dir)\n",
    "\n",
    "# config\n",
    "nn_script_path = \"source/active_learning/system_under_learning/python/nn_connector_taysir_track_1.py\"\n",
    "transformer_script_path = \"source/active_learning/system_under_learning/python/nn_connector_taysir_track_2_transformer.py\"\n",
    "ini_path = \"ini/probabilistic_lsharp.ini\"\n",
    "pred_ini_path = \"ini/predict_probabilistic_lsharp.ini\"\n",
    "\n",
    "# dataset and models\n",
    "path_to_models = \"data/active_learning/test_nn_queries/taysir_competition/track2/models\"\n",
    "path_to_test_sets = \"data/active_learning/test_nn_queries/taysir_competition/track2/test_sets\"\n",
    "path_to_train_sets = \"data/active_learning/test_nn_queries/taysir_competition/track2/datasets\"\n",
    "\n",
    "json_ending = \".ff.final.json\"\n",
    "dot_ending = \".ff.final.dot\"\n",
    "result_ending = \".ff.final.json.result\"\n",
    "\n",
    "def get_start_and_end_symbol(i, path_to_train_sets):\n",
    "    train_set_path = os.path.join(path_to_train_sets, \"2.{}.taysir.valid.words\".format(i))\n",
    "    with open(train_set_path, \"rt\") as f:\n",
    "        _ = f.readline()\n",
    "        line = f.readline()\n",
    "        line = line.strip().split()\n",
    "        start_symbol = line[1]\n",
    "        end_symbol = line[-1]\n",
    "    return start_symbol, end_symbol    "
   ]
  },
  {
   "cell_type": "markdown",
   "id": "29906988",
   "metadata": {},
   "source": [
    "## Train the models"
   ]
  },
  {
   "cell_type": "code",
   "execution_count": null,
   "id": "8b124a06",
   "metadata": {},
   "outputs": [
    {
     "name": "stdout",
     "output_type": "stream",
     "text": [
      "Starting training model nr. 10. Start-symbol=33, end-symbol=34\n"
     ]
    }
   ],
   "source": [
    "for i in range(RANGE[0], RANGE[-1]+1):\n",
    "        \n",
    "    tmp_script_path = transformer_script_path if i==10 else nn_script_path\n",
    "    \n",
    "    model_name = \"2.{}.taysir.model\".format(i)\n",
    "    model_path = os.path.join(path_to_models, model_name)\n",
    "    \n",
    "    start_symbol, end_symbol = get_start_and_end_symbol(i, path_to_train_sets)\n",
    "    \n",
    "    print(\"Starting training model nr. {}. Start-symbol={}, end-symbol={}\".format(i, start_symbol, end_symbol))\n",
    "    command = [\"./flexfringe\", \"--ini={}\".format(ini_path), \"--start_symbol={}\".format(start_symbol), \\\n",
    "               \"--end_symbol={}\".format(end_symbol), \"--aptafile={}\".format(model_path), tmp_script_path]\n",
    "    p = subprocess.run(command, stdout=subprocess.PIPE,\n",
    "                                stderr=subprocess.PIPE, universal_newlines=True)\n",
    "    for outstr in p.stdout:\n",
    "        sys.stdout.write(outstr)\n",
    "    for outstr in p.stderr:\n",
    "        sys.stderr.write(outstr)\n",
    "    print(\"Finished training model nr. {}. Starting prediction.\".format(i))\n",
    "    \n",
    "    test_set_name = \"2.{}.taysir.test.combined\".format(i)\n",
    "    test_set_path = os.path.join(path_to_test_sets, test_set_name)\n",
    "    command = [\"./flexfringe\", \"--ini={}\".format(pred_ini_path), \\\n",
    "               \"--aptafile={}{}\".format(tmp_script_path, json_ending), test_set_path]\n",
    "    p = subprocess.run(command, stdout=subprocess.PIPE,\n",
    "                                stderr=subprocess.PIPE, universal_newlines=True)\n",
    "    for outstr in p.stderr:\n",
    "        sys.stderr.write(outstr)\n",
    "    print(\"Finished prediction. Move the files to the folder now.\")\n",
    "        \n",
    "    shutil.move(tmp_script_path + json_ending, os.path.join(result_dir, \"taysir_model_{}.json\".format(i)))\n",
    "    shutil.move(tmp_script_path + dot_ending, os.path.join(result_dir, \"taysir_model_{}.dot\".format(i)))\n",
    "    shutil.move(tmp_script_path + result_ending, os.path.join(result_dir, \"taysir_model_{}.result\".format(i)))\n",
    "    \n",
    "    #command = [\"dot\", \"-Tpdf\", os.path.join(result_dir, \"taysir_model_{}.dot\".format(i)), \">>\", \\\n",
    "    #           os.path.join(result_dir, \"taysir_model_{}.pdf\".format(i))]\n",
    "    #p = subprocess.run(command, stdout=subprocess.PIPE,\n",
    "    #                            stderr=subprocess.PIPE, universal_newlines=True)\n",
    "    #for outstr in p.stderr:\n",
    "    #    sys.stderr.write(outstr)\n",
    "    print(\"Done with model nr. {}\".format(i))"
   ]
  },
  {
   "cell_type": "markdown",
   "id": "4475517d",
   "metadata": {},
   "source": [
    "## Evaluate the models"
   ]
  },
  {
   "cell_type": "code",
   "execution_count": null,
   "id": "b8cc9ecc",
   "metadata": {},
   "outputs": [],
   "source": [
    "def get_score(s: str):\n",
    "    res = 1\n",
    "    for value_str in s.strip( \"'[] \" ).split(\",\"):\n",
    "        res *= float(value_str)\n",
    "    return res"
   ]
  },
  {
   "cell_type": "code",
   "execution_count": null,
   "id": "7042b1bb",
   "metadata": {},
   "outputs": [],
   "source": [
    "import json\n",
    "import pandas as pd\n",
    "\n",
    "import numpy as np\n",
    "from sklearn.metrics import balanced_accuracy_score, accuracy_score\n",
    "\n",
    "\n",
    "summary_fh = open(os.path.join(result_dir, \"results_summary.txt\"), \"wt\")\n",
    "summary_fh.write(\"Model nr. {}, Mean, Sum, Max, MSE\\n\")\n",
    "for i in range(RANGE[0], RANGE[-1]+1):\n",
    "    print(\"Predicting model {}\".format(i))\n",
    "    label_file = os.path.join(path_to_test_sets, \"2.{}.taysir.test.labels\".format(i))\n",
    "    labels = list()\n",
    "    for j, label in enumerate(open(label_file, \"rt\")):\n",
    "        if j==0:\n",
    "            continue\n",
    "        label = label.strip().strip(\"\\n\").strip()\n",
    "        labels.append(float(label))\n",
    "        \n",
    "    result_file = os.path.join(result_dir, \"taysir_model_{}.result\".format(i))\n",
    "    res_df = pd.read_csv(result_file, delimiter=\";\")\n",
    "        \n",
    "    res_df[\"total_scores\"] = res_df[\" score sequence\"].map(get_score)\n",
    "    \n",
    "    diffs = np.abs(np.array(res_df[\"total_scores\"]).reshape(-1) - np.array(labels).reshape(-1))\n",
    "    mse = np.sqrt(np.sum(diffs * diffs)) / diffs.shape[0]\n",
    "    print(mse)\n",
    "    outstr = \"{}, {}, {}, {}, {}\\n\".format(i, np.mean(diffs), np.sum(diffs), np.max(diffs), mse)\n",
    "    summary_fh.write(outstr)\n",
    "    summary_fh.flush()\n",
    "summary_fh.close()"
   ]
  }
 ],
 "metadata": {
  "kernelspec": {
   "display_name": "Python 3 (ipykernel)",
   "language": "python",
   "name": "python3"
  },
  "language_info": {
   "codemirror_mode": {
    "name": "ipython",
    "version": 3
   },
   "file_extension": ".py",
   "mimetype": "text/x-python",
   "name": "python",
   "nbconvert_exporter": "python",
   "pygments_lexer": "ipython3",
   "version": "3.10.9"
  }
 },
 "nbformat": 4,
 "nbformat_minor": 5
}
